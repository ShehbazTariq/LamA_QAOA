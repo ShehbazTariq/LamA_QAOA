{
 "cells": [
  {
   "cell_type": "markdown",
   "id": "first-orientation",
   "metadata": {},
   "source": [
    "$\n",
    "\\newcommand{\\R}{\\mathbb{R}}\n",
    "\\newcommand{\\C}{\\mathbb{C}}\n",
    "%\n",
    "\\newcommand{\\ket}[1]{\\left\\vert #1 \\right\\rangle}\n",
    "\\newcommand{\\bra}[1]{\\left\\langle #1 \\right\\vert}\n",
    "\\newcommand{\\braket}[1]{\\left\\langle #1 \\right\\rangle}\n",
    "\\newcommand{\\pmat}[1]{\\begin{pmatrix}#1\\end{pmatrix}}\n",
    "$"
   ]
  },
  {
   "cell_type": "markdown",
   "id": "important-helping",
   "metadata": {},
   "source": [
    "---\n",
    "\n",
    "***This notebook is part of the project [SEQUOIA](https://websites.fraunhofer.de/sequoia/) of the [Competence Center Quantum Computing Baden-Württemberg](https://www.iaf.fraunhofer.de/en/networkers/KQC.html).***\n",
    "\n",
    "---"
   ]
  },
  {
   "cell_type": "markdown",
   "id": "d021428e",
   "metadata": {},
   "source": [
    "<img src=\"images/sequoia_logo.png\" />\n",
    "\n",
    "<br>\n",
    "<br>"
   ]
  },
  {
   "cell_type": "markdown",
   "id": "acute-firewall",
   "metadata": {},
   "source": [
    "# SEQUOIA DEMONSTRATOR  <a class=\"tocSkip\"/>\n",
    "\n",
    "## Energy Use Case: Optimization of Charging Schedules for Electric Cars  <a class=\"tocSkip\"/>\n"
   ]
  },
  {
   "cell_type": "markdown",
   "id": "7798aaef",
   "metadata": {},
   "source": [
    "***Author: Dr. Andreas Sturm, Fraunhofer IAO, andreas.sturm@iao.fraunhofer.de***"
   ]
  },
  {
   "cell_type": "markdown",
   "id": "6810bcc5",
   "metadata": {},
   "source": [
    "---\n",
    "# Notebook 1 <a class=\"tocSkip\"/>\n",
    "---"
   ]
  },
  {
   "cell_type": "markdown",
   "id": "intense-stevens",
   "metadata": {},
   "source": [
    "# Real World Problem"
   ]
  },
  {
   "cell_type": "markdown",
   "id": "ca7e871a",
   "metadata": {},
   "source": [
    "The project **LamA - Laden am Arbeitsplatz** (english: charging at work) is a joint project led by Fraunhofer IAO and funded by the federal government of Germany as part of the “Clean Air 2017-2020” immediate action programme. Among others the goal is to build up charging infrastructure for electric vehicles at 37 institutes of the Fraunhofer society across Germany. (See futher [link1](https://www.lama.zone/), [link2](https://www.iao.fraunhofer.de/de/forschung/smart-energy-and-mobility-solutions/lama-laden-am-arbeitsplatz.html), [link3](https://www.ieg.fraunhofer.de/en/references/lama.html))."
   ]
  },
  {
   "cell_type": "markdown",
   "id": "1a9dedf9",
   "metadata": {},
   "source": [
    "In this demonstrator we aim to provide an optimal charging schedule for this charging infrastructure. Clearly, such an optimization can be implemented with respect to different aspects, e.g. by involving weather predictions we could optimize the schedule such that as much clean energy (sun, wind, etc.) as possible is used. Or, considering that the price of energy from the public electricity grid varies over time and the electric vehicles are charged during working hours, i.e. around a fairly long period of about 8 hours, we could optimize the schedule such that it takes energy from the grid when it is the cheapest. Having in mind that quantum computing is currently in the NISQ (noisy intermediate scale quantum) era we decided to consider the aspect of **minimizing the peak load** that is taken from the electricity grid. This reduces costs, relieves the public electricity grid and - as we will see - can be reduced to a meaningful proof of concept problem that can be executed on todays available quantum computers."
   ]
  },
  {
   "cell_type": "markdown",
   "id": "special-probe",
   "metadata": {},
   "source": [
    "# Proof of Concept (POC) Model"
   ]
  },
  {
   "cell_type": "markdown",
   "id": "c5e59eb8",
   "metadata": {},
   "source": [
    "Let us begin by introducing the POC model that we will consider in this demonstrator. It is an **optimization task** where we are **given**\n",
    "- the number of cars that have to be charged,\n",
    "- the arrival and departure times of these cars, and\n",
    "- the required energies they need to charge."
   ]
  },
  {
   "cell_type": "markdown",
   "id": "e0894e55",
   "metadata": {},
   "source": [
    "Our **aim** is to"
   ]
  },
  {
   "cell_type": "markdown",
   "id": "060c9ddc",
   "metadata": {
    "cell_style": "center"
   },
   "source": [
    "- minimize the peak load taken from the electricity grid,\n",
    "- meet the time restrictions imposed by the arrival and departure times, and\n",
    "- charge the correct amount of energies."
   ]
  },
  {
   "cell_type": "markdown",
   "id": "e5d5d2d3",
   "metadata": {},
   "source": [
    "In order to make this optimization task feasible for a NISQ computer we make the following **simplifications**: "
   ]
  },
  {
   "cell_type": "markdown",
   "id": "ac6d17eb",
   "metadata": {
    "cell_style": "center"
   },
   "source": [
    "- We work with discrete time slots and\n",
    "- we assume that we can only charge on discrete loading levels."
   ]
  },
  {
   "cell_type": "markdown",
   "id": "f0a05540",
   "metadata": {},
   "source": [
    "Let us illustrate this rather abstract optimization task with a simple example."
   ]
  },
  {
   "cell_type": "markdown",
   "id": "banner-battery",
   "metadata": {},
   "source": [
    "## Example"
   ]
  },
  {
   "cell_type": "markdown",
   "id": "dangerous-second",
   "metadata": {},
   "source": [
    "We consider a charging station with 6 charging levels (i.e. levels $0$, $1$, ..., $5$) and $7$ available time slots (i.e. slots $0$, $1$, ..., $6$). Moreover, le us take two cars (named car_green and car_orange), where\n",
    "- car_green is at the charging station at time slots $0$, ..., $3$ and needs to charge $8$ energy units\n",
    "- car_orange is at the charging station at time slots $1$,..., $6$ and needs to charge $12$ energy units"
   ]
  },
  {
   "cell_type": "markdown",
   "id": "young-poster",
   "metadata": {},
   "source": [
    "<img src=\"images/notebook_1_poc_example.png\" width=\"700\" />\n",
    "<br>"
   ]
  },
  {
   "cell_type": "markdown",
   "id": "48288eff",
   "metadata": {},
   "source": [
    "An optimzation process for the above situation could yield the following charging schedules:"
   ]
  },
  {
   "cell_type": "markdown",
   "id": "5d8719f3",
   "metadata": {
    "cell_style": "center"
   },
   "source": [
    "Example 1: A non-feasible schedule (energy constraint violated)\n",
    "\n",
    "<br>\n",
    "\n",
    "<img src=\"images/notebook_1_poc_example_non_feasible.png\" width=300 >"
   ]
  },
  {
   "cell_type": "markdown",
   "id": "f8983c28",
   "metadata": {
    "cell_style": "center"
   },
   "source": [
    "Example 2: A non-feasible schedule (time constraint violated)\n",
    "\n",
    "<br>\n",
    "\n",
    "<img src=\"images/notebook_1_poc_example_non_feasible_2.png\" width=300 />"
   ]
  },
  {
   "cell_type": "markdown",
   "id": "unsigned-connectivity",
   "metadata": {
    "cell_style": "center"
   },
   "source": [
    "Example 3: A non-optimal schedule (peak load not as low as possible)\n",
    "\n",
    "<br>\n",
    "\n",
    "<img src=\"images/notebook_1_poc_example_non_optimal.png\" width=300 />"
   ]
  },
  {
   "cell_type": "markdown",
   "id": "failing-oxygen",
   "metadata": {
    "cell_style": "center"
   },
   "source": [
    "Example 4: An optimal solution\n",
    "\n",
    "<br>\n",
    "\n",
    "<img src=\"images/notebook_1_poc_example_optimal.png\" width=300 />"
   ]
  },
  {
   "cell_type": "markdown",
   "id": "c02a02a4",
   "metadata": {},
   "source": [
    "Our next step is to find a formal mathematical description for our POC model."
   ]
  },
  {
   "cell_type": "markdown",
   "id": "aging-terminology",
   "metadata": {},
   "source": [
    "# Mathematical Description of POC Model"
   ]
  },
  {
   "cell_type": "markdown",
   "id": "adult-testimony",
   "metadata": {},
   "source": [
    "## Notation"
   ]
  },
  {
   "cell_type": "markdown",
   "id": "fluid-following",
   "metadata": {
    "cell_style": "center"
   },
   "source": [
    "In the further we use the following notation:\n",
    "- $T$: number of time slots $\\rightarrow$ we have time slots $0, 1, \\dots, T-1$\n",
    "- $L$: number of charging levels $\\rightarrow$ we have charging levels $0, 1, \\dots, L-1$\n",
    "- $K$: number of cars $\\rightarrow$ we have $k$ cars the we label as $0, 1, \\dots, K-1$\n",
    "- for every $k$ in $\\{0, \\dots, K-1\\}$:\n",
    "    - $t_k^a \\in \\{0, \\dots, T-1\\}$: arrival time car $k$\n",
    "    - $t_k^d \\in \\{0, \\dots, T-1\\}$: departure time car $k$\n",
    "    - $e_k \\in \\mathbb{N}$: required amount of energy car $k$\n",
    "    - for every $t \\in \\{0, \\dots, T-1\\}$:\n",
    "        - $p_k^t \\in \\{0, \\dots, L-1\\}$: charging level on which car $k$ charges at time slot $t$ (i.e. the amount of\n",
    "energy packages it draws from the electricity grid on time slot $t$)"
   ]
  },
  {
   "cell_type": "markdown",
   "id": "extensive-cannon",
   "metadata": {
    "cell_style": "center"
   },
   "source": [
    "For a shorter notation we introduce the vectors\n",
    "- $\\vec{p}_k$ = $\\pmat{p_k^0 \\\\ \\vdots \\\\ p_k^{T-1}} \\in \\{0, \\dots, L-1\\}^T$, \n",
    "where $k \\in \\{0, \\dots, K-1\\}$\n",
    "$\\rightarrow$ the entries of $\\vec{p}_k$ form the charging curve for car $k$\n",
    "<br> <br>\n",
    "- $\\vec{p}$ = $\\pmat{\\vec{p}_0 \\\\ \\vdots \\\\ \\vec{p}_{K-1}} \\in \\{0, \\dots, L-1\\}^{K T}$"
   ]
  },
  {
   "cell_type": "markdown",
   "id": "prescription-chambers",
   "metadata": {},
   "source": [
    "Moreover, we define the vector $\\vec{p}_\\text{sum}$ so that its $t$-th component is the sum  of all charging levels of all cars for time slot $t$:\n",
    "\n",
    "$$\n",
    "\\vec{p}_\\text{sum}\n",
    "= \\vec{p}_0 + \\vec{p}_1 + \\dots + \\vec{p}_{K-1}\n",
    "= \\pmat{\n",
    "    p_0^0 + p_1^0 + \\dots p_{K-1}^0\n",
    "    \\\\\n",
    "    \\vdots\n",
    "    \\\\\n",
    "    p_0^{T-1} + p_1^{T-1} + \\dots p_{K-1}^{T-1}\n",
    "}\n",
    "= \\bigl(\\underbrace{I_T \\; I_T \\; \\cdots \\; I_T}_{K \\text{ times}}\\bigr) \\vec{p},\n",
    "\\qquad\n",
    "I_T = \\pmat{\n",
    "    1 &        &\n",
    "    \\\\\n",
    "      & \\ddots &\n",
    "    \\\\\n",
    "      &        & 1}\n",
    "\\in \\R^{T \\times T} \\ .\n",
    "$$"
   ]
  },
  {
   "cell_type": "markdown",
   "id": "acd47c3d",
   "metadata": {},
   "source": [
    "With this notation at hand we can set up our cost function."
   ]
  },
  {
   "cell_type": "markdown",
   "id": "handed-database",
   "metadata": {},
   "source": [
    "## Cost function"
   ]
  },
  {
   "cell_type": "markdown",
   "id": "crude-century",
   "metadata": {},
   "source": [
    "Note that the smaller the $\\ell_2$-norm of $\\vec{p}_\\text{sum}$, i.e. $\\|\\vec{p}_\\text{sum}\\|_2$, the smaller the peak load. E.g.\n",
    "\n",
    "$$\n",
    "\\left\\| \\pmat{1 \\\\ 2 \\\\ 3} \\right\\|_2^2\n",
    "= 1^2 + 2^2 + 3^2 \n",
    "= 14,\n",
    "\\qquad\n",
    "\\left\\| \\pmat{2 \\\\ 2 \\\\ 2} \\right\\|_2^2\n",
    "= 2^2 + 2^2 + 2^2 \n",
    "= 12.\n",
    "$$"
   ]
  },
  {
   "cell_type": "markdown",
   "id": "exotic-subcommittee",
   "metadata": {},
   "source": [
    "Further, note that\n",
    "\n",
    "$$\n",
    "\\|\\vec{p}_\\text{sum}\\|_2^2\n",
    "= \\vec{p}^{\\, t} \n",
    "\\underbrace{\\pmat{I \\\\ I \\\\ \\vdots \\\\ I} \\pmat{I \\; I \\dots \\; I}}_{:= A}\n",
    "\\vec{p},\n",
    "\\qquad\n",
    "\\text{where: }\n",
    "A = \\mathbb{1}_K^t \\mathbb{1}_K \\otimes I_T,\n",
    "\\ \\\n",
    "\\mathbb{1}_K = \\pmat{1 \\\\ 1 \\\\ \\vdots \\\\ 1} \\in \\R^{K \\times 1} \\ .\n",
    "$$"
   ]
  },
  {
   "cell_type": "markdown",
   "id": "compound-tamil",
   "metadata": {},
   "source": [
    "So, we can use the following **cost function** for the minimization of the peak load:\n",
    "\n",
    "$$\n",
    "f_1(\\vec{p})\n",
    "= \\vec{p}^{\\, t} A \\vec{p}\n",
    "$$"
   ]
  },
  {
   "cell_type": "markdown",
   "id": "decimal-surface",
   "metadata": {},
   "source": [
    "Clearly, only minimizing $f_1$ would yield $\\vec{p} = (0, 0, \\dots, 0)^t$, which means that no charging would take place at all. Thus, we have to incorporate constraints that enforce the charging of the correct amount of energy at correct time slots."
   ]
  },
  {
   "cell_type": "markdown",
   "id": "amended-northeast",
   "metadata": {},
   "source": [
    "## Constraints"
   ]
  },
  {
   "cell_type": "markdown",
   "id": "boolean-skill",
   "metadata": {},
   "source": [
    "For every $k \\in \\{0, \\dots, K-1\\}$ we define\n",
    "\n",
    "$$\n",
    "C_k = \\bigl( 0 \\; \\dots 0 \\; \\underbrace{1}_{t_k^a} \\; 1 \\dots 1 \\; \\underbrace{1}_{t_k^d} \\; 0 \\dots 0 \\bigr),\n",
    "$$"
   ]
  },
  {
   "cell_type": "markdown",
   "id": "comprehensive-leadership",
   "metadata": {},
   "source": [
    "and collect all $C_k$ in a matrix $C$:\n",
    "\n",
    "$$\n",
    "C = \n",
    "\\pmat{\n",
    "    C_0 &     &        &     \n",
    "    \\\\\n",
    "        & C_2 &        &     \n",
    "    \\\\\n",
    "        &     & \\ddots &     \n",
    "    \\\\\n",
    "        &     &        & C_{K-1}\n",
    "} \\ .\n",
    "$$"
   ]
  },
  {
   "cell_type": "markdown",
   "id": "instant-characterization",
   "metadata": {},
   "source": [
    "Then, the **constraints** (charge at right times the right amount of energy) are given by\n",
    "\n",
    "$$\n",
    "C \\vec{p} = \\vec{e},\n",
    "\\qquad\n",
    "\\vec{e} = \\pmat{e_0 \\\\ \\vdots \\\\ e_{K-1}},\n",
    "$$\n",
    "\n",
    "where $e_k$ was the amount of energy car $k$ needs to charge (see above)."
   ]
  },
  {
   "cell_type": "markdown",
   "id": "dated-dover",
   "metadata": {},
   "source": [
    "## Minimization problem\n",
    "Putting all together we have a **quadratic constrained integer optimization**\n",
    "\n",
    "$$\n",
    "\\begin{equation}\n",
    "\\left\\{ \\; \\;\n",
    "\\begin{aligned}\n",
    "    \\min_{\\vec{p} \\in \\{0, \\dots, L-1\\}^{KT}} f_1(\\vec{p})\n",
    "    \\\\[0.2cm]\n",
    "    \\text{such that } C \\vec{p} = \\vec{e}\n",
    "\\end{aligned}\n",
    "\\label{eq:qcio}\n",
    "\\tag{QCIO}\n",
    "\\right.\n",
    "\\end{equation}\n",
    "$$"
   ]
  },
  {
   "cell_type": "markdown",
   "id": "54684ce4",
   "metadata": {},
   "source": [
    "Next, we want to implement the logic of (QCIO) in **python** and **qiskit**."
   ]
  },
  {
   "cell_type": "markdown",
   "id": "lined-albany",
   "metadata": {},
   "source": [
    "# Implementation of POC Model"
   ]
  },
  {
   "cell_type": "markdown",
   "id": "cb8513e5",
   "metadata": {},
   "source": [
    "## Part 1: Python"
   ]
  },
  {
   "cell_type": "markdown",
   "id": "thermal-liver",
   "metadata": {},
   "source": [
    "First, we write a class that holds the data for a car that should be charged."
   ]
  },
  {
   "cell_type": "code",
   "execution_count": 2,
   "id": "3207e94c",
   "metadata": {},
   "outputs": [],
   "source": [
    "import os\n",
    "os.environ[\"QISKIT_SETTINGS\"] = \"qiskitrc\""
   ]
  },
  {
   "cell_type": "code",
   "execution_count": 3,
   "id": "loose-brass",
   "metadata": {},
   "outputs": [],
   "source": [
    "from typing import List \n",
    "\n",
    "class Car:\n",
    "    def __init__(\n",
    "        self,\n",
    "        car_id: str, # an arbitrary name for the car\n",
    "        time_slots_at_charging_unit: List[int], # time slots when the car is at the charging unit\n",
    "        required_energy: int # energy units that should be charged\n",
    "    ) -> None:\n",
    "        self.car_id = car_id\n",
    "        self.time_slots_at_charging_unit = time_slots_at_charging_unit\n",
    "        self.required_energy = required_energy\n",
    "\n",
    "    def __str__(self) -> str:\n",
    "        return f\"Car '{self.car_id}':\\n\" \\\n",
    "            f\"  at charging station at time slots {self.time_slots_at_charging_unit}\\n\" \\\n",
    "            f\"  requires {self.required_energy} energy units\""
   ]
  },
  {
   "cell_type": "markdown",
   "id": "unauthorized-feelings",
   "metadata": {},
   "source": [
    "Next, we write a class to hold the data for a charging unit and with the possibility to register cars to charge at it. Moreover, to keep things simple we give this class the task to generate the matrices of the mathematical formulation of our POC model (see section above)."
   ]
  },
  {
   "cell_type": "code",
   "execution_count": 4,
   "id": "scenic-robinson",
   "metadata": {},
   "outputs": [],
   "source": [
    "import numpy as np\n",
    "\n",
    "class ChargingUnit:\n",
    "    def __init__(\n",
    "        self,\n",
    "        charging_unit_id: str, # an arbitrary name for the charging unit\n",
    "        number_charging_levels: int,\n",
    "        number_time_slots: int,\n",
    "    ) -> None:\n",
    "        self.charging_unit_id = charging_unit_id\n",
    "        self.number_charging_levels = number_charging_levels\n",
    "        self.number_time_slots = number_time_slots\n",
    "        self.cars_to_charge = []\n",
    "\n",
    "    def __str__(self) -> str:\n",
    "        info_cars_registered = \"\"\n",
    "        for car in self.cars_to_charge:\n",
    "            info_cars_registered = info_cars_registered + \" \" + car.car_id\n",
    "        return \"Charging unit with\\n\" \\\n",
    "            \"  charging levels: \" + str(list(range(self.number_charging_levels)))[1:-1] + \"\\n\" \\\n",
    "            \"  time slots: \" + str(list(range(self.number_time_slots)))[1:-1] + \"\\n\" \\\n",
    "            \"  cars to charge:\" + info_cars_registered\n",
    "\n",
    "    def register_car_for_charging(self, car: Car) -> None:\n",
    "        if max(car.time_slots_at_charging_unit) > self.number_time_slots - 1:\n",
    "            raise ValueError(\"From car required time slots not compatible with charging unit.\")\n",
    "        self.cars_to_charge.append(car)\n",
    "\n",
    "    def reset_cars_for_charging(self) -> None:\n",
    "        self.cars_to_charge = []\n",
    "\n",
    "    def generate_constraint_matrix(self) -> np.ndarray:\n",
    "        \"\"\"Matrix with ones for times when car is at charging station\n",
    "         and with zeros if car is not at charging station\"\"\"\n",
    "        number_cars_to_charge = len(self.cars_to_charge)\n",
    "        constraint_matrix = np.zeros(\n",
    "            (number_cars_to_charge, number_cars_to_charge*self.number_time_slots))\n",
    "        for row_index in range(0, number_cars_to_charge):\n",
    "            offset = row_index*self.number_time_slots\n",
    "            cols = np.array(self.cars_to_charge[row_index].time_slots_at_charging_unit)\n",
    "            constraint_matrix[row_index, offset+cols] = 1\n",
    "        return constraint_matrix\n",
    "\n",
    "    def generate_constraint_rhs(self) -> np.ndarray:\n",
    "        \"\"\"Vector with required energy as entries\"\"\"\n",
    "        number_cars_to_charge = len(self.cars_to_charge)\n",
    "        constraint_rhs = np.zeros((number_cars_to_charge, 1))\n",
    "        for row_index in range(0, number_cars_to_charge):\n",
    "            constraint_rhs[row_index] = self.cars_to_charge[row_index].required_energy\n",
    "        return constraint_rhs\n",
    "\n",
    "    def generate_cost_matrix(self) -> np.ndarray:\n",
    "        number_cars_to_charge = len(self.cars_to_charge)\n",
    "        return np.kron(\n",
    "            np.ones((number_cars_to_charge, 1)) @ np.ones((1, number_cars_to_charge)),\n",
    "            np.eye(self.number_time_slots))"
   ]
  },
  {
   "cell_type": "markdown",
   "id": "98cb71f9",
   "metadata": {},
   "source": [
    "### Example"
   ]
  },
  {
   "cell_type": "markdown",
   "id": "regulation-theology",
   "metadata": {},
   "source": [
    "Let's instantiate the objects for our upper example:"
   ]
  },
  {
   "cell_type": "markdown",
   "id": "present-architecture",
   "metadata": {},
   "source": [
    "<img src=\"images/notebook_1_poc_example.png\" width=\"500\" />"
   ]
  },
  {
   "cell_type": "code",
   "execution_count": 5,
   "id": "second-discharge",
   "metadata": {},
   "outputs": [],
   "source": [
    "car_green = Car(\n",
    "    car_id=\"car_green\",\n",
    "    time_slots_at_charging_unit=[0, 1, 2, 3],\n",
    "    required_energy=8)\n",
    "\n",
    "car_orange = Car(\n",
    "    car_id=\"car_orange\",\n",
    "    time_slots_at_charging_unit=[1, 2, 3, 4, 5,  6],\n",
    "    required_energy=12)\n",
    "\n",
    "car_red = Car(\n",
    "    car_id=\"car_red\",\n",
    "    time_slots_at_charging_unit=[4, 5,  6],\n",
    "    required_energy=4)"
   ]
  },
  {
   "cell_type": "code",
   "execution_count": 6,
   "id": "economic-concentration",
   "metadata": {},
   "outputs": [
    {
     "name": "stdout",
     "output_type": "stream",
     "text": [
      "Car 'car_green':\n",
      "  at charging station at time slots [0, 1, 2, 3]\n",
      "  requires 8 energy units\n",
      "Car 'car_orange':\n",
      "  at charging station at time slots [1, 2, 3, 4, 5, 6]\n",
      "  requires 12 energy units\n"
     ]
    }
   ],
   "source": [
    "print(car_green)\n",
    "print(car_orange)"
   ]
  },
  {
   "cell_type": "code",
   "execution_count": 7,
   "id": "mobile-visibility",
   "metadata": {},
   "outputs": [],
   "source": [
    "charging_unit = ChargingUnit(\n",
    "    charging_unit_id=\"charging_unit\",\n",
    "    number_charging_levels=6,\n",
    "    number_time_slots=7)"
   ]
  },
  {
   "cell_type": "code",
   "execution_count": 8,
   "id": "assigned-suite",
   "metadata": {},
   "outputs": [
    {
     "name": "stdout",
     "output_type": "stream",
     "text": [
      "Charging unit with\n",
      "  charging levels: 0, 1, 2, 3, 4, 5\n",
      "  time slots: 0, 1, 2, 3, 4, 5, 6\n",
      "  cars to charge:\n"
     ]
    }
   ],
   "source": [
    "print(charging_unit)"
   ]
  },
  {
   "cell_type": "code",
   "execution_count": 9,
   "id": "unknown-poker",
   "metadata": {},
   "outputs": [
    {
     "name": "stdout",
     "output_type": "stream",
     "text": [
      "Charging unit with\n",
      "  charging levels: 0, 1, 2, 3, 4, 5\n",
      "  time slots: 0, 1, 2, 3, 4, 5, 6\n",
      "  cars to charge: car_green car_orange\n"
     ]
    }
   ],
   "source": [
    "#clear cars\n",
    "charging_unit.reset_cars_for_charging()\n",
    "charging_unit.register_car_for_charging(car_green)\n",
    "charging_unit.register_car_for_charging(car_orange)\n",
    "#charging_unit.register_car_for_charging(car_red)\n",
    "print(charging_unit)"
   ]
  },
  {
   "cell_type": "markdown",
   "id": "checked-annex",
   "metadata": {},
   "source": [
    "Now, let's get the cost matrix $A$ and the constraint matrix $C$ and vector $\\vec{e}$:"
   ]
  },
  {
   "cell_type": "code",
   "execution_count": 10,
   "id": "improved-harassment",
   "metadata": {},
   "outputs": [
    {
     "name": "stdout",
     "output_type": "stream",
     "text": [
      "[[1. 0. 0. 0. 0. 0. 0. 1. 0. 0. 0. 0. 0. 0.]\n",
      " [0. 1. 0. 0. 0. 0. 0. 0. 1. 0. 0. 0. 0. 0.]\n",
      " [0. 0. 1. 0. 0. 0. 0. 0. 0. 1. 0. 0. 0. 0.]\n",
      " [0. 0. 0. 1. 0. 0. 0. 0. 0. 0. 1. 0. 0. 0.]\n",
      " [0. 0. 0. 0. 1. 0. 0. 0. 0. 0. 0. 1. 0. 0.]\n",
      " [0. 0. 0. 0. 0. 1. 0. 0. 0. 0. 0. 0. 1. 0.]\n",
      " [0. 0. 0. 0. 0. 0. 1. 0. 0. 0. 0. 0. 0. 1.]\n",
      " [1. 0. 0. 0. 0. 0. 0. 1. 0. 0. 0. 0. 0. 0.]\n",
      " [0. 1. 0. 0. 0. 0. 0. 0. 1. 0. 0. 0. 0. 0.]\n",
      " [0. 0. 1. 0. 0. 0. 0. 0. 0. 1. 0. 0. 0. 0.]\n",
      " [0. 0. 0. 1. 0. 0. 0. 0. 0. 0. 1. 0. 0. 0.]\n",
      " [0. 0. 0. 0. 1. 0. 0. 0. 0. 0. 0. 1. 0. 0.]\n",
      " [0. 0. 0. 0. 0. 1. 0. 0. 0. 0. 0. 0. 1. 0.]\n",
      " [0. 0. 0. 0. 0. 0. 1. 0. 0. 0. 0. 0. 0. 1.]]\n"
     ]
    }
   ],
   "source": [
    "A = charging_unit.generate_cost_matrix()\n",
    "print(A)"
   ]
  },
  {
   "cell_type": "code",
   "execution_count": 11,
   "id": "seven-conclusion",
   "metadata": {},
   "outputs": [
    {
     "name": "stdout",
     "output_type": "stream",
     "text": [
      "[[1. 1. 1. 1. 0. 0. 0. 0. 0. 0. 0. 0. 0. 0.]\n",
      " [0. 0. 0. 0. 0. 0. 0. 0. 1. 1. 1. 1. 1. 1.]]\n",
      "[[ 8.]\n",
      " [12.]]\n"
     ]
    }
   ],
   "source": [
    "C = charging_unit.generate_constraint_matrix()\n",
    "e = charging_unit.generate_constraint_rhs()\n",
    "print(C)\n",
    "print(e)"
   ]
  },
  {
   "cell_type": "markdown",
   "id": "biological-liberal",
   "metadata": {},
   "source": [
    "Next, we move to qiskit to implement the minimization problem."
   ]
  },
  {
   "cell_type": "markdown",
   "id": "amazing-scholar",
   "metadata": {},
   "source": [
    "## Part 2: Qiskit"
   ]
  },
  {
   "cell_type": "markdown",
   "id": "facial-italian",
   "metadata": {},
   "source": [
    "The module `qiskit_optimization` contains the class `QuadraticProgram` ([link](https://qiskit.org/documentation/optimization/stubs/qiskit_optimization.QuadraticProgram.html#qiskit_optimization.QuadraticProgram)) which is used to represent quadratic optimization problems. In the following code we write a function that generates a `QuadraticProgram` instance according to (QCIO) where the necessary data stems from a `ChargingUnit` object."
   ]
  },
  {
   "cell_type": "markdown",
   "id": "romantic-victorian",
   "metadata": {},
   "source": [
    "*For further information about `qiskit_optimization` and how it is used see e.g. [link1](https://qiskit.org/documentation/optimization/apidocs/qiskit_optimization.html) and [link2](https://qiskit.org/documentation/optimization/tutorials/index.html)*"
   ]
  },
  {
   "cell_type": "code",
   "execution_count": 12,
   "id": "addressed-button",
   "metadata": {},
   "outputs": [],
   "source": [
    "from qiskit_optimization import QuadraticProgram\n",
    "\n",
    "def generate_qcio(\n",
    "    charging_unit: ChargingUnit,\n",
    "    name: str=None\n",
    ") -> QuadraticProgram:\n",
    "    if name is None:\n",
    "        name = \"\"\n",
    "    qcio = QuadraticProgram(name)\n",
    "\n",
    "    for car in charging_unit.cars_to_charge:\n",
    "        qcio.integer_var_list(\n",
    "            keys=[f\"{car.car_id}_t{t}\" for t in range(0, charging_unit.number_time_slots)],\n",
    "            lowerbound=0,\n",
    "            upperbound=charging_unit.number_charging_levels-1,\n",
    "            name=\"p_\")\n",
    "\n",
    "    constraint_matrix = charging_unit.generate_constraint_matrix()\n",
    "    constraint_rhs = charging_unit.generate_constraint_rhs()\n",
    "    for row_index in range(0, constraint_matrix.shape[0]):\n",
    "        qcio.linear_constraint(\n",
    "            linear=constraint_matrix[row_index, :],\n",
    "            rhs=constraint_rhs[row_index][0],\n",
    "            sense=\"==\",\n",
    "            name=f\"charge_correct_energy_for_{charging_unit.cars_to_charge[row_index].car_id}\")\n",
    "\n",
    "    cost_matrix = charging_unit.generate_cost_matrix()\n",
    "    qcio.minimize(quadratic=cost_matrix)\n",
    "\n",
    "    return qcio"
   ]
  },
  {
   "cell_type": "markdown",
   "id": "2292bab7",
   "metadata": {},
   "source": [
    "### Example"
   ]
  },
  {
   "cell_type": "markdown",
   "id": "0b301add",
   "metadata": {},
   "source": [
    "For our upper `charging_unit`  we get:"
   ]
  },
  {
   "cell_type": "code",
   "execution_count": 13,
   "id": "yellow-aberdeen",
   "metadata": {},
   "outputs": [],
   "source": [
    "qcio = generate_qcio(charging_unit, name=\"QCIO\")"
   ]
  },
  {
   "cell_type": "code",
   "execution_count": 14,
   "id": "pending-offset",
   "metadata": {},
   "outputs": [
    {
     "name": "stdout",
     "output_type": "stream",
     "text": [
      "Problem name: QCIO\n",
      "\n",
      "Minimize\n",
      "  p_car_green_t0^2 + 2*p_car_green_t0*p_car_orange_t0 + p_car_green_t1^2\n",
      "  + 2*p_car_green_t1*p_car_orange_t1 + p_car_green_t2^2\n",
      "  + 2*p_car_green_t2*p_car_orange_t2 + p_car_green_t3^2\n",
      "  + 2*p_car_green_t3*p_car_orange_t3 + p_car_green_t4^2\n",
      "  + 2*p_car_green_t4*p_car_orange_t4 + p_car_green_t5^2\n",
      "  + 2*p_car_green_t5*p_car_orange_t5 + p_car_green_t6^2\n",
      "  + 2*p_car_green_t6*p_car_orange_t6 + p_car_orange_t0^2 + p_car_orange_t1^2\n",
      "  + p_car_orange_t2^2 + p_car_orange_t3^2 + p_car_orange_t4^2\n",
      "  + p_car_orange_t5^2 + p_car_orange_t6^2\n",
      "\n",
      "Subject to\n",
      "  Linear constraints (2)\n",
      "    p_car_green_t0 + p_car_green_t1 + p_car_green_t2 + p_car_green_t3\n",
      "    == 8  'charge_correct_energy_for_car_green'\n",
      "    p_car_orange_t1 + p_car_orange_t2 + p_car_orange_t3 + p_car_orange_t4\n",
      "    + p_car_orange_t5 + p_car_orange_t6\n",
      "    == 12  'charge_correct_energy_for_car_orange'\n",
      "\n",
      "  Integer variables (14)\n",
      "    0 <= p_car_green_t0 <= 5\n",
      "    0 <= p_car_green_t1 <= 5\n",
      "    0 <= p_car_green_t2 <= 5\n",
      "    0 <= p_car_green_t3 <= 5\n",
      "    0 <= p_car_green_t4 <= 5\n",
      "    0 <= p_car_green_t5 <= 5\n",
      "    0 <= p_car_green_t6 <= 5\n",
      "    0 <= p_car_orange_t0 <= 5\n",
      "    0 <= p_car_orange_t1 <= 5\n",
      "    0 <= p_car_orange_t2 <= 5\n",
      "    0 <= p_car_orange_t3 <= 5\n",
      "    0 <= p_car_orange_t4 <= 5\n",
      "    0 <= p_car_orange_t5 <= 5\n",
      "    0 <= p_car_orange_t6 <= 5\n",
      "\n"
     ]
    }
   ],
   "source": [
    "print(qcio.prettyprint())"
   ]
  },
  {
   "cell_type": "markdown",
   "id": "quick-outside",
   "metadata": {},
   "source": [
    "# Solve POC Model with Classical Solver"
   ]
  },
  {
   "cell_type": "markdown",
   "id": "convenient-apache",
   "metadata": {},
   "source": [
    "In order to judge/benchmark our later quantum algorithm it is of great advantage to know the exact solution of (QCIO). For small POC examples such as we are considering here this solution can be computed by a classical solver. Qiskit provides two such solvers (`CplexOptimizer` and `GurobiOptimizer`) in `qiskit_optimization.algorithms`. \n",
    "\n",
    "*Further information is available at [link1](https://qiskit.org/documentation/optimization/tutorials/11_using_classical_optimization_solvers_and_models.html) and [link2](https://qiskit.org/documentation/optimization/apidocs/qiskit_optimization.algorithms.html#module-qiskit_optimization.algorithms).*"
   ]
  },
  {
   "cell_type": "markdown",
   "id": "cf2bc34c",
   "metadata": {},
   "source": [
    "## Example"
   ]
  },
  {
   "cell_type": "markdown",
   "id": "286b5244",
   "metadata": {},
   "source": [
    "We solve `qcio` from above with `CplexOptimizer`."
   ]
  },
  {
   "cell_type": "code",
   "execution_count": 15,
   "id": "general-colonial",
   "metadata": {
    "scrolled": true
   },
   "outputs": [
    {
     "name": "stdout",
     "output_type": "stream",
     "text": [
      "minimum point: p_min =  [3. 2. 0. 3. 0. 0. 0. 0. 0. 3. 0. 3. 3. 3.]\n",
      "minimum value: f_1(p_min) =  58.0\n"
     ]
    }
   ],
   "source": [
    "from qiskit_optimization.algorithms import CplexOptimizer\n",
    "\n",
    "cplex_optimizer = CplexOptimizer()\n",
    "\n",
    "qcio_minimization_result = cplex_optimizer.solve(qcio)\n",
    "\n",
    "print(\"minimum point: p_min = \", qcio_minimization_result.x)\n",
    "print(\"minimum value: f_1(p_min) = \", qcio_minimization_result.fval)"
   ]
  },
  {
   "cell_type": "markdown",
   "id": "pacific-palace",
   "metadata": {},
   "source": [
    "The array `qcio_minimization_result.x` corresponds to a solution $\\vec{p}_\\mathrm{min} = \\pmat{\\vec{p}_{0, \\mathrm{min}} \\\\ \\vec{p}_{1, \\mathrm{min}}}$ of (QCIO), where $\\vec{p}_{0, \\mathrm{min}}$ and $\\vec{p}_{1, \\mathrm{min}}$ correspond to solutions for car_green and car_orange, respectively. "
   ]
  },
  {
   "cell_type": "code",
   "execution_count": 16,
   "id": "compound-shame",
   "metadata": {},
   "outputs": [
    {
     "name": "stdout",
     "output_type": "stream",
     "text": [
      "minimum point for car_green: p_0,min =  [3. 2. 0. 3. 0. 0. 0.]\n",
      "minimum point for car_orange: p_1,min =  [0. 0. 3. 0. 3. 3. 3.]\n"
     ]
    }
   ],
   "source": [
    "print(\"minimum point for car_green: p_0,min = \", qcio_minimization_result.x[0:charging_unit.number_time_slots])\n",
    "print(\"minimum point for car_orange: p_1,min = \", qcio_minimization_result.x[charging_unit.number_time_slots:])"
   ]
  },
  {
   "cell_type": "code",
   "execution_count": 18,
   "id": "109abb40",
   "metadata": {},
   "outputs": [
    {
     "data": {
      "text/plain": [
       "<__main__.ChargingUnit at 0x7fcb40a346a0>"
      ]
     },
     "execution_count": 18,
     "metadata": {},
     "output_type": "execute_result"
    }
   ],
   "source": [
    "charging_unit"
   ]
  },
  {
   "cell_type": "markdown",
   "id": "competitive-senator",
   "metadata": {
    "cell_style": "center"
   },
   "source": [
    "We can plot the solution with the provided function `plot_charging_schedule`"
   ]
  },
  {
   "cell_type": "code",
   "execution_count": 21,
   "id": "329f5c68",
   "metadata": {
    "cell_style": "center"
   },
   "outputs": [
    {
     "data": {
      "application/vnd.plotly.v1+json": {
       "config": {
        "plotlyServerURL": "https://plot.ly"
       },
       "data": [
        {
         "marker": {
          "color": "green",
          "size": 20,
          "symbol": "square"
         },
         "mode": "markers",
         "name": "car_green",
         "showlegend": true,
         "type": "scatter",
         "x": [
          0.5,
          0.5,
          0.5
         ],
         "y": [
          0,
          1,
          2
         ]
        },
        {
         "marker": {
          "color": "orange",
          "size": 20,
          "symbol": "square"
         },
         "mode": "markers",
         "name": "car_orange",
         "showlegend": true,
         "type": "scatter",
         "x": [],
         "y": []
        },
        {
         "marker": {
          "color": "green",
          "size": 20,
          "symbol": "square"
         },
         "mode": "markers",
         "name": "car_green",
         "showlegend": false,
         "type": "scatter",
         "x": [
          1.5,
          1.5
         ],
         "y": [
          0,
          1
         ]
        },
        {
         "marker": {
          "color": "orange",
          "size": 20,
          "symbol": "square"
         },
         "mode": "markers",
         "name": "car_orange",
         "showlegend": true,
         "type": "scatter",
         "x": [],
         "y": []
        },
        {
         "marker": {
          "color": "green",
          "size": 20,
          "symbol": "square"
         },
         "mode": "markers",
         "name": "car_green",
         "showlegend": false,
         "type": "scatter",
         "x": [],
         "y": []
        },
        {
         "marker": {
          "color": "orange",
          "size": 20,
          "symbol": "square"
         },
         "mode": "markers",
         "name": "car_orange",
         "showlegend": true,
         "type": "scatter",
         "x": [
          2.5,
          2.5,
          2.5
         ],
         "y": [
          0,
          1,
          2
         ]
        },
        {
         "marker": {
          "color": "green",
          "size": 20,
          "symbol": "square"
         },
         "mode": "markers",
         "name": "car_green",
         "showlegend": false,
         "type": "scatter",
         "x": [
          3.5,
          3.5,
          3.5
         ],
         "y": [
          0,
          1,
          2
         ]
        },
        {
         "marker": {
          "color": "orange",
          "size": 20,
          "symbol": "square"
         },
         "mode": "markers",
         "name": "car_orange",
         "showlegend": false,
         "type": "scatter",
         "x": [],
         "y": []
        },
        {
         "marker": {
          "color": "green",
          "size": 20,
          "symbol": "square"
         },
         "mode": "markers",
         "name": "car_green",
         "showlegend": false,
         "type": "scatter",
         "x": [],
         "y": []
        },
        {
         "marker": {
          "color": "orange",
          "size": 20,
          "symbol": "square"
         },
         "mode": "markers",
         "name": "car_orange",
         "showlegend": false,
         "type": "scatter",
         "x": [
          4.5,
          4.5,
          4.5
         ],
         "y": [
          0,
          1,
          2
         ]
        },
        {
         "marker": {
          "color": "green",
          "size": 20,
          "symbol": "square"
         },
         "mode": "markers",
         "name": "car_green",
         "showlegend": false,
         "type": "scatter",
         "x": [],
         "y": []
        },
        {
         "marker": {
          "color": "orange",
          "size": 20,
          "symbol": "square"
         },
         "mode": "markers",
         "name": "car_orange",
         "showlegend": false,
         "type": "scatter",
         "x": [
          5.5,
          5.5,
          5.5
         ],
         "y": [
          0,
          1,
          2
         ]
        },
        {
         "marker": {
          "color": "green",
          "size": 20,
          "symbol": "square"
         },
         "mode": "markers",
         "name": "car_green",
         "showlegend": false,
         "type": "scatter",
         "x": [],
         "y": []
        },
        {
         "marker": {
          "color": "orange",
          "size": 20,
          "symbol": "square"
         },
         "mode": "markers",
         "name": "car_orange",
         "showlegend": false,
         "type": "scatter",
         "x": [
          6.5,
          6.5,
          6.5
         ],
         "y": [
          0,
          1,
          2
         ]
        }
       ],
       "layout": {
        "height": 300,
        "template": {
         "data": {
          "bar": [
           {
            "error_x": {
             "color": "#2a3f5f"
            },
            "error_y": {
             "color": "#2a3f5f"
            },
            "marker": {
             "line": {
              "color": "#E5ECF6",
              "width": 0.5
             },
             "pattern": {
              "fillmode": "overlay",
              "size": 10,
              "solidity": 0.2
             }
            },
            "type": "bar"
           }
          ],
          "barpolar": [
           {
            "marker": {
             "line": {
              "color": "#E5ECF6",
              "width": 0.5
             },
             "pattern": {
              "fillmode": "overlay",
              "size": 10,
              "solidity": 0.2
             }
            },
            "type": "barpolar"
           }
          ],
          "carpet": [
           {
            "aaxis": {
             "endlinecolor": "#2a3f5f",
             "gridcolor": "white",
             "linecolor": "white",
             "minorgridcolor": "white",
             "startlinecolor": "#2a3f5f"
            },
            "baxis": {
             "endlinecolor": "#2a3f5f",
             "gridcolor": "white",
             "linecolor": "white",
             "minorgridcolor": "white",
             "startlinecolor": "#2a3f5f"
            },
            "type": "carpet"
           }
          ],
          "choropleth": [
           {
            "colorbar": {
             "outlinewidth": 0,
             "ticks": ""
            },
            "type": "choropleth"
           }
          ],
          "contour": [
           {
            "colorbar": {
             "outlinewidth": 0,
             "ticks": ""
            },
            "colorscale": [
             [
              0,
              "#0d0887"
             ],
             [
              0.1111111111111111,
              "#46039f"
             ],
             [
              0.2222222222222222,
              "#7201a8"
             ],
             [
              0.3333333333333333,
              "#9c179e"
             ],
             [
              0.4444444444444444,
              "#bd3786"
             ],
             [
              0.5555555555555556,
              "#d8576b"
             ],
             [
              0.6666666666666666,
              "#ed7953"
             ],
             [
              0.7777777777777778,
              "#fb9f3a"
             ],
             [
              0.8888888888888888,
              "#fdca26"
             ],
             [
              1,
              "#f0f921"
             ]
            ],
            "type": "contour"
           }
          ],
          "contourcarpet": [
           {
            "colorbar": {
             "outlinewidth": 0,
             "ticks": ""
            },
            "type": "contourcarpet"
           }
          ],
          "heatmap": [
           {
            "colorbar": {
             "outlinewidth": 0,
             "ticks": ""
            },
            "colorscale": [
             [
              0,
              "#0d0887"
             ],
             [
              0.1111111111111111,
              "#46039f"
             ],
             [
              0.2222222222222222,
              "#7201a8"
             ],
             [
              0.3333333333333333,
              "#9c179e"
             ],
             [
              0.4444444444444444,
              "#bd3786"
             ],
             [
              0.5555555555555556,
              "#d8576b"
             ],
             [
              0.6666666666666666,
              "#ed7953"
             ],
             [
              0.7777777777777778,
              "#fb9f3a"
             ],
             [
              0.8888888888888888,
              "#fdca26"
             ],
             [
              1,
              "#f0f921"
             ]
            ],
            "type": "heatmap"
           }
          ],
          "heatmapgl": [
           {
            "colorbar": {
             "outlinewidth": 0,
             "ticks": ""
            },
            "colorscale": [
             [
              0,
              "#0d0887"
             ],
             [
              0.1111111111111111,
              "#46039f"
             ],
             [
              0.2222222222222222,
              "#7201a8"
             ],
             [
              0.3333333333333333,
              "#9c179e"
             ],
             [
              0.4444444444444444,
              "#bd3786"
             ],
             [
              0.5555555555555556,
              "#d8576b"
             ],
             [
              0.6666666666666666,
              "#ed7953"
             ],
             [
              0.7777777777777778,
              "#fb9f3a"
             ],
             [
              0.8888888888888888,
              "#fdca26"
             ],
             [
              1,
              "#f0f921"
             ]
            ],
            "type": "heatmapgl"
           }
          ],
          "histogram": [
           {
            "marker": {
             "pattern": {
              "fillmode": "overlay",
              "size": 10,
              "solidity": 0.2
             }
            },
            "type": "histogram"
           }
          ],
          "histogram2d": [
           {
            "colorbar": {
             "outlinewidth": 0,
             "ticks": ""
            },
            "colorscale": [
             [
              0,
              "#0d0887"
             ],
             [
              0.1111111111111111,
              "#46039f"
             ],
             [
              0.2222222222222222,
              "#7201a8"
             ],
             [
              0.3333333333333333,
              "#9c179e"
             ],
             [
              0.4444444444444444,
              "#bd3786"
             ],
             [
              0.5555555555555556,
              "#d8576b"
             ],
             [
              0.6666666666666666,
              "#ed7953"
             ],
             [
              0.7777777777777778,
              "#fb9f3a"
             ],
             [
              0.8888888888888888,
              "#fdca26"
             ],
             [
              1,
              "#f0f921"
             ]
            ],
            "type": "histogram2d"
           }
          ],
          "histogram2dcontour": [
           {
            "colorbar": {
             "outlinewidth": 0,
             "ticks": ""
            },
            "colorscale": [
             [
              0,
              "#0d0887"
             ],
             [
              0.1111111111111111,
              "#46039f"
             ],
             [
              0.2222222222222222,
              "#7201a8"
             ],
             [
              0.3333333333333333,
              "#9c179e"
             ],
             [
              0.4444444444444444,
              "#bd3786"
             ],
             [
              0.5555555555555556,
              "#d8576b"
             ],
             [
              0.6666666666666666,
              "#ed7953"
             ],
             [
              0.7777777777777778,
              "#fb9f3a"
             ],
             [
              0.8888888888888888,
              "#fdca26"
             ],
             [
              1,
              "#f0f921"
             ]
            ],
            "type": "histogram2dcontour"
           }
          ],
          "mesh3d": [
           {
            "colorbar": {
             "outlinewidth": 0,
             "ticks": ""
            },
            "type": "mesh3d"
           }
          ],
          "parcoords": [
           {
            "line": {
             "colorbar": {
              "outlinewidth": 0,
              "ticks": ""
             }
            },
            "type": "parcoords"
           }
          ],
          "pie": [
           {
            "automargin": true,
            "type": "pie"
           }
          ],
          "scatter": [
           {
            "fillpattern": {
             "fillmode": "overlay",
             "size": 10,
             "solidity": 0.2
            },
            "type": "scatter"
           }
          ],
          "scatter3d": [
           {
            "line": {
             "colorbar": {
              "outlinewidth": 0,
              "ticks": ""
             }
            },
            "marker": {
             "colorbar": {
              "outlinewidth": 0,
              "ticks": ""
             }
            },
            "type": "scatter3d"
           }
          ],
          "scattercarpet": [
           {
            "marker": {
             "colorbar": {
              "outlinewidth": 0,
              "ticks": ""
             }
            },
            "type": "scattercarpet"
           }
          ],
          "scattergeo": [
           {
            "marker": {
             "colorbar": {
              "outlinewidth": 0,
              "ticks": ""
             }
            },
            "type": "scattergeo"
           }
          ],
          "scattergl": [
           {
            "marker": {
             "colorbar": {
              "outlinewidth": 0,
              "ticks": ""
             }
            },
            "type": "scattergl"
           }
          ],
          "scattermapbox": [
           {
            "marker": {
             "colorbar": {
              "outlinewidth": 0,
              "ticks": ""
             }
            },
            "type": "scattermapbox"
           }
          ],
          "scatterpolar": [
           {
            "marker": {
             "colorbar": {
              "outlinewidth": 0,
              "ticks": ""
             }
            },
            "type": "scatterpolar"
           }
          ],
          "scatterpolargl": [
           {
            "marker": {
             "colorbar": {
              "outlinewidth": 0,
              "ticks": ""
             }
            },
            "type": "scatterpolargl"
           }
          ],
          "scatterternary": [
           {
            "marker": {
             "colorbar": {
              "outlinewidth": 0,
              "ticks": ""
             }
            },
            "type": "scatterternary"
           }
          ],
          "surface": [
           {
            "colorbar": {
             "outlinewidth": 0,
             "ticks": ""
            },
            "colorscale": [
             [
              0,
              "#0d0887"
             ],
             [
              0.1111111111111111,
              "#46039f"
             ],
             [
              0.2222222222222222,
              "#7201a8"
             ],
             [
              0.3333333333333333,
              "#9c179e"
             ],
             [
              0.4444444444444444,
              "#bd3786"
             ],
             [
              0.5555555555555556,
              "#d8576b"
             ],
             [
              0.6666666666666666,
              "#ed7953"
             ],
             [
              0.7777777777777778,
              "#fb9f3a"
             ],
             [
              0.8888888888888888,
              "#fdca26"
             ],
             [
              1,
              "#f0f921"
             ]
            ],
            "type": "surface"
           }
          ],
          "table": [
           {
            "cells": {
             "fill": {
              "color": "#EBF0F8"
             },
             "line": {
              "color": "white"
             }
            },
            "header": {
             "fill": {
              "color": "#C8D4E3"
             },
             "line": {
              "color": "white"
             }
            },
            "type": "table"
           }
          ]
         },
         "layout": {
          "annotationdefaults": {
           "arrowcolor": "#2a3f5f",
           "arrowhead": 0,
           "arrowwidth": 1
          },
          "autotypenumbers": "strict",
          "coloraxis": {
           "colorbar": {
            "outlinewidth": 0,
            "ticks": ""
           }
          },
          "colorscale": {
           "diverging": [
            [
             0,
             "#8e0152"
            ],
            [
             0.1,
             "#c51b7d"
            ],
            [
             0.2,
             "#de77ae"
            ],
            [
             0.3,
             "#f1b6da"
            ],
            [
             0.4,
             "#fde0ef"
            ],
            [
             0.5,
             "#f7f7f7"
            ],
            [
             0.6,
             "#e6f5d0"
            ],
            [
             0.7,
             "#b8e186"
            ],
            [
             0.8,
             "#7fbc41"
            ],
            [
             0.9,
             "#4d9221"
            ],
            [
             1,
             "#276419"
            ]
           ],
           "sequential": [
            [
             0,
             "#0d0887"
            ],
            [
             0.1111111111111111,
             "#46039f"
            ],
            [
             0.2222222222222222,
             "#7201a8"
            ],
            [
             0.3333333333333333,
             "#9c179e"
            ],
            [
             0.4444444444444444,
             "#bd3786"
            ],
            [
             0.5555555555555556,
             "#d8576b"
            ],
            [
             0.6666666666666666,
             "#ed7953"
            ],
            [
             0.7777777777777778,
             "#fb9f3a"
            ],
            [
             0.8888888888888888,
             "#fdca26"
            ],
            [
             1,
             "#f0f921"
            ]
           ],
           "sequentialminus": [
            [
             0,
             "#0d0887"
            ],
            [
             0.1111111111111111,
             "#46039f"
            ],
            [
             0.2222222222222222,
             "#7201a8"
            ],
            [
             0.3333333333333333,
             "#9c179e"
            ],
            [
             0.4444444444444444,
             "#bd3786"
            ],
            [
             0.5555555555555556,
             "#d8576b"
            ],
            [
             0.6666666666666666,
             "#ed7953"
            ],
            [
             0.7777777777777778,
             "#fb9f3a"
            ],
            [
             0.8888888888888888,
             "#fdca26"
            ],
            [
             1,
             "#f0f921"
            ]
           ]
          },
          "colorway": [
           "#636efa",
           "#EF553B",
           "#00cc96",
           "#ab63fa",
           "#FFA15A",
           "#19d3f3",
           "#FF6692",
           "#B6E880",
           "#FF97FF",
           "#FECB52"
          ],
          "font": {
           "color": "#2a3f5f"
          },
          "geo": {
           "bgcolor": "white",
           "lakecolor": "white",
           "landcolor": "#E5ECF6",
           "showlakes": true,
           "showland": true,
           "subunitcolor": "white"
          },
          "hoverlabel": {
           "align": "left"
          },
          "hovermode": "closest",
          "mapbox": {
           "style": "light"
          },
          "paper_bgcolor": "white",
          "plot_bgcolor": "#E5ECF6",
          "polar": {
           "angularaxis": {
            "gridcolor": "white",
            "linecolor": "white",
            "ticks": ""
           },
           "bgcolor": "#E5ECF6",
           "radialaxis": {
            "gridcolor": "white",
            "linecolor": "white",
            "ticks": ""
           }
          },
          "scene": {
           "xaxis": {
            "backgroundcolor": "#E5ECF6",
            "gridcolor": "white",
            "gridwidth": 2,
            "linecolor": "white",
            "showbackground": true,
            "ticks": "",
            "zerolinecolor": "white"
           },
           "yaxis": {
            "backgroundcolor": "#E5ECF6",
            "gridcolor": "white",
            "gridwidth": 2,
            "linecolor": "white",
            "showbackground": true,
            "ticks": "",
            "zerolinecolor": "white"
           },
           "zaxis": {
            "backgroundcolor": "#E5ECF6",
            "gridcolor": "white",
            "gridwidth": 2,
            "linecolor": "white",
            "showbackground": true,
            "ticks": "",
            "zerolinecolor": "white"
           }
          },
          "shapedefaults": {
           "line": {
            "color": "#2a3f5f"
           }
          },
          "ternary": {
           "aaxis": {
            "gridcolor": "white",
            "linecolor": "white",
            "ticks": ""
           },
           "baxis": {
            "gridcolor": "white",
            "linecolor": "white",
            "ticks": ""
           },
           "bgcolor": "#E5ECF6",
           "caxis": {
            "gridcolor": "white",
            "linecolor": "white",
            "ticks": ""
           }
          },
          "title": {
           "x": 0.05
          },
          "xaxis": {
           "automargin": true,
           "gridcolor": "white",
           "linecolor": "white",
           "ticks": "",
           "title": {
            "standoff": 15
           },
           "zerolinecolor": "white",
           "zerolinewidth": 2
          },
          "yaxis": {
           "automargin": true,
           "gridcolor": "white",
           "linecolor": "white",
           "ticks": "",
           "title": {
            "standoff": 15
           },
           "zerolinecolor": "white",
           "zerolinewidth": 2
          }
         }
        },
        "width": 400,
        "xaxis": {
         "dtick": 1,
         "range": [
          0.01,
          7
         ],
         "tick0": 1,
         "ticktext": [
          0,
          1,
          2,
          3,
          4,
          5,
          6
         ],
         "tickvals": [
          0.5,
          1.5,
          2.5,
          3.5,
          4.5,
          5.5,
          6.5
         ],
         "title": {
          "font": {
           "size": 12
          },
          "text": "time slot"
         }
        },
        "yaxis": {
         "range": [
          -0.6,
          5
         ],
         "ticktext": [
          0,
          1,
          2,
          3,
          4,
          5
         ],
         "tickvals": [
          -0.5,
          0.5,
          1.5,
          2.5,
          3.5,
          4.5
         ],
         "title": {
          "font": {
           "size": 12
          },
          "text": "charging level"
         },
         "zeroline": false
        }
       }
      },
      "text/html": [
       "<div>                            <div id=\"ec68a69b-df08-4ab7-b7b7-30fe2aa244a7\" class=\"plotly-graph-div\" style=\"height:300px; width:400px;\"></div>            <script type=\"text/javascript\">                require([\"plotly\"], function(Plotly) {                    window.PLOTLYENV=window.PLOTLYENV || {};                                    if (document.getElementById(\"ec68a69b-df08-4ab7-b7b7-30fe2aa244a7\")) {                    Plotly.newPlot(                        \"ec68a69b-df08-4ab7-b7b7-30fe2aa244a7\",                        [{\"marker\":{\"color\":\"green\",\"size\":20,\"symbol\":\"square\"},\"mode\":\"markers\",\"name\":\"car_green\",\"showlegend\":true,\"x\":[0.5,0.5,0.5],\"y\":[0.0,1.0,2.0],\"type\":\"scatter\"},{\"marker\":{\"color\":\"orange\",\"size\":20,\"symbol\":\"square\"},\"mode\":\"markers\",\"name\":\"car_orange\",\"showlegend\":true,\"x\":[],\"y\":[],\"type\":\"scatter\"},{\"marker\":{\"color\":\"green\",\"size\":20,\"symbol\":\"square\"},\"mode\":\"markers\",\"name\":\"car_green\",\"showlegend\":false,\"x\":[1.5,1.5],\"y\":[0.0,1.0],\"type\":\"scatter\"},{\"marker\":{\"color\":\"orange\",\"size\":20,\"symbol\":\"square\"},\"mode\":\"markers\",\"name\":\"car_orange\",\"showlegend\":true,\"x\":[],\"y\":[],\"type\":\"scatter\"},{\"marker\":{\"color\":\"green\",\"size\":20,\"symbol\":\"square\"},\"mode\":\"markers\",\"name\":\"car_green\",\"showlegend\":false,\"x\":[],\"y\":[],\"type\":\"scatter\"},{\"marker\":{\"color\":\"orange\",\"size\":20,\"symbol\":\"square\"},\"mode\":\"markers\",\"name\":\"car_orange\",\"showlegend\":true,\"x\":[2.5,2.5,2.5],\"y\":[0.0,1.0,2.0],\"type\":\"scatter\"},{\"marker\":{\"color\":\"green\",\"size\":20,\"symbol\":\"square\"},\"mode\":\"markers\",\"name\":\"car_green\",\"showlegend\":false,\"x\":[3.5,3.5,3.5],\"y\":[0.0,1.0,2.0],\"type\":\"scatter\"},{\"marker\":{\"color\":\"orange\",\"size\":20,\"symbol\":\"square\"},\"mode\":\"markers\",\"name\":\"car_orange\",\"showlegend\":false,\"x\":[],\"y\":[],\"type\":\"scatter\"},{\"marker\":{\"color\":\"green\",\"size\":20,\"symbol\":\"square\"},\"mode\":\"markers\",\"name\":\"car_green\",\"showlegend\":false,\"x\":[],\"y\":[],\"type\":\"scatter\"},{\"marker\":{\"color\":\"orange\",\"size\":20,\"symbol\":\"square\"},\"mode\":\"markers\",\"name\":\"car_orange\",\"showlegend\":false,\"x\":[4.5,4.5,4.5],\"y\":[0.0,1.0,2.0],\"type\":\"scatter\"},{\"marker\":{\"color\":\"green\",\"size\":20,\"symbol\":\"square\"},\"mode\":\"markers\",\"name\":\"car_green\",\"showlegend\":false,\"x\":[],\"y\":[],\"type\":\"scatter\"},{\"marker\":{\"color\":\"orange\",\"size\":20,\"symbol\":\"square\"},\"mode\":\"markers\",\"name\":\"car_orange\",\"showlegend\":false,\"x\":[5.5,5.5,5.5],\"y\":[0.0,1.0,2.0],\"type\":\"scatter\"},{\"marker\":{\"color\":\"green\",\"size\":20,\"symbol\":\"square\"},\"mode\":\"markers\",\"name\":\"car_green\",\"showlegend\":false,\"x\":[],\"y\":[],\"type\":\"scatter\"},{\"marker\":{\"color\":\"orange\",\"size\":20,\"symbol\":\"square\"},\"mode\":\"markers\",\"name\":\"car_orange\",\"showlegend\":false,\"x\":[6.5,6.5,6.5],\"y\":[0.0,1.0,2.0],\"type\":\"scatter\"}],                        {\"template\":{\"data\":{\"histogram2dcontour\":[{\"type\":\"histogram2dcontour\",\"colorbar\":{\"outlinewidth\":0,\"ticks\":\"\"},\"colorscale\":[[0.0,\"#0d0887\"],[0.1111111111111111,\"#46039f\"],[0.2222222222222222,\"#7201a8\"],[0.3333333333333333,\"#9c179e\"],[0.4444444444444444,\"#bd3786\"],[0.5555555555555556,\"#d8576b\"],[0.6666666666666666,\"#ed7953\"],[0.7777777777777778,\"#fb9f3a\"],[0.8888888888888888,\"#fdca26\"],[1.0,\"#f0f921\"]]}],\"choropleth\":[{\"type\":\"choropleth\",\"colorbar\":{\"outlinewidth\":0,\"ticks\":\"\"}}],\"histogram2d\":[{\"type\":\"histogram2d\",\"colorbar\":{\"outlinewidth\":0,\"ticks\":\"\"},\"colorscale\":[[0.0,\"#0d0887\"],[0.1111111111111111,\"#46039f\"],[0.2222222222222222,\"#7201a8\"],[0.3333333333333333,\"#9c179e\"],[0.4444444444444444,\"#bd3786\"],[0.5555555555555556,\"#d8576b\"],[0.6666666666666666,\"#ed7953\"],[0.7777777777777778,\"#fb9f3a\"],[0.8888888888888888,\"#fdca26\"],[1.0,\"#f0f921\"]]}],\"heatmap\":[{\"type\":\"heatmap\",\"colorbar\":{\"outlinewidth\":0,\"ticks\":\"\"},\"colorscale\":[[0.0,\"#0d0887\"],[0.1111111111111111,\"#46039f\"],[0.2222222222222222,\"#7201a8\"],[0.3333333333333333,\"#9c179e\"],[0.4444444444444444,\"#bd3786\"],[0.5555555555555556,\"#d8576b\"],[0.6666666666666666,\"#ed7953\"],[0.7777777777777778,\"#fb9f3a\"],[0.8888888888888888,\"#fdca26\"],[1.0,\"#f0f921\"]]}],\"heatmapgl\":[{\"type\":\"heatmapgl\",\"colorbar\":{\"outlinewidth\":0,\"ticks\":\"\"},\"colorscale\":[[0.0,\"#0d0887\"],[0.1111111111111111,\"#46039f\"],[0.2222222222222222,\"#7201a8\"],[0.3333333333333333,\"#9c179e\"],[0.4444444444444444,\"#bd3786\"],[0.5555555555555556,\"#d8576b\"],[0.6666666666666666,\"#ed7953\"],[0.7777777777777778,\"#fb9f3a\"],[0.8888888888888888,\"#fdca26\"],[1.0,\"#f0f921\"]]}],\"contourcarpet\":[{\"type\":\"contourcarpet\",\"colorbar\":{\"outlinewidth\":0,\"ticks\":\"\"}}],\"contour\":[{\"type\":\"contour\",\"colorbar\":{\"outlinewidth\":0,\"ticks\":\"\"},\"colorscale\":[[0.0,\"#0d0887\"],[0.1111111111111111,\"#46039f\"],[0.2222222222222222,\"#7201a8\"],[0.3333333333333333,\"#9c179e\"],[0.4444444444444444,\"#bd3786\"],[0.5555555555555556,\"#d8576b\"],[0.6666666666666666,\"#ed7953\"],[0.7777777777777778,\"#fb9f3a\"],[0.8888888888888888,\"#fdca26\"],[1.0,\"#f0f921\"]]}],\"surface\":[{\"type\":\"surface\",\"colorbar\":{\"outlinewidth\":0,\"ticks\":\"\"},\"colorscale\":[[0.0,\"#0d0887\"],[0.1111111111111111,\"#46039f\"],[0.2222222222222222,\"#7201a8\"],[0.3333333333333333,\"#9c179e\"],[0.4444444444444444,\"#bd3786\"],[0.5555555555555556,\"#d8576b\"],[0.6666666666666666,\"#ed7953\"],[0.7777777777777778,\"#fb9f3a\"],[0.8888888888888888,\"#fdca26\"],[1.0,\"#f0f921\"]]}],\"mesh3d\":[{\"type\":\"mesh3d\",\"colorbar\":{\"outlinewidth\":0,\"ticks\":\"\"}}],\"scatter\":[{\"fillpattern\":{\"fillmode\":\"overlay\",\"size\":10,\"solidity\":0.2},\"type\":\"scatter\"}],\"parcoords\":[{\"type\":\"parcoords\",\"line\":{\"colorbar\":{\"outlinewidth\":0,\"ticks\":\"\"}}}],\"scatterpolargl\":[{\"type\":\"scatterpolargl\",\"marker\":{\"colorbar\":{\"outlinewidth\":0,\"ticks\":\"\"}}}],\"bar\":[{\"error_x\":{\"color\":\"#2a3f5f\"},\"error_y\":{\"color\":\"#2a3f5f\"},\"marker\":{\"line\":{\"color\":\"#E5ECF6\",\"width\":0.5},\"pattern\":{\"fillmode\":\"overlay\",\"size\":10,\"solidity\":0.2}},\"type\":\"bar\"}],\"scattergeo\":[{\"type\":\"scattergeo\",\"marker\":{\"colorbar\":{\"outlinewidth\":0,\"ticks\":\"\"}}}],\"scatterpolar\":[{\"type\":\"scatterpolar\",\"marker\":{\"colorbar\":{\"outlinewidth\":0,\"ticks\":\"\"}}}],\"histogram\":[{\"marker\":{\"pattern\":{\"fillmode\":\"overlay\",\"size\":10,\"solidity\":0.2}},\"type\":\"histogram\"}],\"scattergl\":[{\"type\":\"scattergl\",\"marker\":{\"colorbar\":{\"outlinewidth\":0,\"ticks\":\"\"}}}],\"scatter3d\":[{\"type\":\"scatter3d\",\"line\":{\"colorbar\":{\"outlinewidth\":0,\"ticks\":\"\"}},\"marker\":{\"colorbar\":{\"outlinewidth\":0,\"ticks\":\"\"}}}],\"scattermapbox\":[{\"type\":\"scattermapbox\",\"marker\":{\"colorbar\":{\"outlinewidth\":0,\"ticks\":\"\"}}}],\"scatterternary\":[{\"type\":\"scatterternary\",\"marker\":{\"colorbar\":{\"outlinewidth\":0,\"ticks\":\"\"}}}],\"scattercarpet\":[{\"type\":\"scattercarpet\",\"marker\":{\"colorbar\":{\"outlinewidth\":0,\"ticks\":\"\"}}}],\"carpet\":[{\"aaxis\":{\"endlinecolor\":\"#2a3f5f\",\"gridcolor\":\"white\",\"linecolor\":\"white\",\"minorgridcolor\":\"white\",\"startlinecolor\":\"#2a3f5f\"},\"baxis\":{\"endlinecolor\":\"#2a3f5f\",\"gridcolor\":\"white\",\"linecolor\":\"white\",\"minorgridcolor\":\"white\",\"startlinecolor\":\"#2a3f5f\"},\"type\":\"carpet\"}],\"table\":[{\"cells\":{\"fill\":{\"color\":\"#EBF0F8\"},\"line\":{\"color\":\"white\"}},\"header\":{\"fill\":{\"color\":\"#C8D4E3\"},\"line\":{\"color\":\"white\"}},\"type\":\"table\"}],\"barpolar\":[{\"marker\":{\"line\":{\"color\":\"#E5ECF6\",\"width\":0.5},\"pattern\":{\"fillmode\":\"overlay\",\"size\":10,\"solidity\":0.2}},\"type\":\"barpolar\"}],\"pie\":[{\"automargin\":true,\"type\":\"pie\"}]},\"layout\":{\"autotypenumbers\":\"strict\",\"colorway\":[\"#636efa\",\"#EF553B\",\"#00cc96\",\"#ab63fa\",\"#FFA15A\",\"#19d3f3\",\"#FF6692\",\"#B6E880\",\"#FF97FF\",\"#FECB52\"],\"font\":{\"color\":\"#2a3f5f\"},\"hovermode\":\"closest\",\"hoverlabel\":{\"align\":\"left\"},\"paper_bgcolor\":\"white\",\"plot_bgcolor\":\"#E5ECF6\",\"polar\":{\"bgcolor\":\"#E5ECF6\",\"angularaxis\":{\"gridcolor\":\"white\",\"linecolor\":\"white\",\"ticks\":\"\"},\"radialaxis\":{\"gridcolor\":\"white\",\"linecolor\":\"white\",\"ticks\":\"\"}},\"ternary\":{\"bgcolor\":\"#E5ECF6\",\"aaxis\":{\"gridcolor\":\"white\",\"linecolor\":\"white\",\"ticks\":\"\"},\"baxis\":{\"gridcolor\":\"white\",\"linecolor\":\"white\",\"ticks\":\"\"},\"caxis\":{\"gridcolor\":\"white\",\"linecolor\":\"white\",\"ticks\":\"\"}},\"coloraxis\":{\"colorbar\":{\"outlinewidth\":0,\"ticks\":\"\"}},\"colorscale\":{\"sequential\":[[0.0,\"#0d0887\"],[0.1111111111111111,\"#46039f\"],[0.2222222222222222,\"#7201a8\"],[0.3333333333333333,\"#9c179e\"],[0.4444444444444444,\"#bd3786\"],[0.5555555555555556,\"#d8576b\"],[0.6666666666666666,\"#ed7953\"],[0.7777777777777778,\"#fb9f3a\"],[0.8888888888888888,\"#fdca26\"],[1.0,\"#f0f921\"]],\"sequentialminus\":[[0.0,\"#0d0887\"],[0.1111111111111111,\"#46039f\"],[0.2222222222222222,\"#7201a8\"],[0.3333333333333333,\"#9c179e\"],[0.4444444444444444,\"#bd3786\"],[0.5555555555555556,\"#d8576b\"],[0.6666666666666666,\"#ed7953\"],[0.7777777777777778,\"#fb9f3a\"],[0.8888888888888888,\"#fdca26\"],[1.0,\"#f0f921\"]],\"diverging\":[[0,\"#8e0152\"],[0.1,\"#c51b7d\"],[0.2,\"#de77ae\"],[0.3,\"#f1b6da\"],[0.4,\"#fde0ef\"],[0.5,\"#f7f7f7\"],[0.6,\"#e6f5d0\"],[0.7,\"#b8e186\"],[0.8,\"#7fbc41\"],[0.9,\"#4d9221\"],[1,\"#276419\"]]},\"xaxis\":{\"gridcolor\":\"white\",\"linecolor\":\"white\",\"ticks\":\"\",\"title\":{\"standoff\":15},\"zerolinecolor\":\"white\",\"automargin\":true,\"zerolinewidth\":2},\"yaxis\":{\"gridcolor\":\"white\",\"linecolor\":\"white\",\"ticks\":\"\",\"title\":{\"standoff\":15},\"zerolinecolor\":\"white\",\"automargin\":true,\"zerolinewidth\":2},\"scene\":{\"xaxis\":{\"backgroundcolor\":\"#E5ECF6\",\"gridcolor\":\"white\",\"linecolor\":\"white\",\"showbackground\":true,\"ticks\":\"\",\"zerolinecolor\":\"white\",\"gridwidth\":2},\"yaxis\":{\"backgroundcolor\":\"#E5ECF6\",\"gridcolor\":\"white\",\"linecolor\":\"white\",\"showbackground\":true,\"ticks\":\"\",\"zerolinecolor\":\"white\",\"gridwidth\":2},\"zaxis\":{\"backgroundcolor\":\"#E5ECF6\",\"gridcolor\":\"white\",\"linecolor\":\"white\",\"showbackground\":true,\"ticks\":\"\",\"zerolinecolor\":\"white\",\"gridwidth\":2}},\"shapedefaults\":{\"line\":{\"color\":\"#2a3f5f\"}},\"annotationdefaults\":{\"arrowcolor\":\"#2a3f5f\",\"arrowhead\":0,\"arrowwidth\":1},\"geo\":{\"bgcolor\":\"white\",\"landcolor\":\"#E5ECF6\",\"subunitcolor\":\"white\",\"showland\":true,\"showlakes\":true,\"lakecolor\":\"white\"},\"title\":{\"x\":0.05},\"mapbox\":{\"style\":\"light\"}}},\"xaxis\":{\"title\":{\"text\":\"time slot\",\"font\":{\"size\":12}},\"tick0\":1,\"dtick\":1,\"range\":[0.01,7],\"tickvals\":[0.5,1.5,2.5,3.5,4.5,5.5,6.5],\"ticktext\":[0,1,2,3,4,5,6]},\"yaxis\":{\"title\":{\"text\":\"charging level\",\"font\":{\"size\":12}},\"range\":[-0.6,5],\"tickvals\":[-0.5,0.5,1.5,2.5,3.5,4.5],\"ticktext\":[0,1,2,3,4,5],\"zeroline\":false},\"width\":400,\"height\":300},                        {\"responsive\": true}                    ).then(function(){\n",
       "                            \n",
       "var gd = document.getElementById('ec68a69b-df08-4ab7-b7b7-30fe2aa244a7');\n",
       "var x = new MutationObserver(function (mutations, observer) {{\n",
       "        var display = window.getComputedStyle(gd).display;\n",
       "        if (!display || display === 'none') {{\n",
       "            console.log([gd, 'removed!']);\n",
       "            Plotly.purge(gd);\n",
       "            observer.disconnect();\n",
       "        }}\n",
       "}});\n",
       "\n",
       "// Listen for the removal of the full notebook cells\n",
       "var notebookContainer = gd.closest('#notebook-container');\n",
       "if (notebookContainer) {{\n",
       "    x.observe(notebookContainer, {childList: true});\n",
       "}}\n",
       "\n",
       "// Listen for the clearing of the current output cell\n",
       "var outputEl = gd.closest('.output');\n",
       "if (outputEl) {{\n",
       "    x.observe(outputEl, {childList: true});\n",
       "}}\n",
       "\n",
       "                        })                };                });            </script>        </div>"
      ]
     },
     "metadata": {},
     "output_type": "display_data"
    }
   ],
   "source": [
    "from utils import plot_charging_schedule\n",
    "\n",
    "fig = plot_charging_schedule(charging_unit, qcio_minimization_result.x, marker_size=20)\n",
    "fig.update_layout(width=400, height=300)\n",
    "fig.show()"
   ]
  },
  {
   "cell_type": "code",
   "execution_count": 25,
   "id": "35c96419",
   "metadata": {},
   "outputs": [],
   "source": [
    "#from utils import plot_charging_schedule, plot_charging_schedule_mp\n",
    "\n",
    "#fig = plot_charging_schedule_mp(charging_unit, qcio_minimization_result.x, marker_size=20)\n",
    "#fig.update_layout(width=400, height=300)\n",
    "#fig.show()"
   ]
  },
  {
   "cell_type": "markdown",
   "id": "overhead-fusion",
   "metadata": {
    "cell_style": "center"
   },
   "source": [
    "Clearly, this is an optimal solution to our problem:\n",
    "\n",
    "<img src=\"images/notebook_1_poc_example.png\" width=\"400\" />"
   ]
  },
  {
   "cell_type": "markdown",
   "id": "internal-insurance",
   "metadata": {},
   "source": [
    "# Convert QCIO to a QUBO"
   ]
  },
  {
   "cell_type": "markdown",
   "id": "pursuant-density",
   "metadata": {},
   "source": [
    "Later we want to solve our optimization problem (QCIO) with the quantum algorithm QAOA. This algorithm requires the problem in a different form which will derive in this section."
   ]
  },
  {
   "cell_type": "markdown",
   "id": "electoral-mercury",
   "metadata": {},
   "source": [
    "Recall that (QCIO) was given by\n",
    "$$\n",
    "\\min_{\\vec{p} \\in \\{0, \\dots, L\\}^{KT}} f_1(\\vec{p})\n",
    "\\qquad\n",
    "\\text{such that } C \\vec{p} = \\vec{e},\n",
    "\\qquad\n",
    "\\text{where } f_1(\\vec{p}) = \\vec{p}^T A \\vec{p}.\n",
    "$$"
   ]
  },
  {
   "cell_type": "markdown",
   "id": "technical-museum",
   "metadata": {},
   "source": [
    "In the sequence we transform (QCIO) by the following two steps\n",
    "1. convert hard constraints to soft constraints\n",
    "2. binary encoding"
   ]
  },
  {
   "cell_type": "markdown",
   "id": "c1a090f1",
   "metadata": {},
   "source": [
    "## Convert Hard to Soft Constraints"
   ]
  },
  {
   "cell_type": "markdown",
   "id": "exempt-burst",
   "metadata": {},
   "source": [
    "For a **penalty parameter** $\\varrho \\ge 0$ we define\n",
    "\n",
    "$$\n",
    "f_2(\\vec{p}; \\varrho)\n",
    "= f_1(\\vec{p}) + \\varrho \\|C \\vec{p} - \\vec{e}\\|_2^2.\n",
    "$$"
   ]
  },
  {
   "cell_type": "markdown",
   "id": "weighted-disclosure",
   "metadata": {},
   "source": [
    "Note that $f_2$ is also a quadratic cost function:\n",
    "\n",
    "$$\n",
    "f_2(\\vec{p}; \\varrho) = \\vec{p}^{\\, t} \\hat{A}_\\varrho \\vec{p} + \\hat{L}_\\varrho \\vec{p} + \\hat{c}_\\varrho,\n",
    "\\qquad\n",
    "\\hat{A}_\\varrho = A + \\varrho C^t C,\n",
    "\\quad\n",
    "\\hat{L}_\\varrho = - 2 \\varrho \\vec{e}^{\\, t} C,\n",
    "\\quad\n",
    "\\hat{c}_\\varrho = \\varrho \\|\\vec{e}\\|_2^2.\n",
    "$$"
   ]
  },
  {
   "cell_type": "markdown",
   "id": "geographic-coating",
   "metadata": {},
   "source": [
    "Now, we have (for a fixed penalty parameter $\\varrho$) a **quadratic unconstrained integer optimization** problem \n",
    "\n",
    "$$\n",
    "\\begin{equation}\n",
    "    \\min_{\\vec{p} \\in \\{0, \\dots, L\\}^{KT}} f_2(\\vec{p}; \\varrho)\n",
    "    \\label{eq:quio}\n",
    "    \\tag{QUIO}\n",
    "\\end{equation}\n",
    "$$"
   ]
  },
  {
   "cell_type": "markdown",
   "id": "outer-impossible",
   "metadata": {},
   "source": [
    "It is important to note that if $\\varrho$ is chosen large enough then the solution of (QUIO) is also a solution of (QCIO). On the other hand this means that choosing $\\varrho$ too small can lead to *unfeasible* solutions, i.e. solutions $\\vec{p}$ of (QUIO) that do not satisfy the constraint $C \\vec{p} = \\vec{e}$ of (QCIO)."
   ]
  },
  {
   "cell_type": "markdown",
   "id": "aac719e0",
   "metadata": {},
   "source": [
    "## Binary Encoding"
   ]
  },
  {
   "cell_type": "markdown",
   "id": "conservative-slovenia",
   "metadata": {},
   "source": [
    "A **binary encoding** is given by a transformation matrix $T$ such that $\\vec{p} = B \\vec{b}$ where the coefficients $b_i$ of $\\vec{b}$ are binary, i.e. $b_i \\in \\{0, 1\\}$."
   ]
  },
  {
   "cell_type": "markdown",
   "id": "effd7a5b",
   "metadata": {},
   "source": [
    "By substituting $\\vec{p} = T \\vec{b}$ in (QUIO) we get a **quadratic unconstrained binary optimization** problem\n",
    "\n",
    "$$\n",
    "\\begin{equation}\n",
    "    \\min_{\\vec{b} \\in \\{0, 1\\}^\\tilde{N}} f_3(\\vec{b}; \\varrho) \\ ,\n",
    "    \\label{eq:qubo}\n",
    "    \\tag{QUBO}\n",
    "\\end{equation}\n",
    "$$"
   ]
  },
  {
   "cell_type": "markdown",
   "id": "78792af9",
   "metadata": {},
   "source": [
    "where\n",
    "$$\n",
    "f_3(\\vec{b}; \\varrho)\n",
    "= \\vec{b}^{\\, t} \\tilde{A}_\\varrho \\vec{b} + \\tilde{L}_\\varrho \\vec{b} + \\tilde{c}_ \\varrho,\n",
    "\\qquad\n",
    "\\tilde{A}_\\varrho = B^{\\, t} \\hat{A}_\\varrho B, \\; \\;\n",
    "\\tilde{L}_\\varrho = \\hat{L}_\\varrho B, \\; \\; \n",
    "\\tilde{c}_\\varrho = \\hat{c}_\\varrho.\n",
    "$$"
   ]
  },
  {
   "cell_type": "markdown",
   "id": "070a9629",
   "metadata": {},
   "source": [
    "In the next lines we give a simple example of a binary encoding and refer to the literature for advanced encodings."
   ]
  },
  {
   "cell_type": "markdown",
   "id": "65fe739b",
   "metadata": {},
   "source": [
    "### Example"
   ]
  },
  {
   "cell_type": "markdown",
   "id": "seven-updating",
   "metadata": {},
   "source": [
    "Let $w=3$ bits be a fixed encoding width. Then, we can represent every component $p_i \\in \\{0, 1, \\dots, 5\\}$ of our vector $\\vec{p}$ by"
   ]
  },
  {
   "cell_type": "markdown",
   "id": "divine-ocean",
   "metadata": {},
   "source": [
    "$$\n",
    "p_i\n",
    "= b_{i, 0} \\cdot 2^0 + b_{i, 1} \\cdot 2^1 + b_{i, 2} \\cdot 2^2\n",
    "= \\underbrace{\\pmat{2^0 \\; 2^1 \\; 2^2}}_{\\tilde{B}} \\underbrace{\\pmat{b_{i,0} \\\\ b_{i,1} \\\\ b_{i,2}}}_{\\vec{b_{i}}},\n",
    "\\vec{b_{i}} \\in \\{0, 1\\}^3.\n",
    "$$"
   ]
  },
  {
   "cell_type": "markdown",
   "id": "particular-mounting",
   "metadata": {},
   "source": [
    "Using this we can write\n",
    "\n",
    "$$\n",
    "\\vec{p}\n",
    "= \\pmat{p_0 \\\\ \\vdots \\\\ p_{N-1}}\n",
    "= \\underbrace{\n",
    "  \\pmat{\n",
    "    \\tilde{B} &           &        &           &\n",
    "    \\\\\n",
    "              & \\tilde{B} &        &           &\n",
    "    \\\\\n",
    "              &           & \\ddots &           &\n",
    "    \\\\\n",
    "              &           &        & \\tilde{B} &\n",
    "}}_{B}\n",
    "\\underbrace{\\pmat{\\vec{b_1} \\\\ \\vdots \\\\ \\vec{b_N}}}_{\\vec{b}},\n",
    "\\qquad\n",
    "N = K T.\n",
    "$$"
   ]
  },
  {
   "cell_type": "markdown",
   "id": "sensitive-prize",
   "metadata": {},
   "source": [
    "Note that the dimension increases: $\\vec{p}$ has $N = K T$ entries whereas $\\vec{b}$ has $\\tilde{N} = w K T$ entries."
   ]
  },
  {
   "cell_type": "markdown",
   "id": "831dcb84",
   "metadata": {},
   "source": [
    "### Other binary encodings"
   ]
  },
  {
   "cell_type": "markdown",
   "id": "attached-optics",
   "metadata": {},
   "source": [
    "Further information on encondings and more examples can be found in [1]. Also the **bounded-coefficient encoding**, which **qiskit uses by default**, is proposed in this paper (see the documention of the class `qiskit_optimization.converters.IntegerToBinary` [link](https://qiskit.org/documentation/optimization/stubs/qiskit_optimization.converters.IntegerToBinary.html#qiskit_optimization.converters.IntegerToBinary))."
   ]
  },
  {
   "cell_type": "markdown",
   "id": "fdf9f736",
   "metadata": {},
   "source": [
    "### Remark"
   ]
  },
  {
   "cell_type": "markdown",
   "id": "52654592",
   "metadata": {},
   "source": [
    "It is easy to prove that the matrix $\\tilde{A}_\\varrho$ in (QUBO) can always be transformed such that it is an upper triangular matrix:\n",
    "\n",
    "$$\n",
    "\\tilde{A}_\\varrho\n",
    "= \\left( \\begin{array}{rrrrr}\n",
    "    * & * & \\dots & * & * \n",
    "    \\\\\n",
    "    0 & * & \\dots & * & *\n",
    "    \\\\\n",
    "    \\vdots &  & \\ddots & & \\vdots\n",
    "    \\\\\n",
    "    0 & 0 &\\dots & * & *\n",
    "    \\\\\n",
    "    0 & 0 &\\dots & 0 & *\n",
    "\\end{array} \\right) \\ .\n",
    "$$"
   ]
  },
  {
   "cell_type": "markdown",
   "id": "9d241eba",
   "metadata": {},
   "source": [
    "This also holds true for $A$ and $\\hat{A}_\\varrho$. We note this here because qiskit will save the matrices in such a way."
   ]
  },
  {
   "cell_type": "markdown",
   "id": "official-christian",
   "metadata": {},
   "source": [
    "## Implementation"
   ]
  },
  {
   "cell_type": "markdown",
   "id": "romance-deposit",
   "metadata": {},
   "source": [
    "Next, we write a class `Converter` the implements the upper transformations. For this we use the following qiskit classes:\n",
    "- `QuadraticProgramConverter`: This is the abstract class for converters of quadratic programs in qiskit. It enforces that we implement the methods `convert` and `interpret` in our class `Converter`.\n",
    "- `LinearEqualityToPenalty`: For step 1.\n",
    "- `IntegerToBinary`: For step 2.\n",
    "\n",
    "More information on these classes is available here: [link](https://qiskit.org/documentation/optimization/apidocs/qiskit_optimization.converters.html#module-qiskit_optimization.converters)"
   ]
  },
  {
   "cell_type": "code",
   "execution_count": 26,
   "id": "micro-reaction",
   "metadata": {},
   "outputs": [],
   "source": [
    "from typing import Union\n",
    "from qiskit_optimization.converters import QuadraticProgramConverter, LinearEqualityToPenalty, IntegerToBinary\n",
    "\n",
    "class Converter(QuadraticProgramConverter):\n",
    "    def __init__(\n",
    "        self, \n",
    "        penalty: float=None # the penalty parameter for step 1\n",
    "    ) -> None:\n",
    "        super().__init__()\n",
    "        self._penalty = penalty\n",
    "        self.linear_equality_to_penalty_converter = LinearEqualityToPenalty(penalty)\n",
    "        self.integer_to_binary_converter = IntegerToBinary()\n",
    "\n",
    "    def convert(self, quadratic_program: QuadraticProgram) -> QuadraticProgram:\n",
    "        return self.integer_to_binary_converter.convert(\n",
    "            self.linear_equality_to_penalty_converter.convert(quadratic_program))\n",
    "    \n",
    "    def interpret(self, x: Union[np.ndarray, List[float]]) -> np.ndarray:\n",
    "        return self.linear_equality_to_penalty_converter.interpret(\n",
    "            self.integer_to_binary_converter.interpret(x))"
   ]
  },
  {
   "cell_type": "markdown",
   "id": "6a70e477",
   "metadata": {},
   "source": [
    "## Example"
   ]
  },
  {
   "cell_type": "markdown",
   "id": "associate-settle",
   "metadata": {},
   "source": [
    "Let us use our `Converter` to convert `qcio`."
   ]
  },
  {
   "cell_type": "code",
   "execution_count": 27,
   "id": "liberal-tract",
   "metadata": {
    "scrolled": true
   },
   "outputs": [
    {
     "name": "stdout",
     "output_type": "stream",
     "text": [
      "Problem name: QUBO\n",
      "\n",
      "Minimize\n",
      "  6.1*p_car_green_t0@0^2 + 24.4*p_car_green_t0@0*p_car_green_t0@1\n",
      "  + 24.4*p_car_green_t0@0*p_car_green_t0@2\n",
      "  + 10.2*p_car_green_t0@0*p_car_green_t1@0\n",
      "  + 20.4*p_car_green_t0@0*p_car_green_t1@1\n",
      "  + 20.4*p_car_green_t0@0*p_car_green_t1@2\n",
      "  + 10.2*p_car_green_t0@0*p_car_green_t2@0\n",
      "  + 20.4*p_car_green_t0@0*p_car_green_t2@1\n",
      "  + 20.4*p_car_green_t0@0*p_car_green_t2@2\n",
      "  + 10.2*p_car_green_t0@0*p_car_green_t3@0\n",
      "  + 20.4*p_car_green_t0@0*p_car_green_t3@1\n",
      "  + 20.4*p_car_green_t0@0*p_car_green_t3@2\n",
      "  + 2*p_car_green_t0@0*p_car_orange_t0@0 + 4*p_car_green_t0@0*p_car_orange_t0@1\n",
      "  + 4*p_car_green_t0@0*p_car_orange_t0@2 + 24.4*p_car_green_t0@1^2\n",
      "  + 48.8*p_car_green_t0@1*p_car_green_t0@2\n",
      "  + 20.4*p_car_green_t0@1*p_car_green_t1@0\n",
      "  + 40.8*p_car_green_t0@1*p_car_green_t1@1\n",
      "  + 40.8*p_car_green_t0@1*p_car_green_t1@2\n",
      "  + 20.4*p_car_green_t0@1*p_car_green_t2@0\n",
      "  + 40.8*p_car_green_t0@1*p_car_green_t2@1\n",
      "  + 40.8*p_car_green_t0@1*p_car_green_t2@2\n",
      "  + 20.4*p_car_green_t0@1*p_car_green_t3@0\n",
      "  + 40.8*p_car_green_t0@1*p_car_green_t3@1\n",
      "  + 40.8*p_car_green_t0@1*p_car_green_t3@2\n",
      "  + 4*p_car_green_t0@1*p_car_orange_t0@0 + 8*p_car_green_t0@1*p_car_orange_t0@1\n",
      "  + 8*p_car_green_t0@1*p_car_orange_t0@2 + 24.4*p_car_green_t0@2^2\n",
      "  + 20.4*p_car_green_t0@2*p_car_green_t1@0\n",
      "  + 40.8*p_car_green_t0@2*p_car_green_t1@1\n",
      "  + 40.8*p_car_green_t0@2*p_car_green_t1@2\n",
      "  + 20.4*p_car_green_t0@2*p_car_green_t2@0\n",
      "  + 40.8*p_car_green_t0@2*p_car_green_t2@1\n",
      "  + 40.8*p_car_green_t0@2*p_car_green_t2@2\n",
      "  + 20.4*p_car_green_t0@2*p_car_green_t3@0\n",
      "  + 40.8*p_car_green_t0@2*p_car_green_t3@1\n",
      "  + 40.8*p_car_green_t0@2*p_car_green_t3@2\n",
      "  + 4*p_car_green_t0@2*p_car_orange_t0@0 + 8*p_car_green_t0@2*p_car_orange_t0@1\n",
      "  + 8*p_car_green_t0@2*p_car_orange_t0@2 + 6.1*p_car_green_t1@0^2\n",
      "  + 24.4*p_car_green_t1@0*p_car_green_t1@1\n",
      "  + 24.4*p_car_green_t1@0*p_car_green_t1@2\n",
      "  + 10.2*p_car_green_t1@0*p_car_green_t2@0\n",
      "  + 20.4*p_car_green_t1@0*p_car_green_t2@1\n",
      "  + 20.4*p_car_green_t1@0*p_car_green_t2@2\n",
      "  + 10.2*p_car_green_t1@0*p_car_green_t3@0\n",
      "  + 20.4*p_car_green_t1@0*p_car_green_t3@1\n",
      "  + 20.4*p_car_green_t1@0*p_car_green_t3@2\n",
      "  + 2*p_car_green_t1@0*p_car_orange_t1@0 + 4*p_car_green_t1@0*p_car_orange_t1@1\n",
      "  + 4*p_car_green_t1@0*p_car_orange_t1@2 + 24.4*p_car_green_t1@1^2\n",
      "  + 48.8*p_car_green_t1@1*p_car_green_t1@2\n",
      "  + 20.4*p_car_green_t1@1*p_car_green_t2@0\n",
      "  + 40.8*p_car_green_t1@1*p_car_green_t2@1\n",
      "  + 40.8*p_car_green_t1@1*p_car_green_t2@2\n",
      "  + 20.4*p_car_green_t1@1*p_car_green_t3@0\n",
      "  + 40.8*p_car_green_t1@1*p_car_green_t3@1\n",
      "  + 40.8*p_car_green_t1@1*p_car_green_t3@2\n",
      "  + 4*p_car_green_t1@1*p_car_orange_t1@0 + 8*p_car_green_t1@1*p_car_orange_t1@1\n",
      "  + 8*p_car_green_t1@1*p_car_orange_t1@2 + 24.4*p_car_green_t1@2^2\n",
      "  + 20.4*p_car_green_t1@2*p_car_green_t2@0\n",
      "  + 40.8*p_car_green_t1@2*p_car_green_t2@1\n",
      "  + 40.8*p_car_green_t1@2*p_car_green_t2@2\n",
      "  + 20.4*p_car_green_t1@2*p_car_green_t3@0\n",
      "  + 40.8*p_car_green_t1@2*p_car_green_t3@1\n",
      "  + 40.8*p_car_green_t1@2*p_car_green_t3@2\n",
      "  + 4*p_car_green_t1@2*p_car_orange_t1@0 + 8*p_car_green_t1@2*p_car_orange_t1@1\n",
      "  + 8*p_car_green_t1@2*p_car_orange_t1@2 + 6.1*p_car_green_t2@0^2\n",
      "  + 24.4*p_car_green_t2@0*p_car_green_t2@1\n",
      "  + 24.4*p_car_green_t2@0*p_car_green_t2@2\n",
      "  + 10.2*p_car_green_t2@0*p_car_green_t3@0\n",
      "  + 20.4*p_car_green_t2@0*p_car_green_t3@1\n",
      "  + 20.4*p_car_green_t2@0*p_car_green_t3@2\n",
      "  + 2*p_car_green_t2@0*p_car_orange_t2@0 + 4*p_car_green_t2@0*p_car_orange_t2@1\n",
      "  + 4*p_car_green_t2@0*p_car_orange_t2@2 + 24.4*p_car_green_t2@1^2\n",
      "  + 48.8*p_car_green_t2@1*p_car_green_t2@2\n",
      "  + 20.4*p_car_green_t2@1*p_car_green_t3@0\n",
      "  + 40.8*p_car_green_t2@1*p_car_green_t3@1\n",
      "  + 40.8*p_car_green_t2@1*p_car_green_t3@2\n",
      "  + 4*p_car_green_t2@1*p_car_orange_t2@0 + 8*p_car_green_t2@1*p_car_orange_t2@1\n",
      "  + 8*p_car_green_t2@1*p_car_orange_t2@2 + 24.4*p_car_green_t2@2^2\n",
      "  + 20.4*p_car_green_t2@2*p_car_green_t3@0\n",
      "  + 40.8*p_car_green_t2@2*p_car_green_t3@1\n",
      "  + 40.8*p_car_green_t2@2*p_car_green_t3@2\n",
      "  + 4*p_car_green_t2@2*p_car_orange_t2@0 + 8*p_car_green_t2@2*p_car_orange_t2@1\n",
      "  + 8*p_car_green_t2@2*p_car_orange_t2@2 + 6.1*p_car_green_t3@0^2\n",
      "  + 24.4*p_car_green_t3@0*p_car_green_t3@1\n",
      "  + 24.4*p_car_green_t3@0*p_car_green_t3@2\n",
      "  + 2*p_car_green_t3@0*p_car_orange_t3@0 + 4*p_car_green_t3@0*p_car_orange_t3@1\n",
      "  + 4*p_car_green_t3@0*p_car_orange_t3@2 + 24.4*p_car_green_t3@1^2\n",
      "  + 48.8*p_car_green_t3@1*p_car_green_t3@2\n",
      "  + 4*p_car_green_t3@1*p_car_orange_t3@0 + 8*p_car_green_t3@1*p_car_orange_t3@1\n",
      "  + 8*p_car_green_t3@1*p_car_orange_t3@2 + 24.4*p_car_green_t3@2^2\n",
      "  + 4*p_car_green_t3@2*p_car_orange_t3@0 + 8*p_car_green_t3@2*p_car_orange_t3@1\n",
      "  + 8*p_car_green_t3@2*p_car_orange_t3@2 + p_car_green_t4@0^2\n",
      "  + 4*p_car_green_t4@0*p_car_green_t4@1 + 4*p_car_green_t4@0*p_car_green_t4@2\n",
      "  + 2*p_car_green_t4@0*p_car_orange_t4@0 + 4*p_car_green_t4@0*p_car_orange_t4@1\n",
      "  + 4*p_car_green_t4@0*p_car_orange_t4@2 + 4*p_car_green_t4@1^2\n",
      "  + 8*p_car_green_t4@1*p_car_green_t4@2 + 4*p_car_green_t4@1*p_car_orange_t4@0\n",
      "  + 8*p_car_green_t4@1*p_car_orange_t4@1 + 8*p_car_green_t4@1*p_car_orange_t4@2\n",
      "  + 4*p_car_green_t4@2^2 + 4*p_car_green_t4@2*p_car_orange_t4@0\n",
      "  + 8*p_car_green_t4@2*p_car_orange_t4@1 + 8*p_car_green_t4@2*p_car_orange_t4@2\n",
      "  + p_car_green_t5@0^2 + 4*p_car_green_t5@0*p_car_green_t5@1\n",
      "  + 4*p_car_green_t5@0*p_car_green_t5@2 + 2*p_car_green_t5@0*p_car_orange_t5@0\n",
      "  + 4*p_car_green_t5@0*p_car_orange_t5@1 + 4*p_car_green_t5@0*p_car_orange_t5@2\n",
      "  + 4*p_car_green_t5@1^2 + 8*p_car_green_t5@1*p_car_green_t5@2\n",
      "  + 4*p_car_green_t5@1*p_car_orange_t5@0 + 8*p_car_green_t5@1*p_car_orange_t5@1\n",
      "  + 8*p_car_green_t5@1*p_car_orange_t5@2 + 4*p_car_green_t5@2^2\n",
      "  + 4*p_car_green_t5@2*p_car_orange_t5@0 + 8*p_car_green_t5@2*p_car_orange_t5@1\n",
      "  + 8*p_car_green_t5@2*p_car_orange_t5@2 + p_car_green_t6@0^2\n",
      "  + 4*p_car_green_t6@0*p_car_green_t6@1 + 4*p_car_green_t6@0*p_car_green_t6@2\n",
      "  + 2*p_car_green_t6@0*p_car_orange_t6@0 + 4*p_car_green_t6@0*p_car_orange_t6@1\n",
      "  + 4*p_car_green_t6@0*p_car_orange_t6@2 + 4*p_car_green_t6@1^2\n",
      "  + 8*p_car_green_t6@1*p_car_green_t6@2 + 4*p_car_green_t6@1*p_car_orange_t6@0\n",
      "  + 8*p_car_green_t6@1*p_car_orange_t6@1 + 8*p_car_green_t6@1*p_car_orange_t6@2\n",
      "  + 4*p_car_green_t6@2^2 + 4*p_car_green_t6@2*p_car_orange_t6@0\n",
      "  + 8*p_car_green_t6@2*p_car_orange_t6@1 + 8*p_car_green_t6@2*p_car_orange_t6@2\n",
      "  + p_car_orange_t0@0^2 + 4*p_car_orange_t0@0*p_car_orange_t0@1\n",
      "  + 4*p_car_orange_t0@0*p_car_orange_t0@2 + 4*p_car_orange_t0@1^2\n",
      "  + 8*p_car_orange_t0@1*p_car_orange_t0@2 + 4*p_car_orange_t0@2^2\n",
      "  + 6.1*p_car_orange_t1@0^2 + 24.4*p_car_orange_t1@0*p_car_orange_t1@1\n",
      "  + 24.4*p_car_orange_t1@0*p_car_orange_t1@2\n",
      "  + 10.2*p_car_orange_t1@0*p_car_orange_t2@0\n",
      "  + 20.4*p_car_orange_t1@0*p_car_orange_t2@1\n",
      "  + 20.4*p_car_orange_t1@0*p_car_orange_t2@2\n",
      "  + 10.2*p_car_orange_t1@0*p_car_orange_t3@0\n",
      "  + 20.4*p_car_orange_t1@0*p_car_orange_t3@1\n",
      "  + 20.4*p_car_orange_t1@0*p_car_orange_t3@2\n",
      "  + 10.2*p_car_orange_t1@0*p_car_orange_t4@0\n",
      "  + 20.4*p_car_orange_t1@0*p_car_orange_t4@1\n",
      "  + 20.4*p_car_orange_t1@0*p_car_orange_t4@2\n",
      "  + 10.2*p_car_orange_t1@0*p_car_orange_t5@0\n",
      "  + 20.4*p_car_orange_t1@0*p_car_orange_t5@1\n",
      "  + 20.4*p_car_orange_t1@0*p_car_orange_t5@2\n",
      "  + 10.2*p_car_orange_t1@0*p_car_orange_t6@0\n",
      "  + 20.4*p_car_orange_t1@0*p_car_orange_t6@1\n",
      "  + 20.4*p_car_orange_t1@0*p_car_orange_t6@2 + 24.4*p_car_orange_t1@1^2\n",
      "  + 48.8*p_car_orange_t1@1*p_car_orange_t1@2\n",
      "  + 20.4*p_car_orange_t1@1*p_car_orange_t2@0\n",
      "  + 40.8*p_car_orange_t1@1*p_car_orange_t2@1\n",
      "  + 40.8*p_car_orange_t1@1*p_car_orange_t2@2\n",
      "  + 20.4*p_car_orange_t1@1*p_car_orange_t3@0\n",
      "  + 40.8*p_car_orange_t1@1*p_car_orange_t3@1\n",
      "  + 40.8*p_car_orange_t1@1*p_car_orange_t3@2\n",
      "  + 20.4*p_car_orange_t1@1*p_car_orange_t4@0\n",
      "  + 40.8*p_car_orange_t1@1*p_car_orange_t4@1\n",
      "  + 40.8*p_car_orange_t1@1*p_car_orange_t4@2\n",
      "  + 20.4*p_car_orange_t1@1*p_car_orange_t5@0\n",
      "  + 40.8*p_car_orange_t1@1*p_car_orange_t5@1\n",
      "  + 40.8*p_car_orange_t1@1*p_car_orange_t5@2\n",
      "  + 20.4*p_car_orange_t1@1*p_car_orange_t6@0\n",
      "  + 40.8*p_car_orange_t1@1*p_car_orange_t6@1\n",
      "  + 40.8*p_car_orange_t1@1*p_car_orange_t6@2 + 24.4*p_car_orange_t1@2^2\n",
      "  + 20.4*p_car_orange_t1@2*p_car_orange_t2@0\n",
      "  + 40.8*p_car_orange_t1@2*p_car_orange_t2@1\n",
      "  + 40.8*p_car_orange_t1@2*p_car_orange_t2@2\n",
      "  + 20.4*p_car_orange_t1@2*p_car_orange_t3@0\n",
      "  + 40.8*p_car_orange_t1@2*p_car_orange_t3@1\n",
      "  + 40.8*p_car_orange_t1@2*p_car_orange_t3@2\n",
      "  + 20.4*p_car_orange_t1@2*p_car_orange_t4@0\n",
      "  + 40.8*p_car_orange_t1@2*p_car_orange_t4@1\n",
      "  + 40.8*p_car_orange_t1@2*p_car_orange_t4@2\n",
      "  + 20.4*p_car_orange_t1@2*p_car_orange_t5@0\n",
      "  + 40.8*p_car_orange_t1@2*p_car_orange_t5@1\n",
      "  + 40.8*p_car_orange_t1@2*p_car_orange_t5@2\n",
      "  + 20.4*p_car_orange_t1@2*p_car_orange_t6@0\n",
      "  + 40.8*p_car_orange_t1@2*p_car_orange_t6@1\n",
      "  + 40.8*p_car_orange_t1@2*p_car_orange_t6@2 + 6.1*p_car_orange_t2@0^2\n",
      "  + 24.4*p_car_orange_t2@0*p_car_orange_t2@1\n",
      "  + 24.4*p_car_orange_t2@0*p_car_orange_t2@2\n",
      "  + 10.2*p_car_orange_t2@0*p_car_orange_t3@0\n",
      "  + 20.4*p_car_orange_t2@0*p_car_orange_t3@1\n",
      "  + 20.4*p_car_orange_t2@0*p_car_orange_t3@2\n",
      "  + 10.2*p_car_orange_t2@0*p_car_orange_t4@0\n",
      "  + 20.4*p_car_orange_t2@0*p_car_orange_t4@1\n",
      "  + 20.4*p_car_orange_t2@0*p_car_orange_t4@2\n",
      "  + 10.2*p_car_orange_t2@0*p_car_orange_t5@0\n",
      "  + 20.4*p_car_orange_t2@0*p_car_orange_t5@1\n",
      "  + 20.4*p_car_orange_t2@0*p_car_orange_t5@2\n",
      "  + 10.2*p_car_orange_t2@0*p_car_orange_t6@0\n",
      "  + 20.4*p_car_orange_t2@0*p_car_orange_t6@1\n",
      "  + 20.4*p_car_orange_t2@0*p_car_orange_t6@2 + 24.4*p_car_orange_t2@1^2\n",
      "  + 48.8*p_car_orange_t2@1*p_car_orange_t2@2\n",
      "  + 20.4*p_car_orange_t2@1*p_car_orange_t3@0\n",
      "  + 40.8*p_car_orange_t2@1*p_car_orange_t3@1\n",
      "  + 40.8*p_car_orange_t2@1*p_car_orange_t3@2\n",
      "  + 20.4*p_car_orange_t2@1*p_car_orange_t4@0\n",
      "  + 40.8*p_car_orange_t2@1*p_car_orange_t4@1\n",
      "  + 40.8*p_car_orange_t2@1*p_car_orange_t4@2\n",
      "  + 20.4*p_car_orange_t2@1*p_car_orange_t5@0\n",
      "  + 40.8*p_car_orange_t2@1*p_car_orange_t5@1\n",
      "  + 40.8*p_car_orange_t2@1*p_car_orange_t5@2\n",
      "  + 20.4*p_car_orange_t2@1*p_car_orange_t6@0\n",
      "  + 40.8*p_car_orange_t2@1*p_car_orange_t6@1\n",
      "  + 40.8*p_car_orange_t2@1*p_car_orange_t6@2 + 24.4*p_car_orange_t2@2^2\n",
      "  + 20.4*p_car_orange_t2@2*p_car_orange_t3@0\n",
      "  + 40.8*p_car_orange_t2@2*p_car_orange_t3@1\n",
      "  + 40.8*p_car_orange_t2@2*p_car_orange_t3@2\n",
      "  + 20.4*p_car_orange_t2@2*p_car_orange_t4@0\n",
      "  + 40.8*p_car_orange_t2@2*p_car_orange_t4@1\n",
      "  + 40.8*p_car_orange_t2@2*p_car_orange_t4@2\n",
      "  + 20.4*p_car_orange_t2@2*p_car_orange_t5@0\n",
      "  + 40.8*p_car_orange_t2@2*p_car_orange_t5@1\n",
      "  + 40.8*p_car_orange_t2@2*p_car_orange_t5@2\n",
      "  + 20.4*p_car_orange_t2@2*p_car_orange_t6@0\n",
      "  + 40.8*p_car_orange_t2@2*p_car_orange_t6@1\n",
      "  + 40.8*p_car_orange_t2@2*p_car_orange_t6@2 + 6.1*p_car_orange_t3@0^2\n",
      "  + 24.4*p_car_orange_t3@0*p_car_orange_t3@1\n",
      "  + 24.4*p_car_orange_t3@0*p_car_orange_t3@2\n",
      "  + 10.2*p_car_orange_t3@0*p_car_orange_t4@0\n",
      "  + 20.4*p_car_orange_t3@0*p_car_orange_t4@1\n",
      "  + 20.4*p_car_orange_t3@0*p_car_orange_t4@2\n",
      "  + 10.2*p_car_orange_t3@0*p_car_orange_t5@0\n",
      "  + 20.4*p_car_orange_t3@0*p_car_orange_t5@1\n",
      "  + 20.4*p_car_orange_t3@0*p_car_orange_t5@2\n",
      "  + 10.2*p_car_orange_t3@0*p_car_orange_t6@0\n",
      "  + 20.4*p_car_orange_t3@0*p_car_orange_t6@1\n",
      "  + 20.4*p_car_orange_t3@0*p_car_orange_t6@2 + 24.4*p_car_orange_t3@1^2\n",
      "  + 48.8*p_car_orange_t3@1*p_car_orange_t3@2\n",
      "  + 20.4*p_car_orange_t3@1*p_car_orange_t4@0\n",
      "  + 40.8*p_car_orange_t3@1*p_car_orange_t4@1\n",
      "  + 40.8*p_car_orange_t3@1*p_car_orange_t4@2\n",
      "  + 20.4*p_car_orange_t3@1*p_car_orange_t5@0\n",
      "  + 40.8*p_car_orange_t3@1*p_car_orange_t5@1\n",
      "  + 40.8*p_car_orange_t3@1*p_car_orange_t5@2\n",
      "  + 20.4*p_car_orange_t3@1*p_car_orange_t6@0\n",
      "  + 40.8*p_car_orange_t3@1*p_car_orange_t6@1\n",
      "  + 40.8*p_car_orange_t3@1*p_car_orange_t6@2 + 24.4*p_car_orange_t3@2^2\n",
      "  + 20.4*p_car_orange_t3@2*p_car_orange_t4@0\n",
      "  + 40.8*p_car_orange_t3@2*p_car_orange_t4@1\n",
      "  + 40.8*p_car_orange_t3@2*p_car_orange_t4@2\n",
      "  + 20.4*p_car_orange_t3@2*p_car_orange_t5@0\n",
      "  + 40.8*p_car_orange_t3@2*p_car_orange_t5@1\n",
      "  + 40.8*p_car_orange_t3@2*p_car_orange_t5@2\n",
      "  + 20.4*p_car_orange_t3@2*p_car_orange_t6@0\n",
      "  + 40.8*p_car_orange_t3@2*p_car_orange_t6@1\n",
      "  + 40.8*p_car_orange_t3@2*p_car_orange_t6@2 + 6.1*p_car_orange_t4@0^2\n",
      "  + 24.4*p_car_orange_t4@0*p_car_orange_t4@1\n",
      "  + 24.4*p_car_orange_t4@0*p_car_orange_t4@2\n",
      "  + 10.2*p_car_orange_t4@0*p_car_orange_t5@0\n",
      "  + 20.4*p_car_orange_t4@0*p_car_orange_t5@1\n",
      "  + 20.4*p_car_orange_t4@0*p_car_orange_t5@2\n",
      "  + 10.2*p_car_orange_t4@0*p_car_orange_t6@0\n",
      "  + 20.4*p_car_orange_t4@0*p_car_orange_t6@1\n",
      "  + 20.4*p_car_orange_t4@0*p_car_orange_t6@2 + 24.4*p_car_orange_t4@1^2\n",
      "  + 48.8*p_car_orange_t4@1*p_car_orange_t4@2\n",
      "  + 20.4*p_car_orange_t4@1*p_car_orange_t5@0\n",
      "  + 40.8*p_car_orange_t4@1*p_car_orange_t5@1\n",
      "  + 40.8*p_car_orange_t4@1*p_car_orange_t5@2\n",
      "  + 20.4*p_car_orange_t4@1*p_car_orange_t6@0\n",
      "  + 40.8*p_car_orange_t4@1*p_car_orange_t6@1\n",
      "  + 40.8*p_car_orange_t4@1*p_car_orange_t6@2 + 24.4*p_car_orange_t4@2^2\n",
      "  + 20.4*p_car_orange_t4@2*p_car_orange_t5@0\n",
      "  + 40.8*p_car_orange_t4@2*p_car_orange_t5@1\n",
      "  + 40.8*p_car_orange_t4@2*p_car_orange_t5@2\n",
      "  + 20.4*p_car_orange_t4@2*p_car_orange_t6@0\n",
      "  + 40.8*p_car_orange_t4@2*p_car_orange_t6@1\n",
      "  + 40.8*p_car_orange_t4@2*p_car_orange_t6@2 + 6.1*p_car_orange_t5@0^2\n",
      "  + 24.4*p_car_orange_t5@0*p_car_orange_t5@1\n",
      "  + 24.4*p_car_orange_t5@0*p_car_orange_t5@2\n",
      "  + 10.2*p_car_orange_t5@0*p_car_orange_t6@0\n",
      "  + 20.4*p_car_orange_t5@0*p_car_orange_t6@1\n",
      "  + 20.4*p_car_orange_t5@0*p_car_orange_t6@2 + 24.4*p_car_orange_t5@1^2\n",
      "  + 48.8*p_car_orange_t5@1*p_car_orange_t5@2\n",
      "  + 20.4*p_car_orange_t5@1*p_car_orange_t6@0\n",
      "  + 40.8*p_car_orange_t5@1*p_car_orange_t6@1\n",
      "  + 40.8*p_car_orange_t5@1*p_car_orange_t6@2 + 24.4*p_car_orange_t5@2^2\n",
      "  + 20.4*p_car_orange_t5@2*p_car_orange_t6@0\n",
      "  + 40.8*p_car_orange_t5@2*p_car_orange_t6@1\n",
      "  + 40.8*p_car_orange_t5@2*p_car_orange_t6@2 + 6.1*p_car_orange_t6@0^2\n",
      "  + 24.4*p_car_orange_t6@0*p_car_orange_t6@1\n",
      "  + 24.4*p_car_orange_t6@0*p_car_orange_t6@2 + 24.4*p_car_orange_t6@1^2\n",
      "  + 48.8*p_car_orange_t6@1*p_car_orange_t6@2 + 24.4*p_car_orange_t6@2^2\n",
      "  - 81.6*p_car_green_t0@0 - 163.2*p_car_green_t0@1 - 163.2*p_car_green_t0@2\n",
      "  - 81.6*p_car_green_t1@0 - 163.2*p_car_green_t1@1 - 163.2*p_car_green_t1@2\n",
      "  - 81.6*p_car_green_t2@0 - 163.2*p_car_green_t2@1 - 163.2*p_car_green_t2@2\n",
      "  - 81.6*p_car_green_t3@0 - 163.2*p_car_green_t3@1 - 163.2*p_car_green_t3@2\n",
      "  - 122.39999999999999*p_car_orange_t1@0 - 244.79999999999998*p_car_orange_t1@1\n",
      "  - 244.79999999999998*p_car_orange_t1@2 - 122.39999999999999*p_car_orange_t2@0\n",
      "  - 244.79999999999998*p_car_orange_t2@1 - 244.79999999999998*p_car_orange_t2@2\n",
      "  - 122.39999999999999*p_car_orange_t3@0 - 244.79999999999998*p_car_orange_t3@1\n",
      "  - 244.79999999999998*p_car_orange_t3@2 - 122.39999999999999*p_car_orange_t4@0\n",
      "  - 244.79999999999998*p_car_orange_t4@1 - 244.79999999999998*p_car_orange_t4@2\n",
      "  - 122.39999999999999*p_car_orange_t5@0 - 244.79999999999998*p_car_orange_t5@1\n",
      "  - 244.79999999999998*p_car_orange_t5@2 - 122.39999999999999*p_car_orange_t6@0\n",
      "  - 244.79999999999998*p_car_orange_t6@1 - 244.79999999999998*p_car_orange_t6@2\n",
      "  + 1060.8\n",
      "\n",
      "Subject to\n",
      "  No constraints\n",
      "\n",
      "  Binary variables (42)\n",
      "    p_car_green_t0@0 p_car_green_t0@1 p_car_green_t0@2 p_car_green_t1@0\n",
      "    p_car_green_t1@1 p_car_green_t1@2 p_car_green_t2@0 p_car_green_t2@1\n",
      "    p_car_green_t2@2 p_car_green_t3@0 p_car_green_t3@1 p_car_green_t3@2\n",
      "    p_car_green_t4@0 p_car_green_t4@1 p_car_green_t4@2 p_car_green_t5@0\n",
      "    p_car_green_t5@1 p_car_green_t5@2 p_car_green_t6@0 p_car_green_t6@1\n",
      "    p_car_green_t6@2 p_car_orange_t0@0 p_car_orange_t0@1 p_car_orange_t0@2\n",
      "    p_car_orange_t1@0 p_car_orange_t1@1 p_car_orange_t1@2 p_car_orange_t2@0\n",
      "    p_car_orange_t2@1 p_car_orange_t2@2 p_car_orange_t3@0 p_car_orange_t3@1\n",
      "    p_car_orange_t3@2 p_car_orange_t4@0 p_car_orange_t4@1 p_car_orange_t4@2\n",
      "    p_car_orange_t5@0 p_car_orange_t5@1 p_car_orange_t5@2 p_car_orange_t6@0\n",
      "    p_car_orange_t6@1 p_car_orange_t6@2\n",
      "\n"
     ]
    }
   ],
   "source": [
    "converter = Converter(penalty=5.1) # Note: penalty <= 5.0 will give a non-feasible solution; penalty > 5.0 will give a feasible solution\n",
    "qubo = converter.convert(qcio)\n",
    "qubo.name = \"QUBO\"\n",
    "print(qubo.prettyprint())"
   ]
  },
  {
   "cell_type": "markdown",
   "id": "needed-freeware",
   "metadata": {},
   "source": [
    "We can verify that the number of binary variables has grown in comparison with the number of integer variables:"
   ]
  },
  {
   "cell_type": "code",
   "execution_count": 28,
   "id": "afa13252",
   "metadata": {
    "scrolled": true
   },
   "outputs": [
    {
     "name": "stdout",
     "output_type": "stream",
     "text": [
      "Number integer variables:  14\n",
      "Number binary variables:  42\n"
     ]
    }
   ],
   "source": [
    "number_integer_variables = qcio.get_num_integer_vars()\n",
    "print(\"Number integer variables: \", number_integer_variables)\n",
    "      \n",
    "number_binary_variables = qubo.get_num_binary_vars()\n",
    "print(\"Number binary variables: \", number_binary_variables)"
   ]
  },
  {
   "cell_type": "markdown",
   "id": "selective-rally",
   "metadata": {},
   "source": [
    "As a last step let's retrieve the matrix $\\tilde{A}$ from `qubo` and make plot of its sparsity pattern."
   ]
  },
  {
   "cell_type": "code",
   "execution_count": 29,
   "id": "c3c11fcc",
   "metadata": {},
   "outputs": [
    {
     "name": "stdout",
     "output_type": "stream",
     "text": [
      "Dimension:  (42, 42)\n"
     ]
    }
   ],
   "source": [
    "A_tilde = qubo.objective.quadratic.to_array()\n",
    "print(\"Dimension: \", A_tilde.shape)"
   ]
  },
  {
   "cell_type": "code",
   "execution_count": 30,
   "id": "8192cb34",
   "metadata": {},
   "outputs": [
    {
     "data": {
      "image/png": "[encoded data removed]",
      "text/plain": [
       "<Figure size 640x480 with 1 Axes>"
      ]
     },
     "metadata": {},
     "output_type": "display_data"
    }
   ],
   "source": [
    "import matplotlib.pyplot as plt\n",
    "fig = plt.figure()\n",
    "ax = fig.add_subplot(1, 1, 1)\n",
    "ax.spy(A_tilde, markersize=3)\n",
    "plt.show()"
   ]
  },
  {
   "cell_type": "markdown",
   "id": "39d77683",
   "metadata": {},
   "source": [
    "In Notebook 4 we will discuss the meaning and the importance of the sparsity pattern."
   ]
  },
  {
   "cell_type": "markdown",
   "id": "8152b042",
   "metadata": {},
   "source": [
    "## Solve with a Classical Solver"
   ]
  },
  {
   "cell_type": "markdown",
   "id": "linear-algebra",
   "metadata": {},
   "source": [
    "Analog to (QCIO) we can use a classical solver to solve (QUBO). In the next cells we do this for our `qubo` from above."
   ]
  },
  {
   "cell_type": "code",
   "execution_count": 31,
   "id": "431b998b",
   "metadata": {},
   "outputs": [
    {
     "name": "stdout",
     "output_type": "stream",
     "text": [
      "minimum point (binary): b_min =  [0. 1. 0. 0. 0. 1. 0. 1. 0. 0. 0. 1. 0. 0. 0. 0. 0. 0. 0. 0. 0. 0. 0. 0.\n",
      " 1. 0. 0. 1. 0. 0. 1. 0. 0. 1. 1. 0. 1. 0. 1. 1. 0. 1.]\n",
      "minimum value: f_3(b_min) =  57.999999999999886\n"
     ]
    }
   ],
   "source": [
    "qubo_minimization_result = cplex_optimizer.solve(qubo)\n",
    "\n",
    "print(\"minimum point (binary): b_min = \", qubo_minimization_result.x)\n",
    "print(\"minimum value: f_3(b_min) = \", qubo_minimization_result.fval)"
   ]
  },
  {
   "cell_type": "markdown",
   "id": "viral-bulletin",
   "metadata": {},
   "source": [
    "The array `qubo_minimization_result.x` corresponds to a solution $\\vec{b}_\\text{min}$ of (QUBO). With the method `interpret` of `converter` we can transform the binary vector $\\vec{b}_\\text{min}$ to the integer vector $\\vec{p}_\\text{min}$ (which is a feasible solution of (QCIO) if $\\varrho$ was chosen large enough)."
   ]
  },
  {
   "cell_type": "code",
   "execution_count": 32,
   "id": "extended-arrangement",
   "metadata": {},
   "outputs": [
    {
     "name": "stdout",
     "output_type": "stream",
     "text": [
      "minimum point (integer): p_min =  [2. 2. 2. 2. 0. 0. 0. 0. 1. 1. 1. 3. 3. 3.]\n",
      "minimum value: f_1(p_min) =  58.0\n",
      "minimum point feasible =  True\n"
     ]
    }
   ],
   "source": [
    "b_min = qubo_minimization_result.x\n",
    "p_min = converter.interpret(b_min)\n",
    "\n",
    "print(\"minimum point (integer): p_min = \", p_min)\n",
    "print(\"minimum value: f_1(p_min) = \", qcio.objective.evaluate(p_min))\n",
    "print(\"minimum point feasible = \", qcio.is_feasible(p_min))"
   ]
  },
  {
   "cell_type": "markdown",
   "id": "discrete-seattle",
   "metadata": {},
   "source": [
    "Last, let's plot the solution:"
   ]
  },
  {
   "cell_type": "code",
   "execution_count": 33,
   "id": "1bc65893",
   "metadata": {
    "cell_style": "center",
    "scrolled": true
   },
   "outputs": [
    {
     "data": {
      "application/vnd.plotly.v1+json": {
       "config": {
        "plotlyServerURL": "https://plot.ly"
       },
       "data": [
        {
         "marker": {
          "color": "green",
          "size": 20,
          "symbol": "square"
         },
         "mode": "markers",
         "name": "car_green",
         "showlegend": true,
         "type": "scatter",
         "x": [
          0.5,
          0.5
         ],
         "y": [
          0,
          1
         ]
        },
        {
         "marker": {
          "color": "orange",
          "size": 20,
          "symbol": "square"
         },
         "mode": "markers",
         "name": "car_orange",
         "showlegend": true,
         "type": "scatter",
         "x": [],
         "y": []
        },
        {
         "marker": {
          "color": "green",
          "size": 20,
          "symbol": "square"
         },
         "mode": "markers",
         "name": "car_green",
         "showlegend": false,
         "type": "scatter",
         "x": [
          1.5,
          1.5
         ],
         "y": [
          0,
          1
         ]
        },
        {
         "marker": {
          "color": "orange",
          "size": 20,
          "symbol": "square"
         },
         "mode": "markers",
         "name": "car_orange",
         "showlegend": true,
         "type": "scatter",
         "x": [
          1.5
         ],
         "y": [
          2
         ]
        },
        {
         "marker": {
          "color": "green",
          "size": 20,
          "symbol": "square"
         },
         "mode": "markers",
         "name": "car_green",
         "showlegend": false,
         "type": "scatter",
         "x": [
          2.5,
          2.5
         ],
         "y": [
          0,
          1
         ]
        },
        {
         "marker": {
          "color": "orange",
          "size": 20,
          "symbol": "square"
         },
         "mode": "markers",
         "name": "car_orange",
         "showlegend": false,
         "type": "scatter",
         "x": [
          2.5
         ],
         "y": [
          2
         ]
        },
        {
         "marker": {
          "color": "green",
          "size": 20,
          "symbol": "square"
         },
         "mode": "markers",
         "name": "car_green",
         "showlegend": false,
         "type": "scatter",
         "x": [
          3.5,
          3.5
         ],
         "y": [
          0,
          1
         ]
        },
        {
         "marker": {
          "color": "orange",
          "size": 20,
          "symbol": "square"
         },
         "mode": "markers",
         "name": "car_orange",
         "showlegend": false,
         "type": "scatter",
         "x": [
          3.5
         ],
         "y": [
          2
         ]
        },
        {
         "marker": {
          "color": "green",
          "size": 20,
          "symbol": "square"
         },
         "mode": "markers",
         "name": "car_green",
         "showlegend": false,
         "type": "scatter",
         "x": [],
         "y": []
        },
        {
         "marker": {
          "color": "orange",
          "size": 20,
          "symbol": "square"
         },
         "mode": "markers",
         "name": "car_orange",
         "showlegend": false,
         "type": "scatter",
         "x": [
          4.5,
          4.5,
          4.5
         ],
         "y": [
          0,
          1,
          2
         ]
        },
        {
         "marker": {
          "color": "green",
          "size": 20,
          "symbol": "square"
         },
         "mode": "markers",
         "name": "car_green",
         "showlegend": false,
         "type": "scatter",
         "x": [],
         "y": []
        },
        {
         "marker": {
          "color": "orange",
          "size": 20,
          "symbol": "square"
         },
         "mode": "markers",
         "name": "car_orange",
         "showlegend": false,
         "type": "scatter",
         "x": [
          5.5,
          5.5,
          5.5
         ],
         "y": [
          0,
          1,
          2
         ]
        },
        {
         "marker": {
          "color": "green",
          "size": 20,
          "symbol": "square"
         },
         "mode": "markers",
         "name": "car_green",
         "showlegend": false,
         "type": "scatter",
         "x": [],
         "y": []
        },
        {
         "marker": {
          "color": "orange",
          "size": 20,
          "symbol": "square"
         },
         "mode": "markers",
         "name": "car_orange",
         "showlegend": false,
         "type": "scatter",
         "x": [
          6.5,
          6.5,
          6.5
         ],
         "y": [
          0,
          1,
          2
         ]
        }
       ],
       "layout": {
        "height": 300,
        "template": {
         "data": {
          "bar": [
           {
            "error_x": {
             "color": "#2a3f5f"
            },
            "error_y": {
             "color": "#2a3f5f"
            },
            "marker": {
             "line": {
              "color": "#E5ECF6",
              "width": 0.5
             },
             "pattern": {
              "fillmode": "overlay",
              "size": 10,
              "solidity": 0.2
             }
            },
            "type": "bar"
           }
          ],
          "barpolar": [
           {
            "marker": {
             "line": {
              "color": "#E5ECF6",
              "width": 0.5
             },
             "pattern": {
              "fillmode": "overlay",
              "size": 10,
              "solidity": 0.2
             }
            },
            "type": "barpolar"
           }
          ],
          "carpet": [
           {
            "aaxis": {
             "endlinecolor": "#2a3f5f",
             "gridcolor": "white",
             "linecolor": "white",
             "minorgridcolor": "white",
             "startlinecolor": "#2a3f5f"
            },
            "baxis": {
             "endlinecolor": "#2a3f5f",
             "gridcolor": "white",
             "linecolor": "white",
             "minorgridcolor": "white",
             "startlinecolor": "#2a3f5f"
            },
            "type": "carpet"
           }
          ],
          "choropleth": [
           {
            "colorbar": {
             "outlinewidth": 0,
             "ticks": ""
            },
            "type": "choropleth"
           }
          ],
          "contour": [
           {
            "colorbar": {
             "outlinewidth": 0,
             "ticks": ""
            },
            "colorscale": [
             [
              0,
              "#0d0887"
             ],
             [
              0.1111111111111111,
              "#46039f"
             ],
             [
              0.2222222222222222,
              "#7201a8"
             ],
             [
              0.3333333333333333,
              "#9c179e"
             ],
             [
              0.4444444444444444,
              "#bd3786"
             ],
             [
              0.5555555555555556,
              "#d8576b"
             ],
             [
              0.6666666666666666,
              "#ed7953"
             ],
             [
              0.7777777777777778,
              "#fb9f3a"
             ],
             [
              0.8888888888888888,
              "#fdca26"
             ],
             [
              1,
              "#f0f921"
             ]
            ],
            "type": "contour"
           }
          ],
          "contourcarpet": [
           {
            "colorbar": {
             "outlinewidth": 0,
             "ticks": ""
            },
            "type": "contourcarpet"
           }
          ],
          "heatmap": [
           {
            "colorbar": {
             "outlinewidth": 0,
             "ticks": ""
            },
            "colorscale": [
             [
              0,
              "#0d0887"
             ],
             [
              0.1111111111111111,
              "#46039f"
             ],
             [
              0.2222222222222222,
              "#7201a8"
             ],
             [
              0.3333333333333333,
              "#9c179e"
             ],
             [
              0.4444444444444444,
              "#bd3786"
             ],
             [
              0.5555555555555556,
              "#d8576b"
             ],
             [
              0.6666666666666666,
              "#ed7953"
             ],
             [
              0.7777777777777778,
              "#fb9f3a"
             ],
             [
              0.8888888888888888,
              "#fdca26"
             ],
             [
              1,
              "#f0f921"
             ]
            ],
            "type": "heatmap"
           }
          ],
          "heatmapgl": [
           {
            "colorbar": {
             "outlinewidth": 0,
             "ticks": ""
            },
            "colorscale": [
             [
              0,
              "#0d0887"
             ],
             [
              0.1111111111111111,
              "#46039f"
             ],
             [
              0.2222222222222222,
              "#7201a8"
             ],
             [
              0.3333333333333333,
              "#9c179e"
             ],
             [
              0.4444444444444444,
              "#bd3786"
             ],
             [
              0.5555555555555556,
              "#d8576b"
             ],
             [
              0.6666666666666666,
              "#ed7953"
             ],
             [
              0.7777777777777778,
              "#fb9f3a"
             ],
             [
              0.8888888888888888,
              "#fdca26"
             ],
             [
              1,
              "#f0f921"
             ]
            ],
            "type": "heatmapgl"
           }
          ],
          "histogram": [
           {
            "marker": {
             "pattern": {
              "fillmode": "overlay",
              "size": 10,
              "solidity": 0.2
             }
            },
            "type": "histogram"
           }
          ],
          "histogram2d": [
           {
            "colorbar": {
             "outlinewidth": 0,
             "ticks": ""
            },
            "colorscale": [
             [
              0,
              "#0d0887"
             ],
             [
              0.1111111111111111,
              "#46039f"
             ],
             [
              0.2222222222222222,
              "#7201a8"
             ],
             [
              0.3333333333333333,
              "#9c179e"
             ],
             [
              0.4444444444444444,
              "#bd3786"
             ],
             [
              0.5555555555555556,
              "#d8576b"
             ],
             [
              0.6666666666666666,
              "#ed7953"
             ],
             [
              0.7777777777777778,
              "#fb9f3a"
             ],
             [
              0.8888888888888888,
              "#fdca26"
             ],
             [
              1,
              "#f0f921"
             ]
            ],
            "type": "histogram2d"
           }
          ],
          "histogram2dcontour": [
           {
            "colorbar": {
             "outlinewidth": 0,
             "ticks": ""
            },
            "colorscale": [
             [
              0,
              "#0d0887"
             ],
             [
              0.1111111111111111,
              "#46039f"
             ],
             [
              0.2222222222222222,
              "#7201a8"
             ],
             [
              0.3333333333333333,
              "#9c179e"
             ],
             [
              0.4444444444444444,
              "#bd3786"
             ],
             [
              0.5555555555555556,
              "#d8576b"
             ],
             [
              0.6666666666666666,
              "#ed7953"
             ],
             [
              0.7777777777777778,
              "#fb9f3a"
             ],
             [
              0.8888888888888888,
              "#fdca26"
             ],
             [
              1,
              "#f0f921"
             ]
            ],
            "type": "histogram2dcontour"
           }
          ],
          "mesh3d": [
           {
            "colorbar": {
             "outlinewidth": 0,
             "ticks": ""
            },
            "type": "mesh3d"
           }
          ],
          "parcoords": [
           {
            "line": {
             "colorbar": {
              "outlinewidth": 0,
              "ticks": ""
             }
            },
            "type": "parcoords"
           }
          ],
          "pie": [
           {
            "automargin": true,
            "type": "pie"
           }
          ],
          "scatter": [
           {
            "fillpattern": {
             "fillmode": "overlay",
             "size": 10,
             "solidity": 0.2
            },
            "type": "scatter"
           }
          ],
          "scatter3d": [
           {
            "line": {
             "colorbar": {
              "outlinewidth": 0,
              "ticks": ""
             }
            },
            "marker": {
             "colorbar": {
              "outlinewidth": 0,
              "ticks": ""
             }
            },
            "type": "scatter3d"
           }
          ],
          "scattercarpet": [
           {
            "marker": {
             "colorbar": {
              "outlinewidth": 0,
              "ticks": ""
             }
            },
            "type": "scattercarpet"
           }
          ],
          "scattergeo": [
           {
            "marker": {
             "colorbar": {
              "outlinewidth": 0,
              "ticks": ""
             }
            },
            "type": "scattergeo"
           }
          ],
          "scattergl": [
           {
            "marker": {
             "colorbar": {
              "outlinewidth": 0,
              "ticks": ""
             }
            },
            "type": "scattergl"
           }
          ],
          "scattermapbox": [
           {
            "marker": {
             "colorbar": {
              "outlinewidth": 0,
              "ticks": ""
             }
            },
            "type": "scattermapbox"
           }
          ],
          "scatterpolar": [
           {
            "marker": {
             "colorbar": {
              "outlinewidth": 0,
              "ticks": ""
             }
            },
            "type": "scatterpolar"
           }
          ],
          "scatterpolargl": [
           {
            "marker": {
             "colorbar": {
              "outlinewidth": 0,
              "ticks": ""
             }
            },
            "type": "scatterpolargl"
           }
          ],
          "scatterternary": [
           {
            "marker": {
             "colorbar": {
              "outlinewidth": 0,
              "ticks": ""
             }
            },
            "type": "scatterternary"
           }
          ],
          "surface": [
           {
            "colorbar": {
             "outlinewidth": 0,
             "ticks": ""
            },
            "colorscale": [
             [
              0,
              "#0d0887"
             ],
             [
              0.1111111111111111,
              "#46039f"
             ],
             [
              0.2222222222222222,
              "#7201a8"
             ],
             [
              0.3333333333333333,
              "#9c179e"
             ],
             [
              0.4444444444444444,
              "#bd3786"
             ],
             [
              0.5555555555555556,
              "#d8576b"
             ],
             [
              0.6666666666666666,
              "#ed7953"
             ],
             [
              0.7777777777777778,
              "#fb9f3a"
             ],
             [
              0.8888888888888888,
              "#fdca26"
             ],
             [
              1,
              "#f0f921"
             ]
            ],
            "type": "surface"
           }
          ],
          "table": [
           {
            "cells": {
             "fill": {
              "color": "#EBF0F8"
             },
             "line": {
              "color": "white"
             }
            },
            "header": {
             "fill": {
              "color": "#C8D4E3"
             },
             "line": {
              "color": "white"
             }
            },
            "type": "table"
           }
          ]
         },
         "layout": {
          "annotationdefaults": {
           "arrowcolor": "#2a3f5f",
           "arrowhead": 0,
           "arrowwidth": 1
          },
          "autotypenumbers": "strict",
          "coloraxis": {
           "colorbar": {
            "outlinewidth": 0,
            "ticks": ""
           }
          },
          "colorscale": {
           "diverging": [
            [
             0,
             "#8e0152"
            ],
            [
             0.1,
             "#c51b7d"
            ],
            [
             0.2,
             "#de77ae"
            ],
            [
             0.3,
             "#f1b6da"
            ],
            [
             0.4,
             "#fde0ef"
            ],
            [
             0.5,
             "#f7f7f7"
            ],
            [
             0.6,
             "#e6f5d0"
            ],
            [
             0.7,
             "#b8e186"
            ],
            [
             0.8,
             "#7fbc41"
            ],
            [
             0.9,
             "#4d9221"
            ],
            [
             1,
             "#276419"
            ]
           ],
           "sequential": [
            [
             0,
             "#0d0887"
            ],
            [
             0.1111111111111111,
             "#46039f"
            ],
            [
             0.2222222222222222,
             "#7201a8"
            ],
            [
             0.3333333333333333,
             "#9c179e"
            ],
            [
             0.4444444444444444,
             "#bd3786"
            ],
            [
             0.5555555555555556,
             "#d8576b"
            ],
            [
             0.6666666666666666,
             "#ed7953"
            ],
            [
             0.7777777777777778,
             "#fb9f3a"
            ],
            [
             0.8888888888888888,
             "#fdca26"
            ],
            [
             1,
             "#f0f921"
            ]
           ],
           "sequentialminus": [
            [
             0,
             "#0d0887"
            ],
            [
             0.1111111111111111,
             "#46039f"
            ],
            [
             0.2222222222222222,
             "#7201a8"
            ],
            [
             0.3333333333333333,
             "#9c179e"
            ],
            [
             0.4444444444444444,
             "#bd3786"
            ],
            [
             0.5555555555555556,
             "#d8576b"
            ],
            [
             0.6666666666666666,
             "#ed7953"
            ],
            [
             0.7777777777777778,
             "#fb9f3a"
            ],
            [
             0.8888888888888888,
             "#fdca26"
            ],
            [
             1,
             "#f0f921"
            ]
           ]
          },
          "colorway": [
           "#636efa",
           "#EF553B",
           "#00cc96",
           "#ab63fa",
           "#FFA15A",
           "#19d3f3",
           "#FF6692",
           "#B6E880",
           "#FF97FF",
           "#FECB52"
          ],
          "font": {
           "color": "#2a3f5f"
          },
          "geo": {
           "bgcolor": "white",
           "lakecolor": "white",
           "landcolor": "#E5ECF6",
           "showlakes": true,
           "showland": true,
           "subunitcolor": "white"
          },
          "hoverlabel": {
           "align": "left"
          },
          "hovermode": "closest",
          "mapbox": {
           "style": "light"
          },
          "paper_bgcolor": "white",
          "plot_bgcolor": "#E5ECF6",
          "polar": {
           "angularaxis": {
            "gridcolor": "white",
            "linecolor": "white",
            "ticks": ""
           },
           "bgcolor": "#E5ECF6",
           "radialaxis": {
            "gridcolor": "white",
            "linecolor": "white",
            "ticks": ""
           }
          },
          "scene": {
           "xaxis": {
            "backgroundcolor": "#E5ECF6",
            "gridcolor": "white",
            "gridwidth": 2,
            "linecolor": "white",
            "showbackground": true,
            "ticks": "",
            "zerolinecolor": "white"
           },
           "yaxis": {
            "backgroundcolor": "#E5ECF6",
            "gridcolor": "white",
            "gridwidth": 2,
            "linecolor": "white",
            "showbackground": true,
            "ticks": "",
            "zerolinecolor": "white"
           },
           "zaxis": {
            "backgroundcolor": "#E5ECF6",
            "gridcolor": "white",
            "gridwidth": 2,
            "linecolor": "white",
            "showbackground": true,
            "ticks": "",
            "zerolinecolor": "white"
           }
          },
          "shapedefaults": {
           "line": {
            "color": "#2a3f5f"
           }
          },
          "ternary": {
           "aaxis": {
            "gridcolor": "white",
            "linecolor": "white",
            "ticks": ""
           },
           "baxis": {
            "gridcolor": "white",
            "linecolor": "white",
            "ticks": ""
           },
           "bgcolor": "#E5ECF6",
           "caxis": {
            "gridcolor": "white",
            "linecolor": "white",
            "ticks": ""
           }
          },
          "title": {
           "x": 0.05
          },
          "xaxis": {
           "automargin": true,
           "gridcolor": "white",
           "linecolor": "white",
           "ticks": "",
           "title": {
            "standoff": 15
           },
           "zerolinecolor": "white",
           "zerolinewidth": 2
          },
          "yaxis": {
           "automargin": true,
           "gridcolor": "white",
           "linecolor": "white",
           "ticks": "",
           "title": {
            "standoff": 15
           },
           "zerolinecolor": "white",
           "zerolinewidth": 2
          }
         }
        },
        "width": 400,
        "xaxis": {
         "dtick": 1,
         "range": [
          0.01,
          7
         ],
         "tick0": 1,
         "ticktext": [
          0,
          1,
          2,
          3,
          4,
          5,
          6
         ],
         "tickvals": [
          0.5,
          1.5,
          2.5,
          3.5,
          4.5,
          5.5,
          6.5
         ],
         "title": {
          "font": {
           "size": 12
          },
          "text": "time slot"
         }
        },
        "yaxis": {
         "range": [
          -0.6,
          5
         ],
         "ticktext": [
          0,
          1,
          2,
          3,
          4,
          5
         ],
         "tickvals": [
          -0.5,
          0.5,
          1.5,
          2.5,
          3.5,
          4.5
         ],
         "title": {
          "font": {
           "size": 12
          },
          "text": "charging level"
         },
         "zeroline": false
        }
       }
      },
      "text/html": [
       "<div>                            <div id=\"02b2e5dd-807a-47da-aa57-a97791b58903\" class=\"plotly-graph-div\" style=\"height:300px; width:400px;\"></div>            <script type=\"text/javascript\">                require([\"plotly\"], function(Plotly) {                    window.PLOTLYENV=window.PLOTLYENV || {};                                    if (document.getElementById(\"02b2e5dd-807a-47da-aa57-a97791b58903\")) {                    Plotly.newPlot(                        \"02b2e5dd-807a-47da-aa57-a97791b58903\",                        [{\"marker\":{\"color\":\"green\",\"size\":20,\"symbol\":\"square\"},\"mode\":\"markers\",\"name\":\"car_green\",\"showlegend\":true,\"x\":[0.5,0.5],\"y\":[0.0,1.0],\"type\":\"scatter\"},{\"marker\":{\"color\":\"orange\",\"size\":20,\"symbol\":\"square\"},\"mode\":\"markers\",\"name\":\"car_orange\",\"showlegend\":true,\"x\":[],\"y\":[],\"type\":\"scatter\"},{\"marker\":{\"color\":\"green\",\"size\":20,\"symbol\":\"square\"},\"mode\":\"markers\",\"name\":\"car_green\",\"showlegend\":false,\"x\":[1.5,1.5],\"y\":[0.0,1.0],\"type\":\"scatter\"},{\"marker\":{\"color\":\"orange\",\"size\":20,\"symbol\":\"square\"},\"mode\":\"markers\",\"name\":\"car_orange\",\"showlegend\":true,\"x\":[1.5],\"y\":[2.0],\"type\":\"scatter\"},{\"marker\":{\"color\":\"green\",\"size\":20,\"symbol\":\"square\"},\"mode\":\"markers\",\"name\":\"car_green\",\"showlegend\":false,\"x\":[2.5,2.5],\"y\":[0.0,1.0],\"type\":\"scatter\"},{\"marker\":{\"color\":\"orange\",\"size\":20,\"symbol\":\"square\"},\"mode\":\"markers\",\"name\":\"car_orange\",\"showlegend\":false,\"x\":[2.5],\"y\":[2.0],\"type\":\"scatter\"},{\"marker\":{\"color\":\"green\",\"size\":20,\"symbol\":\"square\"},\"mode\":\"markers\",\"name\":\"car_green\",\"showlegend\":false,\"x\":[3.5,3.5],\"y\":[0.0,1.0],\"type\":\"scatter\"},{\"marker\":{\"color\":\"orange\",\"size\":20,\"symbol\":\"square\"},\"mode\":\"markers\",\"name\":\"car_orange\",\"showlegend\":false,\"x\":[3.5],\"y\":[2.0],\"type\":\"scatter\"},{\"marker\":{\"color\":\"green\",\"size\":20,\"symbol\":\"square\"},\"mode\":\"markers\",\"name\":\"car_green\",\"showlegend\":false,\"x\":[],\"y\":[],\"type\":\"scatter\"},{\"marker\":{\"color\":\"orange\",\"size\":20,\"symbol\":\"square\"},\"mode\":\"markers\",\"name\":\"car_orange\",\"showlegend\":false,\"x\":[4.5,4.5,4.5],\"y\":[0.0,1.0,2.0],\"type\":\"scatter\"},{\"marker\":{\"color\":\"green\",\"size\":20,\"symbol\":\"square\"},\"mode\":\"markers\",\"name\":\"car_green\",\"showlegend\":false,\"x\":[],\"y\":[],\"type\":\"scatter\"},{\"marker\":{\"color\":\"orange\",\"size\":20,\"symbol\":\"square\"},\"mode\":\"markers\",\"name\":\"car_orange\",\"showlegend\":false,\"x\":[5.5,5.5,5.5],\"y\":[0.0,1.0,2.0],\"type\":\"scatter\"},{\"marker\":{\"color\":\"green\",\"size\":20,\"symbol\":\"square\"},\"mode\":\"markers\",\"name\":\"car_green\",\"showlegend\":false,\"x\":[],\"y\":[],\"type\":\"scatter\"},{\"marker\":{\"color\":\"orange\",\"size\":20,\"symbol\":\"square\"},\"mode\":\"markers\",\"name\":\"car_orange\",\"showlegend\":false,\"x\":[6.5,6.5,6.5],\"y\":[0.0,1.0,2.0],\"type\":\"scatter\"}],                        {\"template\":{\"data\":{\"histogram2dcontour\":[{\"type\":\"histogram2dcontour\",\"colorbar\":{\"outlinewidth\":0,\"ticks\":\"\"},\"colorscale\":[[0.0,\"#0d0887\"],[0.1111111111111111,\"#46039f\"],[0.2222222222222222,\"#7201a8\"],[0.3333333333333333,\"#9c179e\"],[0.4444444444444444,\"#bd3786\"],[0.5555555555555556,\"#d8576b\"],[0.6666666666666666,\"#ed7953\"],[0.7777777777777778,\"#fb9f3a\"],[0.8888888888888888,\"#fdca26\"],[1.0,\"#f0f921\"]]}],\"choropleth\":[{\"type\":\"choropleth\",\"colorbar\":{\"outlinewidth\":0,\"ticks\":\"\"}}],\"histogram2d\":[{\"type\":\"histogram2d\",\"colorbar\":{\"outlinewidth\":0,\"ticks\":\"\"},\"colorscale\":[[0.0,\"#0d0887\"],[0.1111111111111111,\"#46039f\"],[0.2222222222222222,\"#7201a8\"],[0.3333333333333333,\"#9c179e\"],[0.4444444444444444,\"#bd3786\"],[0.5555555555555556,\"#d8576b\"],[0.6666666666666666,\"#ed7953\"],[0.7777777777777778,\"#fb9f3a\"],[0.8888888888888888,\"#fdca26\"],[1.0,\"#f0f921\"]]}],\"heatmap\":[{\"type\":\"heatmap\",\"colorbar\":{\"outlinewidth\":0,\"ticks\":\"\"},\"colorscale\":[[0.0,\"#0d0887\"],[0.1111111111111111,\"#46039f\"],[0.2222222222222222,\"#7201a8\"],[0.3333333333333333,\"#9c179e\"],[0.4444444444444444,\"#bd3786\"],[0.5555555555555556,\"#d8576b\"],[0.6666666666666666,\"#ed7953\"],[0.7777777777777778,\"#fb9f3a\"],[0.8888888888888888,\"#fdca26\"],[1.0,\"#f0f921\"]]}],\"heatmapgl\":[{\"type\":\"heatmapgl\",\"colorbar\":{\"outlinewidth\":0,\"ticks\":\"\"},\"colorscale\":[[0.0,\"#0d0887\"],[0.1111111111111111,\"#46039f\"],[0.2222222222222222,\"#7201a8\"],[0.3333333333333333,\"#9c179e\"],[0.4444444444444444,\"#bd3786\"],[0.5555555555555556,\"#d8576b\"],[0.6666666666666666,\"#ed7953\"],[0.7777777777777778,\"#fb9f3a\"],[0.8888888888888888,\"#fdca26\"],[1.0,\"#f0f921\"]]}],\"contourcarpet\":[{\"type\":\"contourcarpet\",\"colorbar\":{\"outlinewidth\":0,\"ticks\":\"\"}}],\"contour\":[{\"type\":\"contour\",\"colorbar\":{\"outlinewidth\":0,\"ticks\":\"\"},\"colorscale\":[[0.0,\"#0d0887\"],[0.1111111111111111,\"#46039f\"],[0.2222222222222222,\"#7201a8\"],[0.3333333333333333,\"#9c179e\"],[0.4444444444444444,\"#bd3786\"],[0.5555555555555556,\"#d8576b\"],[0.6666666666666666,\"#ed7953\"],[0.7777777777777778,\"#fb9f3a\"],[0.8888888888888888,\"#fdca26\"],[1.0,\"#f0f921\"]]}],\"surface\":[{\"type\":\"surface\",\"colorbar\":{\"outlinewidth\":0,\"ticks\":\"\"},\"colorscale\":[[0.0,\"#0d0887\"],[0.1111111111111111,\"#46039f\"],[0.2222222222222222,\"#7201a8\"],[0.3333333333333333,\"#9c179e\"],[0.4444444444444444,\"#bd3786\"],[0.5555555555555556,\"#d8576b\"],[0.6666666666666666,\"#ed7953\"],[0.7777777777777778,\"#fb9f3a\"],[0.8888888888888888,\"#fdca26\"],[1.0,\"#f0f921\"]]}],\"mesh3d\":[{\"type\":\"mesh3d\",\"colorbar\":{\"outlinewidth\":0,\"ticks\":\"\"}}],\"scatter\":[{\"fillpattern\":{\"fillmode\":\"overlay\",\"size\":10,\"solidity\":0.2},\"type\":\"scatter\"}],\"parcoords\":[{\"type\":\"parcoords\",\"line\":{\"colorbar\":{\"outlinewidth\":0,\"ticks\":\"\"}}}],\"scatterpolargl\":[{\"type\":\"scatterpolargl\",\"marker\":{\"colorbar\":{\"outlinewidth\":0,\"ticks\":\"\"}}}],\"bar\":[{\"error_x\":{\"color\":\"#2a3f5f\"},\"error_y\":{\"color\":\"#2a3f5f\"},\"marker\":{\"line\":{\"color\":\"#E5ECF6\",\"width\":0.5},\"pattern\":{\"fillmode\":\"overlay\",\"size\":10,\"solidity\":0.2}},\"type\":\"bar\"}],\"scattergeo\":[{\"type\":\"scattergeo\",\"marker\":{\"colorbar\":{\"outlinewidth\":0,\"ticks\":\"\"}}}],\"scatterpolar\":[{\"type\":\"scatterpolar\",\"marker\":{\"colorbar\":{\"outlinewidth\":0,\"ticks\":\"\"}}}],\"histogram\":[{\"marker\":{\"pattern\":{\"fillmode\":\"overlay\",\"size\":10,\"solidity\":0.2}},\"type\":\"histogram\"}],\"scattergl\":[{\"type\":\"scattergl\",\"marker\":{\"colorbar\":{\"outlinewidth\":0,\"ticks\":\"\"}}}],\"scatter3d\":[{\"type\":\"scatter3d\",\"line\":{\"colorbar\":{\"outlinewidth\":0,\"ticks\":\"\"}},\"marker\":{\"colorbar\":{\"outlinewidth\":0,\"ticks\":\"\"}}}],\"scattermapbox\":[{\"type\":\"scattermapbox\",\"marker\":{\"colorbar\":{\"outlinewidth\":0,\"ticks\":\"\"}}}],\"scatterternary\":[{\"type\":\"scatterternary\",\"marker\":{\"colorbar\":{\"outlinewidth\":0,\"ticks\":\"\"}}}],\"scattercarpet\":[{\"type\":\"scattercarpet\",\"marker\":{\"colorbar\":{\"outlinewidth\":0,\"ticks\":\"\"}}}],\"carpet\":[{\"aaxis\":{\"endlinecolor\":\"#2a3f5f\",\"gridcolor\":\"white\",\"linecolor\":\"white\",\"minorgridcolor\":\"white\",\"startlinecolor\":\"#2a3f5f\"},\"baxis\":{\"endlinecolor\":\"#2a3f5f\",\"gridcolor\":\"white\",\"linecolor\":\"white\",\"minorgridcolor\":\"white\",\"startlinecolor\":\"#2a3f5f\"},\"type\":\"carpet\"}],\"table\":[{\"cells\":{\"fill\":{\"color\":\"#EBF0F8\"},\"line\":{\"color\":\"white\"}},\"header\":{\"fill\":{\"color\":\"#C8D4E3\"},\"line\":{\"color\":\"white\"}},\"type\":\"table\"}],\"barpolar\":[{\"marker\":{\"line\":{\"color\":\"#E5ECF6\",\"width\":0.5},\"pattern\":{\"fillmode\":\"overlay\",\"size\":10,\"solidity\":0.2}},\"type\":\"barpolar\"}],\"pie\":[{\"automargin\":true,\"type\":\"pie\"}]},\"layout\":{\"autotypenumbers\":\"strict\",\"colorway\":[\"#636efa\",\"#EF553B\",\"#00cc96\",\"#ab63fa\",\"#FFA15A\",\"#19d3f3\",\"#FF6692\",\"#B6E880\",\"#FF97FF\",\"#FECB52\"],\"font\":{\"color\":\"#2a3f5f\"},\"hovermode\":\"closest\",\"hoverlabel\":{\"align\":\"left\"},\"paper_bgcolor\":\"white\",\"plot_bgcolor\":\"#E5ECF6\",\"polar\":{\"bgcolor\":\"#E5ECF6\",\"angularaxis\":{\"gridcolor\":\"white\",\"linecolor\":\"white\",\"ticks\":\"\"},\"radialaxis\":{\"gridcolor\":\"white\",\"linecolor\":\"white\",\"ticks\":\"\"}},\"ternary\":{\"bgcolor\":\"#E5ECF6\",\"aaxis\":{\"gridcolor\":\"white\",\"linecolor\":\"white\",\"ticks\":\"\"},\"baxis\":{\"gridcolor\":\"white\",\"linecolor\":\"white\",\"ticks\":\"\"},\"caxis\":{\"gridcolor\":\"white\",\"linecolor\":\"white\",\"ticks\":\"\"}},\"coloraxis\":{\"colorbar\":{\"outlinewidth\":0,\"ticks\":\"\"}},\"colorscale\":{\"sequential\":[[0.0,\"#0d0887\"],[0.1111111111111111,\"#46039f\"],[0.2222222222222222,\"#7201a8\"],[0.3333333333333333,\"#9c179e\"],[0.4444444444444444,\"#bd3786\"],[0.5555555555555556,\"#d8576b\"],[0.6666666666666666,\"#ed7953\"],[0.7777777777777778,\"#fb9f3a\"],[0.8888888888888888,\"#fdca26\"],[1.0,\"#f0f921\"]],\"sequentialminus\":[[0.0,\"#0d0887\"],[0.1111111111111111,\"#46039f\"],[0.2222222222222222,\"#7201a8\"],[0.3333333333333333,\"#9c179e\"],[0.4444444444444444,\"#bd3786\"],[0.5555555555555556,\"#d8576b\"],[0.6666666666666666,\"#ed7953\"],[0.7777777777777778,\"#fb9f3a\"],[0.8888888888888888,\"#fdca26\"],[1.0,\"#f0f921\"]],\"diverging\":[[0,\"#8e0152\"],[0.1,\"#c51b7d\"],[0.2,\"#de77ae\"],[0.3,\"#f1b6da\"],[0.4,\"#fde0ef\"],[0.5,\"#f7f7f7\"],[0.6,\"#e6f5d0\"],[0.7,\"#b8e186\"],[0.8,\"#7fbc41\"],[0.9,\"#4d9221\"],[1,\"#276419\"]]},\"xaxis\":{\"gridcolor\":\"white\",\"linecolor\":\"white\",\"ticks\":\"\",\"title\":{\"standoff\":15},\"zerolinecolor\":\"white\",\"automargin\":true,\"zerolinewidth\":2},\"yaxis\":{\"gridcolor\":\"white\",\"linecolor\":\"white\",\"ticks\":\"\",\"title\":{\"standoff\":15},\"zerolinecolor\":\"white\",\"automargin\":true,\"zerolinewidth\":2},\"scene\":{\"xaxis\":{\"backgroundcolor\":\"#E5ECF6\",\"gridcolor\":\"white\",\"linecolor\":\"white\",\"showbackground\":true,\"ticks\":\"\",\"zerolinecolor\":\"white\",\"gridwidth\":2},\"yaxis\":{\"backgroundcolor\":\"#E5ECF6\",\"gridcolor\":\"white\",\"linecolor\":\"white\",\"showbackground\":true,\"ticks\":\"\",\"zerolinecolor\":\"white\",\"gridwidth\":2},\"zaxis\":{\"backgroundcolor\":\"#E5ECF6\",\"gridcolor\":\"white\",\"linecolor\":\"white\",\"showbackground\":true,\"ticks\":\"\",\"zerolinecolor\":\"white\",\"gridwidth\":2}},\"shapedefaults\":{\"line\":{\"color\":\"#2a3f5f\"}},\"annotationdefaults\":{\"arrowcolor\":\"#2a3f5f\",\"arrowhead\":0,\"arrowwidth\":1},\"geo\":{\"bgcolor\":\"white\",\"landcolor\":\"#E5ECF6\",\"subunitcolor\":\"white\",\"showland\":true,\"showlakes\":true,\"lakecolor\":\"white\"},\"title\":{\"x\":0.05},\"mapbox\":{\"style\":\"light\"}}},\"xaxis\":{\"title\":{\"text\":\"time slot\",\"font\":{\"size\":12}},\"tick0\":1,\"dtick\":1,\"range\":[0.01,7],\"tickvals\":[0.5,1.5,2.5,3.5,4.5,5.5,6.5],\"ticktext\":[0,1,2,3,4,5,6]},\"yaxis\":{\"title\":{\"text\":\"charging level\",\"font\":{\"size\":12}},\"range\":[-0.6,5],\"tickvals\":[-0.5,0.5,1.5,2.5,3.5,4.5],\"ticktext\":[0,1,2,3,4,5],\"zeroline\":false},\"width\":400,\"height\":300},                        {\"responsive\": true}                    ).then(function(){\n",
       "                            \n",
       "var gd = document.getElementById('02b2e5dd-807a-47da-aa57-a97791b58903');\n",
       "var x = new MutationObserver(function (mutations, observer) {{\n",
       "        var display = window.getComputedStyle(gd).display;\n",
       "        if (!display || display === 'none') {{\n",
       "            console.log([gd, 'removed!']);\n",
       "            Plotly.purge(gd);\n",
       "            observer.disconnect();\n",
       "        }}\n",
       "}});\n",
       "\n",
       "// Listen for the removal of the full notebook cells\n",
       "var notebookContainer = gd.closest('#notebook-container');\n",
       "if (notebookContainer) {{\n",
       "    x.observe(notebookContainer, {childList: true});\n",
       "}}\n",
       "\n",
       "// Listen for the clearing of the current output cell\n",
       "var outputEl = gd.closest('.output');\n",
       "if (outputEl) {{\n",
       "    x.observe(outputEl, {childList: true});\n",
       "}}\n",
       "\n",
       "                        })                };                });            </script>        </div>"
      ]
     },
     "metadata": {},
     "output_type": "display_data"
    }
   ],
   "source": [
    "fig = plot_charging_schedule(charging_unit, p_min, marker_size=20)\n",
    "fig.update_layout(width=400, height=300)\n",
    "fig.show()"
   ]
  },
  {
   "cell_type": "markdown",
   "id": "absent-bulgarian",
   "metadata": {},
   "source": [
    "# Literature <a class=\"tocSkip\"/>\n",
    "[1] Karimi, S. and Ronagh, P. 2019. Practical Integer‐to‐Binary Mapping for Quantum Annealers.\n",
    "Quantum Inf Process 18, 4, 42314. [Link](https://link.springer.com/article/10.1007/s11128-019-2213-x). [Link arxiv](https://arxiv.org/abs/1706.01945)"
   ]
  },
  {
   "cell_type": "markdown",
   "id": "a21ddee5",
   "metadata": {},
   "source": [
    "---\n",
    "Author: Andreas Sturm, andreas.sturm@iao.fraunhofer.de\n",
    "\n",
    "(c) Fraunhofer IAO\n",
    "\n",
    "---"
   ]
  },
  {
   "attachments": {},
   "cell_type": "markdown",
   "id": "a6a20f2b",
   "metadata": {},
   "source": [
    "**Copyright 2023 Andreas Sturm, Fraunhofer IAO**\n",
    "\n",
    "Licensed under the Apache License, Version 2.0 (the \"License\"); you may not use this file except in compliance with the License. You may obtain a copy of the License at\n",
    "\n",
    "http://www.apache.org/licenses/LICENSE-2.0\n",
    "\n",
    "Unless required by applicable law or agreed to in writing, software distributed under the License is distributed on an \"AS IS\" BASIS, WITHOUT WARRANTIES OR CONDITIONS OF ANY KIND, either express or implied. See the License for the specific language governing permissions and limitations under the License."
   ]
  }
 ],
 "metadata": {
  "kernelspec": {
   "display_name": "Python 3.8.10 64-bit",
   "language": "python",
   "name": "python3"
  },
  "language_info": {
   "codemirror_mode": {
    "name": "ipython",
    "version": 3
   },
   "file_extension": ".py",
   "mimetype": "text/x-python",
   "name": "python",
   "nbconvert_exporter": "python",
   "pygments_lexer": "ipython3",
   "version": "3.8.10"
  },
  "toc": {
   "base_numbering": 1,
   "nav_menu": {},
   "number_sections": true,
   "sideBar": true,
   "skip_h1_title": false,
   "title_cell": "Table of Contents",
   "title_sidebar": "Contents",
   "toc_cell": false,
   "toc_position": {},
   "toc_section_display": true,
   "toc_window_display": false
  },
  "vscode": {
   "interpreter": {
    "hash": "916dbcbb3f70747c44a77c7bcd40155683ae19c65e1c03b4aa3499c5328201f1"
   }
  }
 },
 "nbformat": 4,
 "nbformat_minor": 5
}
