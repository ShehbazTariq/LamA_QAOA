{
 "cells": [
  {
   "cell_type": "markdown",
   "id": "d48aa6f3",
   "metadata": {},
   "source": [
    "$\n",
    "\\newcommand{\\R}{\\mathbb{R}}\n",
    "\\newcommand{\\C}{\\mathbb{C}}\n",
    "\\newcommand{\\i}{\\mathrm{i}}\n",
    "%\n",
    "\\newcommand{\\HP}{\\mathcal{H}_P}\n",
    "\\newcommand{\\HM}{\\mathcal{H}_M}\n",
    "\\newcommand{\\UP}{\\mathcal{U}_P}\n",
    "\\newcommand{\\UM}{\\mathcal{U}_M}\n",
    "%\n",
    "\\newcommand{\\RX}{\\mathrm{RX}}\n",
    "\\newcommand{\\RZ}{\\mathrm{RZ}}\n",
    "\\newcommand{\\RZZ}{\\mathrm{RZZ}}\n",
    "\\newcommand{\\CX}{\\mathrm{CX}}\n",
    "\\newcommand{\\CNOT}{\\mathrm{CNOT}}\n",
    "%\n",
    "\\newcommand{\\ket}[1]{\\left\\vert #1 \\right\\rangle}\n",
    "\\newcommand{\\bra}[1]{\\left\\langle #1 \\right\\vert}\n",
    "\\newcommand{\\braket}[1]{\\left\\langle #1 \\right\\rangle}\n",
    "\\newcommand{\\pmat}[1]{\\begin{pmatrix}#1\\end{pmatrix}}\n",
    "$"
   ]
  },
  {
   "cell_type": "markdown",
   "id": "important-helping",
   "metadata": {},
   "source": [
    "---\n",
    "\n",
    "***This notebook is part of the project [SEQUOIA](https://websites.fraunhofer.de/sequoia/) of the [Competence Center Quantum Computing Baden-Württemberg](https://www.iaf.fraunhofer.de/en/networkers/KQC.html).***\n",
    "\n",
    "---"
   ]
  },
  {
   "cell_type": "markdown",
   "id": "9854cd14",
   "metadata": {},
   "source": [
    "<img src=\"images/sequoia_logo.png\" />\n",
    "\n",
    "<br>\n",
    "<br>"
   ]
  },
  {
   "cell_type": "markdown",
   "id": "acute-firewall",
   "metadata": {},
   "source": [
    "# SEQUOIA DEMONSTRATOR  <a class=\"tocSkip\"/>\n",
    "\n",
    "## Energy Use Case: Optimization of Charging Schedules for Electric Cars  <a class=\"tocSkip\"/>\n"
   ]
  },
  {
   "cell_type": "markdown",
   "id": "670908af",
   "metadata": {},
   "source": [
    "Authors: Andreas Sturm, Niclas Schillo"
   ]
  },
  {
   "cell_type": "markdown",
   "id": "011036ea",
   "metadata": {},
   "source": [
    "---\n",
    "# Bonus Notebook: Improving QAOA with CVaR <a class=\"tocSkip\">"
   ]
  },
  {
   "cell_type": "markdown",
   "id": "7a669c07",
   "metadata": {},
   "source": [
    "In Notebook 2 we saw that the variational parameters $\\vec{\\beta}$ and $\\vec{\\gamma}$ of QAOA are determined with a classical optimizer such that they minimize the expectation value $e(\\vec{\\beta}, \\vec{\\gamma})$:\n",
    "\n",
    "$$\n",
    "(\\vec{\\beta}^\\ast, \\vec{\\gamma}^\\ast) = \\mathrm{argmin}_{\\vec{\\beta}, \\vec{\\gamma}} e(\\vec{\\beta}, \\vec{\\gamma}) \\ ,\n",
    "\\qquad\n",
    "e(\\vec{\\beta}, \\vec{\\gamma})\n",
    "=\n",
    "\\langle \\psi_\\mathrm{QAOA}(\\vec{\\beta}, \\vec{\\gamma}) | \\HP |\\psi_\\mathrm{QAOA}(\\vec{\\beta}, \\vec{\\gamma}) \\rangle\n",
    "\\ .\n",
    "$$\n"
   ]
  },
  {
   "cell_type": "markdown",
   "id": "f6758171",
   "metadata": {},
   "source": [
    "Then, in Notebook 3 we saw that this (usually) does not yield a quantum state \n",
    "\n",
    "$$\n",
    "|\\psi_\\mathrm{QAOA}(\\vec{\\beta}^\\ast, \\vec{\\gamma}^\\ast) \\rangle\n",
    "= \\sum_{\\vec{b} \\in \\{0, 1\\}^n}\n",
    "\\lambda_{b} |b\\rangle \\ ,\n",
    "$$"
   ]
  },
  {
   "cell_type": "markdown",
   "id": "284e65b1",
   "metadata": {},
   "source": [
    "where the probability $|\\lambda_{b^\\ast}|^2$ of the exact solution bit string $b^\\ast$ is the highest among all probabilities in $|\\psi_\\mathrm{QAOA}(\\vec{\\beta}^\\ast, \\vec{\\gamma}^\\ast) \\rangle$:\n",
    "\n",
    "$$\n",
    "|\\lambda_{b^\\ast}|^2 \\not = \\max_{\\vec{b} \\in \\{0, 1\\}^n} |\\lambda_{b}|^2,\n",
    "\\qquad\n",
    "\\lambda_{b^\\ast} = \\mathrm{argmin}_{\\vec{b} \\in \\{0, 1\\}^n} f_3(\\vec{b}) \\ .\n",
    "$$"
   ]
  },
  {
   "cell_type": "markdown",
   "id": "971176b5",
   "metadata": {},
   "source": [
    "If one is interested in this exact solution (and not an approximate solution) it can be beneficial to use the **Conditional Value at Risk (CVaR) expectation value** instead of the usual expectation value."
   ]
  },
  {
   "cell_type": "markdown",
   "id": "f66cd758",
   "metadata": {},
   "source": [
    "In this notebook we present how the CVaR expecation can be integrated in our codes and present some results comparing standard and CVaR QAOA."
   ]
  },
  {
   "cell_type": "markdown",
   "id": "7545f30e",
   "metadata": {},
   "source": [
    "Remark: CVaR QAOA was proposed in [1]."
   ]
  },
  {
   "cell_type": "markdown",
   "id": "da6e0c52",
   "metadata": {},
   "source": [
    "# Example for this Notebook"
   ]
  },
  {
   "cell_type": "markdown",
   "id": "7da86995",
   "metadata": {},
   "source": [
    "For this notebook we use the same example as in Notebook 2."
   ]
  },
  {
   "cell_type": "code",
   "execution_count": 1,
   "id": "ac829103",
   "metadata": {},
   "outputs": [],
   "source": [
    "import os\n",
    "os.environ[\"QISKIT_SETTINGS\"] = \"qiskitrc\""
   ]
  },
  {
   "cell_type": "code",
   "execution_count": 2,
   "id": "0d888743",
   "metadata": {},
   "outputs": [],
   "source": [
    "from codes_notebook_1 import generate_example\n",
    "charging_unit, car_green, qcio, converter, qubo, number_binary_variables, qubo_minimization_result = generate_example()"
   ]
  },
  {
   "cell_type": "code",
   "execution_count": 3,
   "id": "a1d4f9df",
   "metadata": {},
   "outputs": [
    {
     "name": "stdout",
     "output_type": "stream",
     "text": [
      "minimum value: f_3(b_min) =  5.999999999999993\n"
     ]
    }
   ],
   "source": [
    "f_3_min = qubo_minimization_result.fval\n",
    "print(\"minimum value: f_3(b_min) = \", f_3_min)"
   ]
  },
  {
   "cell_type": "code",
   "execution_count": 4,
   "id": "529dc395",
   "metadata": {},
   "outputs": [],
   "source": [
    "from qiskit.circuit.library import QAOAAnsatz\n",
    "\n",
    "ising, ising_offset = qubo.to_ising()\n",
    "\n",
    "qaoa_reps = 2\n",
    "qaoa_ansatz = QAOAAnsatz(cost_operator=ising, reps=qaoa_reps, name='qaoa')\n",
    "qaoa_ansatz.measure_active()"
   ]
  },
  {
   "cell_type": "code",
   "execution_count": 5,
   "id": "0c48fc61",
   "metadata": {},
   "outputs": [],
   "source": [
    "from qiskit_aer import AerSimulator\n",
    "\n",
    "number_of_shots = 10000\n",
    "aer_simulator = AerSimulator(method=\"statevector\", shots=number_of_shots)"
   ]
  },
  {
   "cell_type": "markdown",
   "id": "77f7bb38",
   "metadata": {},
   "source": [
    "## Standard Expectation Value"
   ]
  },
  {
   "cell_type": "markdown",
   "id": "9d377873",
   "metadata": {},
   "source": [
    "We already presented in Notebook 2 how the standard expectation function can be implemented (and also commented on the naming \"energy_evaluation\"). We repeat it here so that we can later compare it with CVaR."
   ]
  },
  {
   "cell_type": "code",
   "execution_count": 6,
   "id": "c5431258",
   "metadata": {},
   "outputs": [],
   "source": [
    "from typing import List\n",
    "import numpy as np\n",
    "from qiskit.opflow import OperatorStateFn\n",
    "\n",
    "observable = OperatorStateFn(ising, is_measurement=True)\n",
    "\n",
    "def energy_evaluation(parameter_values: List[float]):\n",
    "    \"parameter_values is expected to be of the form [beta_0, beta_1, ..., gamma_0, gamma_1, ...]\"\n",
    "    parameter_bindings = dict(zip(qaoa_ansatz.parameters, parameter_values))\n",
    "\n",
    "    qaoa_with_parameters = qaoa_ansatz.bind_parameters(parameter_bindings)\n",
    "    qaoa_with_parameters_decomposed = qaoa_with_parameters.decompose(reps=3)\n",
    "\n",
    "    result = aer_simulator.run(qaoa_with_parameters_decomposed).result()\n",
    "    counts = result.get_counts()\n",
    "    sqrt_probabilities = {bitstring: np.sqrt(count/number_of_shots) for bitstring, count in counts.items()}\n",
    "    \n",
    "    expectation = np.real(observable.eval(sqrt_probabilities)) + ising_offset\n",
    "    \n",
    "    return expectation"
   ]
  },
  {
   "cell_type": "code",
   "execution_count": 7,
   "id": "e5439b93",
   "metadata": {},
   "outputs": [
    {
     "name": "stdout",
     "output_type": "stream",
     "text": [
      "Standard expectation value e([1.23, 2.31, 3.21, 4.32]) = 38.81870000000001\n"
     ]
    }
   ],
   "source": [
    "print(f\"Standard expectation value e([1.23, 2.31, 3.21, 4.32]) = {energy_evaluation([1.23, 2.31, 3.21, 4.32])}\")"
   ]
  },
  {
   "cell_type": "markdown",
   "id": "b407af98",
   "metadata": {},
   "source": [
    "# Conditional Value at Risk (CVaR) Expectation"
   ]
  },
  {
   "cell_type": "markdown",
   "id": "93c9af9e",
   "metadata": {},
   "source": [
    "In many optimization problems the smallest possible value of the cost function is of central intereset. Therefore, it seems reasonable to use the best observed sample as the cost function in QAOA. However, this leads to an unsmooth optimization surface and hence to problems in the classical optimization. As a remedy the optimization surface can be smoothed by not only using the best observed sample but instead averaging over a subset of the best observed samples. Exactly this is the basis of the CVaR method, and using it should lead to faster convergence of the classical optimizer and to better QAOA solutions.\n",
    "\n",
    "In order to specify the fraction of the best-observed samples, which are used to compute the objective function, the real number $\\alpha \\in [0, 1]$ is introduced. If $\\alpha = 1$, CVaR is equivalent to a standard expectation value. If $\\alpha = 0$, only the best-observed sample is used."
   ]
  },
  {
   "cell_type": "markdown",
   "id": "b2ce67ba",
   "metadata": {},
   "source": [
    "In the next code cells we implement the CVaR expectation with qiskit's class `CVaRExpectation`, see [link](https://qiskit.org/documentation/stubs/qiskit.opflow.expectations.CVaRExpectation.html)."
   ]
  },
  {
   "cell_type": "code",
   "execution_count": 8,
   "id": "51e82e08",
   "metadata": {},
   "outputs": [],
   "source": [
    "cvar_alpha = 0.08"
   ]
  },
  {
   "cell_type": "code",
   "execution_count": 9,
   "id": "5c02c086",
   "metadata": {},
   "outputs": [],
   "source": [
    "from qiskit.opflow import CircuitStateFn, DictStateFn\n",
    "from qiskit.opflow.expectations import CVaRExpectation\n",
    "\n",
    "qaoa_ansatz_wo_measurement = qaoa_ansatz.copy()\n",
    "qaoa_ansatz_wo_measurement.remove_final_measurements()\n",
    "\n",
    "expectation_operator = observable @ CircuitStateFn(qaoa_ansatz_wo_measurement)\n",
    "\n",
    "cvar_expectation_converter = CVaRExpectation(alpha=cvar_alpha)\n",
    "expectation_operator_cvar = cvar_expectation_converter.convert(expectation_operator)\n",
    "measurement_cvar = expectation_operator_cvar[0]\n",
    "\n",
    "def energy_evaluation_cvar(parameter_values: List[float]):\n",
    "    \"parameter_values is expected to be of the form [beta_0, beta_1, ..., gamma_0, gamma_1, ...]\"\n",
    "    parameter_bindings = dict(zip(qaoa_ansatz.parameters, parameter_values))\n",
    "\n",
    "    qaoa_with_parameters = qaoa_ansatz.bind_parameters(parameter_bindings)\n",
    "    qaoa_with_parameters_decomposed = qaoa_with_parameters.decompose(reps=3)\n",
    "\n",
    "    result = aer_simulator.run(qaoa_with_parameters_decomposed).result()\n",
    "    counts = result.get_counts()\n",
    "    sqrt_probabilities = {bitstring: np.sqrt(count/number_of_shots) for bitstring, count in counts.items()}\n",
    "    sqrt_probabilities_dict_state = DictStateFn(sqrt_probabilities)\n",
    "    \n",
    "    expectation = np.real(measurement_cvar.eval(sqrt_probabilities_dict_state)) + ising_offset\n",
    "    \n",
    "    return expectation"
   ]
  },
  {
   "cell_type": "code",
   "execution_count": 10,
   "id": "e8a7e6b4",
   "metadata": {},
   "outputs": [
    {
     "name": "stdout",
     "output_type": "stream",
     "text": [
      "CVaR expectation value e_cvar([1.23, 2.31, 3.21, 4.32]) = 9.024500000000003\n"
     ]
    }
   ],
   "source": [
    "print(f\"CVaR expectation value e_cvar([1.23, 2.31, 3.21, 4.32]) = {energy_evaluation_cvar([1.23, 2.31, 3.21, 4.32])}\")"
   ]
  },
  {
   "cell_type": "markdown",
   "id": "d11be276",
   "metadata": {},
   "source": [
    "Next, we use a classical optimizer to determine the variational parameters $\\vec{\\beta}$ and $\\vec{\\gamma}$. This follows the same steps as in Notebook 2."
   ]
  },
  {
   "cell_type": "markdown",
   "id": "f6add9b4",
   "metadata": {},
   "source": [
    "# Classical Optimization"
   ]
  },
  {
   "cell_type": "code",
   "execution_count": 11,
   "id": "447b2816",
   "metadata": {},
   "outputs": [],
   "source": [
    "# Run this cell only once if you want changing random numbers in the cell below\n",
    "seed = 199\n",
    "random_generator = np.random.default_rng(seed)"
   ]
  },
  {
   "cell_type": "code",
   "execution_count": 12,
   "id": "28a0564c",
   "metadata": {},
   "outputs": [],
   "source": [
    "from qiskit.algorithms.optimizers import COBYLA\n",
    "\n",
    "cobyla_optimizer = COBYLA()\n",
    "\n",
    "betas_initial_guess = np.pi*random_generator.random(qaoa_reps)\n",
    "gammas_initial_guess = 2*np.pi*random_generator.random(qaoa_reps)\n",
    "parameter_values_initial_guess = [*betas_initial_guess, *gammas_initial_guess]"
   ]
  },
  {
   "cell_type": "code",
   "execution_count": 13,
   "id": "52122404",
   "metadata": {},
   "outputs": [
    {
     "name": "stdout",
     "output_type": "stream",
     "text": [
      "Standard:\n",
      "  optimized parameters: [2.10537365 2.9363235  0.45141433 1.85876465]\n",
      "  expectation value: 18.86292000000001\n",
      "  number function evaluations: 47\n"
     ]
    }
   ],
   "source": [
    "result_optimization = cobyla_optimizer.minimize(fun=energy_evaluation, x0=parameter_values_initial_guess)\n",
    "\n",
    "parameter_values_optimized = result_optimization.x\n",
    "energy_optimized = result_optimization.fun\n",
    "number_function_evaluations = result_optimization.nfev # Number of evalutions of energy_evaluation\n",
    "\n",
    "print(\"Standard:\")\n",
    "print(\"  optimized parameters:\", parameter_values_optimized)\n",
    "print(\"  expectation value:\", energy_optimized)\n",
    "print(\"  number function evaluations:\", number_function_evaluations)"
   ]
  },
  {
   "cell_type": "code",
   "execution_count": 14,
   "id": "c4645b6e",
   "metadata": {
    "scrolled": true
   },
   "outputs": [
    {
     "name": "stdout",
     "output_type": "stream",
     "text": [
      "CVaR, alpha=0.08:\n",
      "  optimized parameters: [1.96361184 2.81734039 0.32297973 1.9298287 ]\n",
      "  cvar expectation value: 6.000000000000011\n",
      "  number function evaluations: 30\n"
     ]
    }
   ],
   "source": [
    "result_optimization_cvar = cobyla_optimizer.minimize(fun=energy_evaluation_cvar, x0=parameter_values_initial_guess)\n",
    "\n",
    "parameter_values_optimized_cvar = result_optimization_cvar.x\n",
    "energy_optimized_cvar = result_optimization_cvar.fun\n",
    "number_function_evaluations_cvar = result_optimization_cvar.nfev # Number of evalutions of energy_evaluation_cvar\n",
    "\n",
    "print(f\"CVaR, alpha={cvar_alpha}:\")\n",
    "print(\"  optimized parameters:\", parameter_values_optimized_cvar)\n",
    "print(\"  cvar expectation value:\", energy_optimized_cvar)\n",
    "print(\"  number function evaluations:\", number_function_evaluations_cvar)"
   ]
  },
  {
   "cell_type": "markdown",
   "id": "ebc320eb",
   "metadata": {},
   "source": [
    "# Postprocessing"
   ]
  },
  {
   "cell_type": "markdown",
   "id": "eecd2ff5",
   "metadata": {},
   "source": [
    "As in Notebook 3 we collect our result in a pandas dataframe, postprocess it and then visualize it."
   ]
  },
  {
   "cell_type": "code",
   "execution_count": 15,
   "id": "ab32f310",
   "metadata": {},
   "outputs": [],
   "source": [
    "parameter_bindings = dict(zip(qaoa_ansatz.parameters, parameter_values_optimized))\n",
    "\n",
    "qaoa_with_parameters = qaoa_ansatz.bind_parameters(parameter_bindings)\n",
    "qaoa_with_parameters_decomposed = qaoa_with_parameters.decompose(reps=3)\n",
    "\n",
    "result = aer_simulator.run(qaoa_with_parameters_decomposed).result()\n",
    "counts = result.get_counts()"
   ]
  },
  {
   "cell_type": "code",
   "execution_count": 16,
   "id": "c935abd1",
   "metadata": {},
   "outputs": [],
   "source": [
    "parameter_bindings = dict(zip(qaoa_ansatz.parameters, parameter_values_optimized_cvar))\n",
    "\n",
    "qaoa_with_parameters = qaoa_ansatz.bind_parameters(parameter_bindings)\n",
    "qaoa_with_parameters_decomposed = qaoa_with_parameters.decompose(reps=3)\n",
    "\n",
    "result = aer_simulator.run(qaoa_with_parameters_decomposed).result()\n",
    "counts_cvar = result.get_counts()"
   ]
  },
  {
   "cell_type": "code",
   "execution_count": 17,
   "id": "7c21f671",
   "metadata": {},
   "outputs": [
    {
     "data": {
      "text/html": [
       "<div>\n",
       "<style scoped>\n",
       "    .dataframe tbody tr th:only-of-type {\n",
       "        vertical-align: middle;\n",
       "    }\n",
       "\n",
       "    .dataframe tbody tr th {\n",
       "        vertical-align: top;\n",
       "    }\n",
       "\n",
       "    .dataframe thead th {\n",
       "        text-align: right;\n",
       "    }\n",
       "</style>\n",
       "<table border=\"1\" class=\"dataframe\">\n",
       "  <thead>\n",
       "    <tr style=\"text-align: right;\">\n",
       "      <th></th>\n",
       "      <th>bit_string</th>\n",
       "      <th>count</th>\n",
       "      <th>probability</th>\n",
       "      <th>count_cvar</th>\n",
       "      <th>probability_cvar</th>\n",
       "    </tr>\n",
       "  </thead>\n",
       "  <tbody>\n",
       "    <tr>\n",
       "      <th>0</th>\n",
       "      <td>00001010</td>\n",
       "      <td>2.0</td>\n",
       "      <td>0.0002</td>\n",
       "      <td>83.0</td>\n",
       "      <td>0.0083</td>\n",
       "    </tr>\n",
       "    <tr>\n",
       "      <th>1</th>\n",
       "      <td>11101000</td>\n",
       "      <td>1.0</td>\n",
       "      <td>0.0001</td>\n",
       "      <td>18.0</td>\n",
       "      <td>0.0018</td>\n",
       "    </tr>\n",
       "    <tr>\n",
       "      <th>2</th>\n",
       "      <td>00111101</td>\n",
       "      <td>4.0</td>\n",
       "      <td>0.0004</td>\n",
       "      <td>14.0</td>\n",
       "      <td>0.0014</td>\n",
       "    </tr>\n",
       "    <tr>\n",
       "      <th>3</th>\n",
       "      <td>11101111</td>\n",
       "      <td>2.0</td>\n",
       "      <td>0.0002</td>\n",
       "      <td>51.0</td>\n",
       "      <td>0.0051</td>\n",
       "    </tr>\n",
       "    <tr>\n",
       "      <th>4</th>\n",
       "      <td>00101000</td>\n",
       "      <td>7.0</td>\n",
       "      <td>0.0007</td>\n",
       "      <td>86.0</td>\n",
       "      <td>0.0086</td>\n",
       "    </tr>\n",
       "    <tr>\n",
       "      <th>...</th>\n",
       "      <td>...</td>\n",
       "      <td>...</td>\n",
       "      <td>...</td>\n",
       "      <td>...</td>\n",
       "      <td>...</td>\n",
       "    </tr>\n",
       "    <tr>\n",
       "      <th>251</th>\n",
       "      <td>01101110</td>\n",
       "      <td>0.0</td>\n",
       "      <td>0.0000</td>\n",
       "      <td>12.0</td>\n",
       "      <td>0.0012</td>\n",
       "    </tr>\n",
       "    <tr>\n",
       "      <th>252</th>\n",
       "      <td>00101011</td>\n",
       "      <td>0.0</td>\n",
       "      <td>0.0000</td>\n",
       "      <td>53.0</td>\n",
       "      <td>0.0053</td>\n",
       "    </tr>\n",
       "    <tr>\n",
       "      <th>253</th>\n",
       "      <td>10111010</td>\n",
       "      <td>0.0</td>\n",
       "      <td>0.0000</td>\n",
       "      <td>17.0</td>\n",
       "      <td>0.0017</td>\n",
       "    </tr>\n",
       "    <tr>\n",
       "      <th>254</th>\n",
       "      <td>00101110</td>\n",
       "      <td>0.0</td>\n",
       "      <td>0.0000</td>\n",
       "      <td>41.0</td>\n",
       "      <td>0.0041</td>\n",
       "    </tr>\n",
       "    <tr>\n",
       "      <th>255</th>\n",
       "      <td>01001010</td>\n",
       "      <td>0.0</td>\n",
       "      <td>0.0000</td>\n",
       "      <td>12.0</td>\n",
       "      <td>0.0012</td>\n",
       "    </tr>\n",
       "  </tbody>\n",
       "</table>\n",
       "<p>256 rows × 5 columns</p>\n",
       "</div>"
      ],
      "text/plain": [
       "    bit_string  count  probability  count_cvar  probability_cvar\n",
       "0     00001010    2.0       0.0002        83.0            0.0083\n",
       "1     11101000    1.0       0.0001        18.0            0.0018\n",
       "2     00111101    4.0       0.0004        14.0            0.0014\n",
       "3     11101111    2.0       0.0002        51.0            0.0051\n",
       "4     00101000    7.0       0.0007        86.0            0.0086\n",
       "..         ...    ...          ...         ...               ...\n",
       "251   01101110    0.0       0.0000        12.0            0.0012\n",
       "252   00101011    0.0       0.0000        53.0            0.0053\n",
       "253   10111010    0.0       0.0000        17.0            0.0017\n",
       "254   00101110    0.0       0.0000        41.0            0.0041\n",
       "255   01001010    0.0       0.0000        12.0            0.0012\n",
       "\n",
       "[256 rows x 5 columns]"
      ]
     },
     "execution_count": 17,
     "metadata": {},
     "output_type": "execute_result"
    }
   ],
   "source": [
    "import pandas as pd\n",
    "\n",
    "df = pd.DataFrame.from_dict(data={\n",
    "    \"bit_string\": counts.keys(),\n",
    "    \"count\": counts.values()})\n",
    "df[\"probability\"] = df[\"count\"]/number_of_shots\n",
    "\n",
    "df_cvar = pd.DataFrame.from_dict(data={\n",
    "    \"bit_string\": counts_cvar.keys(),\n",
    "    \"count_cvar\": counts_cvar.values()})\n",
    "df_cvar[\"probability_cvar\"] = df_cvar[\"count_cvar\"]/number_of_shots\n",
    "\n",
    "df = df.merge(df_cvar, how=\"outer\", on=\"bit_string\")\n",
    "df.fillna(0.0, inplace=True)\n",
    "\n",
    "df"
   ]
  },
  {
   "cell_type": "code",
   "execution_count": 18,
   "id": "9b699ffd",
   "metadata": {},
   "outputs": [
    {
     "data": {
      "text/html": [
       "<div>\n",
       "<style scoped>\n",
       "    .dataframe tbody tr th:only-of-type {\n",
       "        vertical-align: middle;\n",
       "    }\n",
       "\n",
       "    .dataframe tbody tr th {\n",
       "        vertical-align: top;\n",
       "    }\n",
       "\n",
       "    .dataframe thead th {\n",
       "        text-align: right;\n",
       "    }\n",
       "</style>\n",
       "<table border=\"1\" class=\"dataframe\">\n",
       "  <thead>\n",
       "    <tr style=\"text-align: right;\">\n",
       "      <th></th>\n",
       "      <th>bit_string</th>\n",
       "      <th>bit_array</th>\n",
       "      <th>integer_array</th>\n",
       "      <th>count</th>\n",
       "      <th>probability</th>\n",
       "      <th>probability_cvar</th>\n",
       "      <th>cost</th>\n",
       "      <th>is_feasible</th>\n",
       "      <th>is_optimal</th>\n",
       "    </tr>\n",
       "  </thead>\n",
       "  <tbody>\n",
       "    <tr>\n",
       "      <th>0</th>\n",
       "      <td>00011001</td>\n",
       "      <td>[1, 0, 0, 1, 1, 0, 0, 0]</td>\n",
       "      <td>[1.0, 2.0, 1.0, 0.0]</td>\n",
       "      <td>156.0</td>\n",
       "      <td>0.0156</td>\n",
       "      <td>0.0321</td>\n",
       "      <td>6.0</td>\n",
       "      <td>True</td>\n",
       "      <td>True</td>\n",
       "    </tr>\n",
       "    <tr>\n",
       "      <th>1</th>\n",
       "      <td>00010110</td>\n",
       "      <td>[0, 1, 1, 0, 1, 0, 0, 0]</td>\n",
       "      <td>[2.0, 1.0, 1.0, 0.0]</td>\n",
       "      <td>132.0</td>\n",
       "      <td>0.0132</td>\n",
       "      <td>0.0344</td>\n",
       "      <td>6.0</td>\n",
       "      <td>True</td>\n",
       "      <td>True</td>\n",
       "    </tr>\n",
       "    <tr>\n",
       "      <th>2</th>\n",
       "      <td>00100101</td>\n",
       "      <td>[1, 0, 1, 0, 0, 1, 0, 0]</td>\n",
       "      <td>[1.0, 1.0, 2.0, 0.0]</td>\n",
       "      <td>136.0</td>\n",
       "      <td>0.0136</td>\n",
       "      <td>0.0343</td>\n",
       "      <td>6.0</td>\n",
       "      <td>True</td>\n",
       "      <td>True</td>\n",
       "    </tr>\n",
       "    <tr>\n",
       "      <th>3</th>\n",
       "      <td>00010101</td>\n",
       "      <td>[1, 0, 1, 0, 1, 0, 0, 0]</td>\n",
       "      <td>[1.0, 1.0, 1.0, 0.0]</td>\n",
       "      <td>259.0</td>\n",
       "      <td>0.0259</td>\n",
       "      <td>0.0189</td>\n",
       "      <td>6.6</td>\n",
       "      <td>False</td>\n",
       "      <td>False</td>\n",
       "    </tr>\n",
       "    <tr>\n",
       "      <th>4</th>\n",
       "      <td>01010110</td>\n",
       "      <td>[0, 1, 1, 0, 1, 0, 1, 0]</td>\n",
       "      <td>[2.0, 1.0, 1.0, 1.0]</td>\n",
       "      <td>83.0</td>\n",
       "      <td>0.0083</td>\n",
       "      <td>0.0066</td>\n",
       "      <td>7.0</td>\n",
       "      <td>True</td>\n",
       "      <td>False</td>\n",
       "    </tr>\n",
       "    <tr>\n",
       "      <th>...</th>\n",
       "      <td>...</td>\n",
       "      <td>...</td>\n",
       "      <td>...</td>\n",
       "      <td>...</td>\n",
       "      <td>...</td>\n",
       "      <td>...</td>\n",
       "      <td>...</td>\n",
       "      <td>...</td>\n",
       "      <td>...</td>\n",
       "    </tr>\n",
       "    <tr>\n",
       "      <th>251</th>\n",
       "      <td>11101111</td>\n",
       "      <td>[1, 1, 1, 1, 0, 1, 1, 1]</td>\n",
       "      <td>[3.0, 3.0, 2.0, 3.0]</td>\n",
       "      <td>2.0</td>\n",
       "      <td>0.0002</td>\n",
       "      <td>0.0051</td>\n",
       "      <td>88.6</td>\n",
       "      <td>False</td>\n",
       "      <td>False</td>\n",
       "    </tr>\n",
       "    <tr>\n",
       "      <th>252</th>\n",
       "      <td>00111111</td>\n",
       "      <td>[1, 1, 1, 1, 1, 1, 0, 0]</td>\n",
       "      <td>[3.0, 3.0, 3.0, 0.0]</td>\n",
       "      <td>9.0</td>\n",
       "      <td>0.0009</td>\n",
       "      <td>0.0172</td>\n",
       "      <td>117.0</td>\n",
       "      <td>False</td>\n",
       "      <td>False</td>\n",
       "    </tr>\n",
       "    <tr>\n",
       "      <th>253</th>\n",
       "      <td>01111111</td>\n",
       "      <td>[1, 1, 1, 1, 1, 1, 1, 0]</td>\n",
       "      <td>[3.0, 3.0, 3.0, 1.0]</td>\n",
       "      <td>1.0</td>\n",
       "      <td>0.0001</td>\n",
       "      <td>0.0035</td>\n",
       "      <td>118.0</td>\n",
       "      <td>False</td>\n",
       "      <td>False</td>\n",
       "    </tr>\n",
       "    <tr>\n",
       "      <th>254</th>\n",
       "      <td>10111111</td>\n",
       "      <td>[1, 1, 1, 1, 1, 1, 0, 1]</td>\n",
       "      <td>[3.0, 3.0, 3.0, 2.0]</td>\n",
       "      <td>2.0</td>\n",
       "      <td>0.0002</td>\n",
       "      <td>0.0062</td>\n",
       "      <td>121.0</td>\n",
       "      <td>False</td>\n",
       "      <td>False</td>\n",
       "    </tr>\n",
       "    <tr>\n",
       "      <th>255</th>\n",
       "      <td>11111111</td>\n",
       "      <td>[1, 1, 1, 1, 1, 1, 1, 1]</td>\n",
       "      <td>[3.0, 3.0, 3.0, 3.0]</td>\n",
       "      <td>3.0</td>\n",
       "      <td>0.0003</td>\n",
       "      <td>0.0042</td>\n",
       "      <td>126.0</td>\n",
       "      <td>False</td>\n",
       "      <td>False</td>\n",
       "    </tr>\n",
       "  </tbody>\n",
       "</table>\n",
       "<p>256 rows × 9 columns</p>\n",
       "</div>"
      ],
      "text/plain": [
       "    bit_string                 bit_array         integer_array  count  \\\n",
       "0     00011001  [1, 0, 0, 1, 1, 0, 0, 0]  [1.0, 2.0, 1.0, 0.0]  156.0   \n",
       "1     00010110  [0, 1, 1, 0, 1, 0, 0, 0]  [2.0, 1.0, 1.0, 0.0]  132.0   \n",
       "2     00100101  [1, 0, 1, 0, 0, 1, 0, 0]  [1.0, 1.0, 2.0, 0.0]  136.0   \n",
       "3     00010101  [1, 0, 1, 0, 1, 0, 0, 0]  [1.0, 1.0, 1.0, 0.0]  259.0   \n",
       "4     01010110  [0, 1, 1, 0, 1, 0, 1, 0]  [2.0, 1.0, 1.0, 1.0]   83.0   \n",
       "..         ...                       ...                   ...    ...   \n",
       "251   11101111  [1, 1, 1, 1, 0, 1, 1, 1]  [3.0, 3.0, 2.0, 3.0]    2.0   \n",
       "252   00111111  [1, 1, 1, 1, 1, 1, 0, 0]  [3.0, 3.0, 3.0, 0.0]    9.0   \n",
       "253   01111111  [1, 1, 1, 1, 1, 1, 1, 0]  [3.0, 3.0, 3.0, 1.0]    1.0   \n",
       "254   10111111  [1, 1, 1, 1, 1, 1, 0, 1]  [3.0, 3.0, 3.0, 2.0]    2.0   \n",
       "255   11111111  [1, 1, 1, 1, 1, 1, 1, 1]  [3.0, 3.0, 3.0, 3.0]    3.0   \n",
       "\n",
       "     probability  probability_cvar   cost  is_feasible  is_optimal  \n",
       "0         0.0156            0.0321    6.0         True        True  \n",
       "1         0.0132            0.0344    6.0         True        True  \n",
       "2         0.0136            0.0343    6.0         True        True  \n",
       "3         0.0259            0.0189    6.6        False       False  \n",
       "4         0.0083            0.0066    7.0         True       False  \n",
       "..           ...               ...    ...          ...         ...  \n",
       "251       0.0002            0.0051   88.6        False       False  \n",
       "252       0.0009            0.0172  117.0        False       False  \n",
       "253       0.0001            0.0035  118.0        False       False  \n",
       "254       0.0002            0.0062  121.0        False       False  \n",
       "255       0.0003            0.0042  126.0        False       False  \n",
       "\n",
       "[256 rows x 9 columns]"
      ]
     },
     "execution_count": 18,
     "metadata": {},
     "output_type": "execute_result"
    }
   ],
   "source": [
    "df[\"bit_array\"] = df[\"bit_string\"].apply(\n",
    "    lambda bitstring: np.fromiter(bitstring, dtype=int)[::-1])\n",
    "\n",
    "df[\"integer_array\"] = df[\"bit_array\"].apply(\n",
    "    converter.interpret)\n",
    "\n",
    "df = df[\n",
    "    [\"bit_string\", \"bit_array\",\"integer_array\", \"count\", \"probability\", \"probability_cvar\"]]\n",
    "\n",
    "df[\"cost\"] = df[\"bit_array\"].apply(\n",
    "    qubo.objective.evaluate)\n",
    "\n",
    "df[\"is_feasible\"] = df[\"integer_array\"].apply(\n",
    "    qcio.is_feasible)\n",
    "\n",
    "df[\"is_optimal\"] = df[\"cost\"].apply(lambda x: np.isclose(x, f_3_min))\n",
    "\n",
    "df = df.sort_values(\"cost\", ascending=True)\n",
    "\n",
    "df.reset_index(inplace=True, drop=True)\n",
    "\n",
    "df"
   ]
  },
  {
   "cell_type": "code",
   "execution_count": 70,
   "id": "46e7253a",
   "metadata": {
    "scrolled": false
   },
   "outputs": [
    {
     "data": {
      "image/png": "[encoded data removed]",
      "text/plain": [
       "<Figure size 6000x3600 with 1 Axes>"
      ]
     },
     "metadata": {},
     "output_type": "display_data"
    }
   ],
   "source": [
    "import matplotlib.pyplot as plt\n",
    "import scienceplots\n",
    "plt.style.use(['science','ieee'])\n",
    "# Set the default figure size and font size\n",
    "plt.rcParams['figure.figsize'] = 10, 6\n",
    "plt.rcParams['font.size'] = 14\n",
    "plt.rcParams['text.usetex'] = True\n",
    "plt.rcParams['axes.prop_cycle'] = plt.cycler(color=[BLUE,RED])\n",
    "\n",
    "        \n",
    "df_plot = df.iloc[0:40, :]\n",
    "\n",
    "#use IEEE Colors\n",
    "BLUE = \"#0072BD\"\n",
    "RED = \"#D95319\"\n",
    "GREEN = \"#77AC30\"\n",
    "\n",
    "fig, ax =  plt.subplots()\n",
    "\n",
    "\n",
    "ax.bar(df_plot.index, df_plot[\"probability_cvar\"], color= RED, label=f\"CVaR, $\\\\alpha$={cvar_alpha}\")\n",
    "\n",
    "ax.set_xlabel(\"Bitstring\")\n",
    "ax.set_ylabel(\"Probability\")\n",
    "ax.set_xticks(df_plot.index)\n",
    "ax.set_xticklabels(df_plot[\"bit_string\"], rotation=90)\n",
    "ax.legend()\n",
    "# add scatter markers above x labels to indicate the optimal solution and feasible solutions\n",
    "ax.scatter(df_plot[df_plot[\"is_optimal\"]].index, df_plot[df_plot[\"is_optimal\"]][\"probability_cvar\"], marker=\"*\", color=\"black\", s=100, label=\"optimal solution\")\n",
    "ax.scatter(df_plot[df_plot[\"is_feasible\"]].index, df_plot[df_plot[\"is_feasible\"]][\"probability_cvar\"], marker=\"o\",alpha=0.5 ,color=\"black\", s=100, label=\"feasible solution\")\n",
    "#remove overllaping markers\n",
    "\n",
    "ax.set_ylim(bottom=-0.001)\n",
    "ax.legend()\n",
    "\n",
    "\n",
    "#move the x axis a little bit up\n",
    "ax.set_ylim(bottom=-0.001)\n",
    "   \n",
    "ax.legend()\n",
    "plt.tight_layout()\n",
    "    \n",
    "            \n",
    "    \n",
    "    \n",
    "\n",
    "\n",
    "                \n",
    "\n",
    "\n",
    "\n",
    "plt.savefig(\"qaoa_cvar.pdf\", bbox_inches='tight')\n",
    "plt.show()\n",
    "    \n"
   ]
  },
  {
   "cell_type": "code",
   "execution_count": 43,
   "id": "eeb5eab8",
   "metadata": {},
   "outputs": [
    {
     "data": {
      "application/vnd.plotly.v1+json": {
       "config": {
        "plotlyServerURL": "https://plot.ly"
       },
       "data": [
        {
         "name": "standard",
         "type": "bar",
         "x": [
          "00011001",
          "00010110",
          "00100101",
          "00010101",
          "01010110",
          "01100101",
          "01011001",
          "01010101",
          "00001010",
          "00101000",
          "00100010",
          "00011000",
          "00100001",
          "00100100",
          "00001001",
          "00010010",
          "00000110",
          "01101000",
          "01001010",
          "01100010",
          "01100100",
          "01001001",
          "01100001",
          "01010010",
          "01000110",
          "01011000",
          "00110001",
          "00011100",
          "00000111",
          "00001101"
         ],
         "y": [
          0.0156,
          0.0132,
          0.0136,
          0.0259,
          0.0083,
          0.0084,
          0.0077,
          0.0173,
          0.0002,
          0.0007,
          0.0002,
          0.0107,
          0.0114,
          0.0086,
          0.011,
          0.0093,
          0.0119,
          0.0003,
          0,
          0.0002,
          0.0083,
          0.0075,
          0.0066,
          0.0071,
          0.007,
          0.0057,
          0.0019,
          0.0011,
          0.0013,
          0.0024
         ]
        },
        {
         "name": "cvar",
         "type": "bar",
         "x": [
          "00011001",
          "00010110",
          "00100101",
          "00010101",
          "01010110",
          "01100101",
          "01011001",
          "01010101",
          "00001010",
          "00101000",
          "00100010",
          "00011000",
          "00100001",
          "00100100",
          "00001001",
          "00010010",
          "00000110",
          "01101000",
          "01001010",
          "01100010",
          "01100100",
          "01001001",
          "01100001",
          "01010010",
          "01000110",
          "01011000",
          "00110001",
          "00011100",
          "00000111",
          "00001101"
         ],
         "y": [
          0.0321,
          0.0344,
          0.0343,
          0.0189,
          0.0066,
          0.0066,
          0.0049,
          0.0038,
          0.0083,
          0.0086,
          0.0105,
          0.001,
          0.0017,
          0.0016,
          0.0014,
          0.0022,
          0.0013,
          0.0019,
          0.0012,
          0.0022,
          0.0001,
          0.0003,
          0.0001,
          0.0002,
          0.0002,
          0.0002,
          0.0057,
          0.0067,
          0.0062,
          0.007
         ]
        },
        {
         "line": {
          "color": "black",
          "width": 2
         },
         "mode": "lines+markers",
         "name": "cost",
         "type": "scatter",
         "x": [
          "00011001",
          "00010110",
          "00100101",
          "00010101",
          "01010110",
          "01100101",
          "01011001",
          "01010101",
          "00001010",
          "00101000",
          "00100010",
          "00011000",
          "00100001",
          "00100100",
          "00001001",
          "00010010",
          "00000110",
          "01101000",
          "01001010",
          "01100010",
          "01100100",
          "01001001",
          "01100001",
          "01010010",
          "01000110",
          "01011000",
          "00110001",
          "00011100",
          "00000111",
          "00001101"
         ],
         "xaxis": "x",
         "y": [
          6,
          6,
          6,
          6.599999999999994,
          6.999999999999993,
          6.999999999999993,
          6.999999999999993,
          7.599999999999994,
          7.999999999999993,
          7.999999999999993,
          7.999999999999993,
          8.599999999999994,
          8.599999999999994,
          8.599999999999994,
          8.599999999999994,
          8.599999999999994,
          8.599999999999994,
          8.999999999999993,
          8.999999999999993,
          8.999999999999993,
          9.599999999999994,
          9.599999999999994,
          9.599999999999994,
          9.599999999999994,
          9.599999999999994,
          9.599999999999994,
          9.999999999999993,
          9.999999999999993,
          9.999999999999993,
          9.999999999999993
         ],
         "yaxis": "y2"
        },
        {
         "marker": {
          "color": "#D95319"
         },
         "name": "standard",
         "type": "bar",
         "x": [
          "00011001",
          "00010110",
          "00100101",
          "00010101",
          "01010110",
          "01100101",
          "01011001",
          "01010101",
          "00001010",
          "00101000",
          "00100010",
          "00011000",
          "00100001",
          "00100100",
          "00001001",
          "00010010",
          "00000110",
          "01101000",
          "01001010",
          "01100010",
          "01100100",
          "01001001",
          "01100001",
          "01010010",
          "01000110",
          "01011000",
          "00110001",
          "00011100",
          "00000111",
          "00001101"
         ],
         "y": [
          0.0156,
          0.0132,
          0.0136,
          0.0259,
          0.0083,
          0.0084,
          0.0077,
          0.0173,
          0.0002,
          0.0007,
          0.0002,
          0.0107,
          0.0114,
          0.0086,
          0.011,
          0.0093,
          0.0119,
          0.0003,
          0,
          0.0002,
          0.0083,
          0.0075,
          0.0066,
          0.0071,
          0.007,
          0.0057,
          0.0019,
          0.0011,
          0.0013,
          0.0024
         ]
        },
        {
         "marker": {
          "size": 15,
          "symbol": "arrow-up"
         },
         "mode": "markers",
         "name": "optimal bitstring",
         "opacity": 0.9,
         "type": "scatter",
         "x": [
          "00011001",
          "00010110",
          "00100101"
         ],
         "y": [
          -0.001,
          -0.001,
          -0.001,
          -0.001,
          -0.001,
          -0.001,
          -0.001,
          -0.001,
          -0.001,
          -0.001,
          -0.001,
          -0.001,
          -0.001,
          -0.001,
          -0.001,
          -0.001,
          -0.001,
          -0.001,
          -0.001,
          -0.001,
          -0.001,
          -0.001,
          -0.001,
          -0.001,
          -0.001,
          -0.001,
          -0.001,
          -0.001,
          -0.001,
          -0.001
         ]
        },
        {
         "marker": {
          "size": 10,
          "symbol": "arrow-up"
         },
         "mode": "markers",
         "name": "feasible bitstring",
         "opacity": 0.7,
         "type": "scatter",
         "x": [
          "00011001",
          "00010110",
          "00100101",
          "01010110",
          "01100101",
          "01011001",
          "00001010",
          "00101000",
          "00100010",
          "01101000",
          "01001010",
          "01100010",
          "00110001",
          "00011100",
          "00000111",
          "00001101"
         ],
         "y": [
          -0.001,
          -0.001,
          -0.001,
          -0.001,
          -0.001,
          -0.001,
          -0.001,
          -0.001,
          -0.001,
          -0.001,
          -0.001,
          -0.001,
          -0.001,
          -0.001,
          -0.001,
          -0.001,
          -0.001,
          -0.001,
          -0.001,
          -0.001,
          -0.001,
          -0.001,
          -0.001,
          -0.001,
          -0.001,
          -0.001,
          -0.001,
          -0.001,
          -0.001,
          -0.001
         ]
        }
       ],
       "layout": {
        "template": {
         "data": {
          "bar": [
           {
            "error_x": {
             "color": "#2a3f5f"
            },
            "error_y": {
             "color": "#2a3f5f"
            },
            "marker": {
             "line": {
              "color": "#E5ECF6",
              "width": 0.5
             },
             "pattern": {
              "fillmode": "overlay",
              "size": 10,
              "solidity": 0.2
             }
            },
            "type": "bar"
           }
          ],
          "barpolar": [
           {
            "marker": {
             "line": {
              "color": "#E5ECF6",
              "width": 0.5
             },
             "pattern": {
              "fillmode": "overlay",
              "size": 10,
              "solidity": 0.2
             }
            },
            "type": "barpolar"
           }
          ],
          "carpet": [
           {
            "aaxis": {
             "endlinecolor": "#2a3f5f",
             "gridcolor": "white",
             "linecolor": "white",
             "minorgridcolor": "white",
             "startlinecolor": "#2a3f5f"
            },
            "baxis": {
             "endlinecolor": "#2a3f5f",
             "gridcolor": "white",
             "linecolor": "white",
             "minorgridcolor": "white",
             "startlinecolor": "#2a3f5f"
            },
            "type": "carpet"
           }
          ],
          "choropleth": [
           {
            "colorbar": {
             "outlinewidth": 0,
             "ticks": ""
            },
            "type": "choropleth"
           }
          ],
          "contour": [
           {
            "colorbar": {
             "outlinewidth": 0,
             "ticks": ""
            },
            "colorscale": [
             [
              0,
              "#0d0887"
             ],
             [
              0.1111111111111111,
              "#46039f"
             ],
             [
              0.2222222222222222,
              "#7201a8"
             ],
             [
              0.3333333333333333,
              "#9c179e"
             ],
             [
              0.4444444444444444,
              "#bd3786"
             ],
             [
              0.5555555555555556,
              "#d8576b"
             ],
             [
              0.6666666666666666,
              "#ed7953"
             ],
             [
              0.7777777777777778,
              "#fb9f3a"
             ],
             [
              0.8888888888888888,
              "#fdca26"
             ],
             [
              1,
              "#f0f921"
             ]
            ],
            "type": "contour"
           }
          ],
          "contourcarpet": [
           {
            "colorbar": {
             "outlinewidth": 0,
             "ticks": ""
            },
            "type": "contourcarpet"
           }
          ],
          "heatmap": [
           {
            "colorbar": {
             "outlinewidth": 0,
             "ticks": ""
            },
            "colorscale": [
             [
              0,
              "#0d0887"
             ],
             [
              0.1111111111111111,
              "#46039f"
             ],
             [
              0.2222222222222222,
              "#7201a8"
             ],
             [
              0.3333333333333333,
              "#9c179e"
             ],
             [
              0.4444444444444444,
              "#bd3786"
             ],
             [
              0.5555555555555556,
              "#d8576b"
             ],
             [
              0.6666666666666666,
              "#ed7953"
             ],
             [
              0.7777777777777778,
              "#fb9f3a"
             ],
             [
              0.8888888888888888,
              "#fdca26"
             ],
             [
              1,
              "#f0f921"
             ]
            ],
            "type": "heatmap"
           }
          ],
          "heatmapgl": [
           {
            "colorbar": {
             "outlinewidth": 0,
             "ticks": ""
            },
            "colorscale": [
             [
              0,
              "#0d0887"
             ],
             [
              0.1111111111111111,
              "#46039f"
             ],
             [
              0.2222222222222222,
              "#7201a8"
             ],
             [
              0.3333333333333333,
              "#9c179e"
             ],
             [
              0.4444444444444444,
              "#bd3786"
             ],
             [
              0.5555555555555556,
              "#d8576b"
             ],
             [
              0.6666666666666666,
              "#ed7953"
             ],
             [
              0.7777777777777778,
              "#fb9f3a"
             ],
             [
              0.8888888888888888,
              "#fdca26"
             ],
             [
              1,
              "#f0f921"
             ]
            ],
            "type": "heatmapgl"
           }
          ],
          "histogram": [
           {
            "marker": {
             "pattern": {
              "fillmode": "overlay",
              "size": 10,
              "solidity": 0.2
             }
            },
            "type": "histogram"
           }
          ],
          "histogram2d": [
           {
            "colorbar": {
             "outlinewidth": 0,
             "ticks": ""
            },
            "colorscale": [
             [
              0,
              "#0d0887"
             ],
             [
              0.1111111111111111,
              "#46039f"
             ],
             [
              0.2222222222222222,
              "#7201a8"
             ],
             [
              0.3333333333333333,
              "#9c179e"
             ],
             [
              0.4444444444444444,
              "#bd3786"
             ],
             [
              0.5555555555555556,
              "#d8576b"
             ],
             [
              0.6666666666666666,
              "#ed7953"
             ],
             [
              0.7777777777777778,
              "#fb9f3a"
             ],
             [
              0.8888888888888888,
              "#fdca26"
             ],
             [
              1,
              "#f0f921"
             ]
            ],
            "type": "histogram2d"
           }
          ],
          "histogram2dcontour": [
           {
            "colorbar": {
             "outlinewidth": 0,
             "ticks": ""
            },
            "colorscale": [
             [
              0,
              "#0d0887"
             ],
             [
              0.1111111111111111,
              "#46039f"
             ],
             [
              0.2222222222222222,
              "#7201a8"
             ],
             [
              0.3333333333333333,
              "#9c179e"
             ],
             [
              0.4444444444444444,
              "#bd3786"
             ],
             [
              0.5555555555555556,
              "#d8576b"
             ],
             [
              0.6666666666666666,
              "#ed7953"
             ],
             [
              0.7777777777777778,
              "#fb9f3a"
             ],
             [
              0.8888888888888888,
              "#fdca26"
             ],
             [
              1,
              "#f0f921"
             ]
            ],
            "type": "histogram2dcontour"
           }
          ],
          "mesh3d": [
           {
            "colorbar": {
             "outlinewidth": 0,
             "ticks": ""
            },
            "type": "mesh3d"
           }
          ],
          "parcoords": [
           {
            "line": {
             "colorbar": {
              "outlinewidth": 0,
              "ticks": ""
             }
            },
            "type": "parcoords"
           }
          ],
          "pie": [
           {
            "automargin": true,
            "type": "pie"
           }
          ],
          "scatter": [
           {
            "fillpattern": {
             "fillmode": "overlay",
             "size": 10,
             "solidity": 0.2
            },
            "type": "scatter"
           }
          ],
          "scatter3d": [
           {
            "line": {
             "colorbar": {
              "outlinewidth": 0,
              "ticks": ""
             }
            },
            "marker": {
             "colorbar": {
              "outlinewidth": 0,
              "ticks": ""
             }
            },
            "type": "scatter3d"
           }
          ],
          "scattercarpet": [
           {
            "marker": {
             "colorbar": {
              "outlinewidth": 0,
              "ticks": ""
             }
            },
            "type": "scattercarpet"
           }
          ],
          "scattergeo": [
           {
            "marker": {
             "colorbar": {
              "outlinewidth": 0,
              "ticks": ""
             }
            },
            "type": "scattergeo"
           }
          ],
          "scattergl": [
           {
            "marker": {
             "colorbar": {
              "outlinewidth": 0,
              "ticks": ""
             }
            },
            "type": "scattergl"
           }
          ],
          "scattermapbox": [
           {
            "marker": {
             "colorbar": {
              "outlinewidth": 0,
              "ticks": ""
             }
            },
            "type": "scattermapbox"
           }
          ],
          "scatterpolar": [
           {
            "marker": {
             "colorbar": {
              "outlinewidth": 0,
              "ticks": ""
             }
            },
            "type": "scatterpolar"
           }
          ],
          "scatterpolargl": [
           {
            "marker": {
             "colorbar": {
              "outlinewidth": 0,
              "ticks": ""
             }
            },
            "type": "scatterpolargl"
           }
          ],
          "scatterternary": [
           {
            "marker": {
             "colorbar": {
              "outlinewidth": 0,
              "ticks": ""
             }
            },
            "type": "scatterternary"
           }
          ],
          "surface": [
           {
            "colorbar": {
             "outlinewidth": 0,
             "ticks": ""
            },
            "colorscale": [
             [
              0,
              "#0d0887"
             ],
             [
              0.1111111111111111,
              "#46039f"
             ],
             [
              0.2222222222222222,
              "#7201a8"
             ],
             [
              0.3333333333333333,
              "#9c179e"
             ],
             [
              0.4444444444444444,
              "#bd3786"
             ],
             [
              0.5555555555555556,
              "#d8576b"
             ],
             [
              0.6666666666666666,
              "#ed7953"
             ],
             [
              0.7777777777777778,
              "#fb9f3a"
             ],
             [
              0.8888888888888888,
              "#fdca26"
             ],
             [
              1,
              "#f0f921"
             ]
            ],
            "type": "surface"
           }
          ],
          "table": [
           {
            "cells": {
             "fill": {
              "color": "#EBF0F8"
             },
             "line": {
              "color": "white"
             }
            },
            "header": {
             "fill": {
              "color": "#C8D4E3"
             },
             "line": {
              "color": "white"
             }
            },
            "type": "table"
           }
          ]
         },
         "layout": {
          "annotationdefaults": {
           "arrowcolor": "#2a3f5f",
           "arrowhead": 0,
           "arrowwidth": 1
          },
          "autotypenumbers": "strict",
          "coloraxis": {
           "colorbar": {
            "outlinewidth": 0,
            "ticks": ""
           }
          },
          "colorscale": {
           "diverging": [
            [
             0,
             "#8e0152"
            ],
            [
             0.1,
             "#c51b7d"
            ],
            [
             0.2,
             "#de77ae"
            ],
            [
             0.3,
             "#f1b6da"
            ],
            [
             0.4,
             "#fde0ef"
            ],
            [
             0.5,
             "#f7f7f7"
            ],
            [
             0.6,
             "#e6f5d0"
            ],
            [
             0.7,
             "#b8e186"
            ],
            [
             0.8,
             "#7fbc41"
            ],
            [
             0.9,
             "#4d9221"
            ],
            [
             1,
             "#276419"
            ]
           ],
           "sequential": [
            [
             0,
             "#0d0887"
            ],
            [
             0.1111111111111111,
             "#46039f"
            ],
            [
             0.2222222222222222,
             "#7201a8"
            ],
            [
             0.3333333333333333,
             "#9c179e"
            ],
            [
             0.4444444444444444,
             "#bd3786"
            ],
            [
             0.5555555555555556,
             "#d8576b"
            ],
            [
             0.6666666666666666,
             "#ed7953"
            ],
            [
             0.7777777777777778,
             "#fb9f3a"
            ],
            [
             0.8888888888888888,
             "#fdca26"
            ],
            [
             1,
             "#f0f921"
            ]
           ],
           "sequentialminus": [
            [
             0,
             "#0d0887"
            ],
            [
             0.1111111111111111,
             "#46039f"
            ],
            [
             0.2222222222222222,
             "#7201a8"
            ],
            [
             0.3333333333333333,
             "#9c179e"
            ],
            [
             0.4444444444444444,
             "#bd3786"
            ],
            [
             0.5555555555555556,
             "#d8576b"
            ],
            [
             0.6666666666666666,
             "#ed7953"
            ],
            [
             0.7777777777777778,
             "#fb9f3a"
            ],
            [
             0.8888888888888888,
             "#fdca26"
            ],
            [
             1,
             "#f0f921"
            ]
           ]
          },
          "colorway": [
           "#636efa",
           "#EF553B",
           "#00cc96",
           "#ab63fa",
           "#FFA15A",
           "#19d3f3",
           "#FF6692",
           "#B6E880",
           "#FF97FF",
           "#FECB52"
          ],
          "font": {
           "color": "#2a3f5f"
          },
          "geo": {
           "bgcolor": "white",
           "lakecolor": "white",
           "landcolor": "#E5ECF6",
           "showlakes": true,
           "showland": true,
           "subunitcolor": "white"
          },
          "hoverlabel": {
           "align": "left"
          },
          "hovermode": "closest",
          "mapbox": {
           "style": "light"
          },
          "paper_bgcolor": "white",
          "plot_bgcolor": "#E5ECF6",
          "polar": {
           "angularaxis": {
            "gridcolor": "white",
            "linecolor": "white",
            "ticks": ""
           },
           "bgcolor": "#E5ECF6",
           "radialaxis": {
            "gridcolor": "white",
            "linecolor": "white",
            "ticks": ""
           }
          },
          "scene": {
           "xaxis": {
            "backgroundcolor": "#E5ECF6",
            "gridcolor": "white",
            "gridwidth": 2,
            "linecolor": "white",
            "showbackground": true,
            "ticks": "",
            "zerolinecolor": "white"
           },
           "yaxis": {
            "backgroundcolor": "#E5ECF6",
            "gridcolor": "white",
            "gridwidth": 2,
            "linecolor": "white",
            "showbackground": true,
            "ticks": "",
            "zerolinecolor": "white"
           },
           "zaxis": {
            "backgroundcolor": "#E5ECF6",
            "gridcolor": "white",
            "gridwidth": 2,
            "linecolor": "white",
            "showbackground": true,
            "ticks": "",
            "zerolinecolor": "white"
           }
          },
          "shapedefaults": {
           "line": {
            "color": "#2a3f5f"
           }
          },
          "ternary": {
           "aaxis": {
            "gridcolor": "white",
            "linecolor": "white",
            "ticks": ""
           },
           "baxis": {
            "gridcolor": "white",
            "linecolor": "white",
            "ticks": ""
           },
           "bgcolor": "#E5ECF6",
           "caxis": {
            "gridcolor": "white",
            "linecolor": "white",
            "ticks": ""
           }
          },
          "title": {
           "x": 0.05
          },
          "xaxis": {
           "automargin": true,
           "gridcolor": "white",
           "linecolor": "white",
           "ticks": "",
           "title": {
            "standoff": 15
           },
           "zerolinecolor": "white",
           "zerolinewidth": 2
          },
          "yaxis": {
           "automargin": true,
           "gridcolor": "white",
           "linecolor": "white",
           "ticks": "",
           "title": {
            "standoff": 15
           },
           "zerolinecolor": "white",
           "zerolinewidth": 2
          }
         }
        },
        "title": {
         "text": "Best 50 bit strings w.r.t. to cost function (sorted by cost, increasing from left to right)"
        },
        "xaxis": {
         "anchor": "y",
         "domain": [
          0,
          0.94
         ],
         "title": {
          "text": "$x$"
         }
        },
        "yaxis": {
         "anchor": "x",
         "domain": [
          0,
          1
         ],
         "title": {
          "text": "probability"
         }
        },
        "yaxis2": {
         "anchor": "x",
         "overlaying": "y",
         "side": "right",
         "title": {
          "text": "probability"
         }
        }
       }
      },
      "text/html": [
       "<div>                            <div id=\"66312227-f11f-49cb-ae2b-5219f879e9a5\" class=\"plotly-graph-div\" style=\"height:525px; width:100%;\"></div>            <script type=\"text/javascript\">                require([\"plotly\"], function(Plotly) {                    window.PLOTLYENV=window.PLOTLYENV || {};                                    if (document.getElementById(\"66312227-f11f-49cb-ae2b-5219f879e9a5\")) {                    Plotly.newPlot(                        \"66312227-f11f-49cb-ae2b-5219f879e9a5\",                        [{\"name\":\"standard\",\"x\":[\"00011001\",\"00010110\",\"00100101\",\"00010101\",\"01010110\",\"01100101\",\"01011001\",\"01010101\",\"00001010\",\"00101000\",\"00100010\",\"00011000\",\"00100001\",\"00100100\",\"00001001\",\"00010010\",\"00000110\",\"01101000\",\"01001010\",\"01100010\",\"01100100\",\"01001001\",\"01100001\",\"01010010\",\"01000110\",\"01011000\",\"00110001\",\"00011100\",\"00000111\",\"00001101\"],\"y\":[0.0156,0.0132,0.0136,0.0259,0.0083,0.0084,0.0077,0.0173,0.0002,0.0007,0.0002,0.0107,0.0114,0.0086,0.011,0.0093,0.0119,0.0003,0.0,0.0002,0.0083,0.0075,0.0066,0.0071,0.007,0.0057,0.0019,0.0011,0.0013,0.0024],\"type\":\"bar\"},{\"name\":\"cvar\",\"x\":[\"00011001\",\"00010110\",\"00100101\",\"00010101\",\"01010110\",\"01100101\",\"01011001\",\"01010101\",\"00001010\",\"00101000\",\"00100010\",\"00011000\",\"00100001\",\"00100100\",\"00001001\",\"00010010\",\"00000110\",\"01101000\",\"01001010\",\"01100010\",\"01100100\",\"01001001\",\"01100001\",\"01010010\",\"01000110\",\"01011000\",\"00110001\",\"00011100\",\"00000111\",\"00001101\"],\"y\":[0.0321,0.0344,0.0343,0.0189,0.0066,0.0066,0.0049,0.0038,0.0083,0.0086,0.0105,0.001,0.0017,0.0016,0.0014,0.0022,0.0013,0.0019,0.0012,0.0022,0.0001,0.0003,0.0001,0.0002,0.0002,0.0002,0.0057,0.0067,0.0062,0.007],\"type\":\"bar\"},{\"line\":{\"color\":\"black\",\"width\":2},\"mode\":\"lines+markers\",\"name\":\"cost\",\"x\":[\"00011001\",\"00010110\",\"00100101\",\"00010101\",\"01010110\",\"01100101\",\"01011001\",\"01010101\",\"00001010\",\"00101000\",\"00100010\",\"00011000\",\"00100001\",\"00100100\",\"00001001\",\"00010010\",\"00000110\",\"01101000\",\"01001010\",\"01100010\",\"01100100\",\"01001001\",\"01100001\",\"01010010\",\"01000110\",\"01011000\",\"00110001\",\"00011100\",\"00000111\",\"00001101\"],\"y\":[6.0,6.0,6.0,6.599999999999994,6.999999999999993,6.999999999999993,6.999999999999993,7.599999999999994,7.999999999999993,7.999999999999993,7.999999999999993,8.599999999999994,8.599999999999994,8.599999999999994,8.599999999999994,8.599999999999994,8.599999999999994,8.999999999999993,8.999999999999993,8.999999999999993,9.599999999999994,9.599999999999994,9.599999999999994,9.599999999999994,9.599999999999994,9.599999999999994,9.999999999999993,9.999999999999993,9.999999999999993,9.999999999999993],\"type\":\"scatter\",\"xaxis\":\"x\",\"yaxis\":\"y2\"},{\"marker\":{\"color\":\"#D95319\"},\"name\":\"standard\",\"x\":[\"00011001\",\"00010110\",\"00100101\",\"00010101\",\"01010110\",\"01100101\",\"01011001\",\"01010101\",\"00001010\",\"00101000\",\"00100010\",\"00011000\",\"00100001\",\"00100100\",\"00001001\",\"00010010\",\"00000110\",\"01101000\",\"01001010\",\"01100010\",\"01100100\",\"01001001\",\"01100001\",\"01010010\",\"01000110\",\"01011000\",\"00110001\",\"00011100\",\"00000111\",\"00001101\"],\"y\":[0.0156,0.0132,0.0136,0.0259,0.0083,0.0084,0.0077,0.0173,0.0002,0.0007,0.0002,0.0107,0.0114,0.0086,0.011,0.0093,0.0119,0.0003,0.0,0.0002,0.0083,0.0075,0.0066,0.0071,0.007,0.0057,0.0019,0.0011,0.0013,0.0024],\"type\":\"bar\"},{\"marker\":{\"size\":15,\"symbol\":\"arrow-up\"},\"mode\":\"markers\",\"name\":\"optimal bitstring\",\"opacity\":0.9,\"x\":[\"00011001\",\"00010110\",\"00100101\"],\"y\":[-0.001,-0.001,-0.001,-0.001,-0.001,-0.001,-0.001,-0.001,-0.001,-0.001,-0.001,-0.001,-0.001,-0.001,-0.001,-0.001,-0.001,-0.001,-0.001,-0.001,-0.001,-0.001,-0.001,-0.001,-0.001,-0.001,-0.001,-0.001,-0.001,-0.001],\"type\":\"scatter\"},{\"marker\":{\"size\":10,\"symbol\":\"arrow-up\"},\"mode\":\"markers\",\"name\":\"feasible bitstring\",\"opacity\":0.7,\"x\":[\"00011001\",\"00010110\",\"00100101\",\"01010110\",\"01100101\",\"01011001\",\"00001010\",\"00101000\",\"00100010\",\"01101000\",\"01001010\",\"01100010\",\"00110001\",\"00011100\",\"00000111\",\"00001101\"],\"y\":[-0.001,-0.001,-0.001,-0.001,-0.001,-0.001,-0.001,-0.001,-0.001,-0.001,-0.001,-0.001,-0.001,-0.001,-0.001,-0.001,-0.001,-0.001,-0.001,-0.001,-0.001,-0.001,-0.001,-0.001,-0.001,-0.001,-0.001,-0.001,-0.001,-0.001],\"type\":\"scatter\"}],                        {\"template\":{\"data\":{\"histogram2dcontour\":[{\"type\":\"histogram2dcontour\",\"colorbar\":{\"outlinewidth\":0,\"ticks\":\"\"},\"colorscale\":[[0.0,\"#0d0887\"],[0.1111111111111111,\"#46039f\"],[0.2222222222222222,\"#7201a8\"],[0.3333333333333333,\"#9c179e\"],[0.4444444444444444,\"#bd3786\"],[0.5555555555555556,\"#d8576b\"],[0.6666666666666666,\"#ed7953\"],[0.7777777777777778,\"#fb9f3a\"],[0.8888888888888888,\"#fdca26\"],[1.0,\"#f0f921\"]]}],\"choropleth\":[{\"type\":\"choropleth\",\"colorbar\":{\"outlinewidth\":0,\"ticks\":\"\"}}],\"histogram2d\":[{\"type\":\"histogram2d\",\"colorbar\":{\"outlinewidth\":0,\"ticks\":\"\"},\"colorscale\":[[0.0,\"#0d0887\"],[0.1111111111111111,\"#46039f\"],[0.2222222222222222,\"#7201a8\"],[0.3333333333333333,\"#9c179e\"],[0.4444444444444444,\"#bd3786\"],[0.5555555555555556,\"#d8576b\"],[0.6666666666666666,\"#ed7953\"],[0.7777777777777778,\"#fb9f3a\"],[0.8888888888888888,\"#fdca26\"],[1.0,\"#f0f921\"]]}],\"heatmap\":[{\"type\":\"heatmap\",\"colorbar\":{\"outlinewidth\":0,\"ticks\":\"\"},\"colorscale\":[[0.0,\"#0d0887\"],[0.1111111111111111,\"#46039f\"],[0.2222222222222222,\"#7201a8\"],[0.3333333333333333,\"#9c179e\"],[0.4444444444444444,\"#bd3786\"],[0.5555555555555556,\"#d8576b\"],[0.6666666666666666,\"#ed7953\"],[0.7777777777777778,\"#fb9f3a\"],[0.8888888888888888,\"#fdca26\"],[1.0,\"#f0f921\"]]}],\"heatmapgl\":[{\"type\":\"heatmapgl\",\"colorbar\":{\"outlinewidth\":0,\"ticks\":\"\"},\"colorscale\":[[0.0,\"#0d0887\"],[0.1111111111111111,\"#46039f\"],[0.2222222222222222,\"#7201a8\"],[0.3333333333333333,\"#9c179e\"],[0.4444444444444444,\"#bd3786\"],[0.5555555555555556,\"#d8576b\"],[0.6666666666666666,\"#ed7953\"],[0.7777777777777778,\"#fb9f3a\"],[0.8888888888888888,\"#fdca26\"],[1.0,\"#f0f921\"]]}],\"contourcarpet\":[{\"type\":\"contourcarpet\",\"colorbar\":{\"outlinewidth\":0,\"ticks\":\"\"}}],\"contour\":[{\"type\":\"contour\",\"colorbar\":{\"outlinewidth\":0,\"ticks\":\"\"},\"colorscale\":[[0.0,\"#0d0887\"],[0.1111111111111111,\"#46039f\"],[0.2222222222222222,\"#7201a8\"],[0.3333333333333333,\"#9c179e\"],[0.4444444444444444,\"#bd3786\"],[0.5555555555555556,\"#d8576b\"],[0.6666666666666666,\"#ed7953\"],[0.7777777777777778,\"#fb9f3a\"],[0.8888888888888888,\"#fdca26\"],[1.0,\"#f0f921\"]]}],\"surface\":[{\"type\":\"surface\",\"colorbar\":{\"outlinewidth\":0,\"ticks\":\"\"},\"colorscale\":[[0.0,\"#0d0887\"],[0.1111111111111111,\"#46039f\"],[0.2222222222222222,\"#7201a8\"],[0.3333333333333333,\"#9c179e\"],[0.4444444444444444,\"#bd3786\"],[0.5555555555555556,\"#d8576b\"],[0.6666666666666666,\"#ed7953\"],[0.7777777777777778,\"#fb9f3a\"],[0.8888888888888888,\"#fdca26\"],[1.0,\"#f0f921\"]]}],\"mesh3d\":[{\"type\":\"mesh3d\",\"colorbar\":{\"outlinewidth\":0,\"ticks\":\"\"}}],\"scatter\":[{\"fillpattern\":{\"fillmode\":\"overlay\",\"size\":10,\"solidity\":0.2},\"type\":\"scatter\"}],\"parcoords\":[{\"type\":\"parcoords\",\"line\":{\"colorbar\":{\"outlinewidth\":0,\"ticks\":\"\"}}}],\"scatterpolargl\":[{\"type\":\"scatterpolargl\",\"marker\":{\"colorbar\":{\"outlinewidth\":0,\"ticks\":\"\"}}}],\"bar\":[{\"error_x\":{\"color\":\"#2a3f5f\"},\"error_y\":{\"color\":\"#2a3f5f\"},\"marker\":{\"line\":{\"color\":\"#E5ECF6\",\"width\":0.5},\"pattern\":{\"fillmode\":\"overlay\",\"size\":10,\"solidity\":0.2}},\"type\":\"bar\"}],\"scattergeo\":[{\"type\":\"scattergeo\",\"marker\":{\"colorbar\":{\"outlinewidth\":0,\"ticks\":\"\"}}}],\"scatterpolar\":[{\"type\":\"scatterpolar\",\"marker\":{\"colorbar\":{\"outlinewidth\":0,\"ticks\":\"\"}}}],\"histogram\":[{\"marker\":{\"pattern\":{\"fillmode\":\"overlay\",\"size\":10,\"solidity\":0.2}},\"type\":\"histogram\"}],\"scattergl\":[{\"type\":\"scattergl\",\"marker\":{\"colorbar\":{\"outlinewidth\":0,\"ticks\":\"\"}}}],\"scatter3d\":[{\"type\":\"scatter3d\",\"line\":{\"colorbar\":{\"outlinewidth\":0,\"ticks\":\"\"}},\"marker\":{\"colorbar\":{\"outlinewidth\":0,\"ticks\":\"\"}}}],\"scattermapbox\":[{\"type\":\"scattermapbox\",\"marker\":{\"colorbar\":{\"outlinewidth\":0,\"ticks\":\"\"}}}],\"scatterternary\":[{\"type\":\"scatterternary\",\"marker\":{\"colorbar\":{\"outlinewidth\":0,\"ticks\":\"\"}}}],\"scattercarpet\":[{\"type\":\"scattercarpet\",\"marker\":{\"colorbar\":{\"outlinewidth\":0,\"ticks\":\"\"}}}],\"carpet\":[{\"aaxis\":{\"endlinecolor\":\"#2a3f5f\",\"gridcolor\":\"white\",\"linecolor\":\"white\",\"minorgridcolor\":\"white\",\"startlinecolor\":\"#2a3f5f\"},\"baxis\":{\"endlinecolor\":\"#2a3f5f\",\"gridcolor\":\"white\",\"linecolor\":\"white\",\"minorgridcolor\":\"white\",\"startlinecolor\":\"#2a3f5f\"},\"type\":\"carpet\"}],\"table\":[{\"cells\":{\"fill\":{\"color\":\"#EBF0F8\"},\"line\":{\"color\":\"white\"}},\"header\":{\"fill\":{\"color\":\"#C8D4E3\"},\"line\":{\"color\":\"white\"}},\"type\":\"table\"}],\"barpolar\":[{\"marker\":{\"line\":{\"color\":\"#E5ECF6\",\"width\":0.5},\"pattern\":{\"fillmode\":\"overlay\",\"size\":10,\"solidity\":0.2}},\"type\":\"barpolar\"}],\"pie\":[{\"automargin\":true,\"type\":\"pie\"}]},\"layout\":{\"autotypenumbers\":\"strict\",\"colorway\":[\"#636efa\",\"#EF553B\",\"#00cc96\",\"#ab63fa\",\"#FFA15A\",\"#19d3f3\",\"#FF6692\",\"#B6E880\",\"#FF97FF\",\"#FECB52\"],\"font\":{\"color\":\"#2a3f5f\"},\"hovermode\":\"closest\",\"hoverlabel\":{\"align\":\"left\"},\"paper_bgcolor\":\"white\",\"plot_bgcolor\":\"#E5ECF6\",\"polar\":{\"bgcolor\":\"#E5ECF6\",\"angularaxis\":{\"gridcolor\":\"white\",\"linecolor\":\"white\",\"ticks\":\"\"},\"radialaxis\":{\"gridcolor\":\"white\",\"linecolor\":\"white\",\"ticks\":\"\"}},\"ternary\":{\"bgcolor\":\"#E5ECF6\",\"aaxis\":{\"gridcolor\":\"white\",\"linecolor\":\"white\",\"ticks\":\"\"},\"baxis\":{\"gridcolor\":\"white\",\"linecolor\":\"white\",\"ticks\":\"\"},\"caxis\":{\"gridcolor\":\"white\",\"linecolor\":\"white\",\"ticks\":\"\"}},\"coloraxis\":{\"colorbar\":{\"outlinewidth\":0,\"ticks\":\"\"}},\"colorscale\":{\"sequential\":[[0.0,\"#0d0887\"],[0.1111111111111111,\"#46039f\"],[0.2222222222222222,\"#7201a8\"],[0.3333333333333333,\"#9c179e\"],[0.4444444444444444,\"#bd3786\"],[0.5555555555555556,\"#d8576b\"],[0.6666666666666666,\"#ed7953\"],[0.7777777777777778,\"#fb9f3a\"],[0.8888888888888888,\"#fdca26\"],[1.0,\"#f0f921\"]],\"sequentialminus\":[[0.0,\"#0d0887\"],[0.1111111111111111,\"#46039f\"],[0.2222222222222222,\"#7201a8\"],[0.3333333333333333,\"#9c179e\"],[0.4444444444444444,\"#bd3786\"],[0.5555555555555556,\"#d8576b\"],[0.6666666666666666,\"#ed7953\"],[0.7777777777777778,\"#fb9f3a\"],[0.8888888888888888,\"#fdca26\"],[1.0,\"#f0f921\"]],\"diverging\":[[0,\"#8e0152\"],[0.1,\"#c51b7d\"],[0.2,\"#de77ae\"],[0.3,\"#f1b6da\"],[0.4,\"#fde0ef\"],[0.5,\"#f7f7f7\"],[0.6,\"#e6f5d0\"],[0.7,\"#b8e186\"],[0.8,\"#7fbc41\"],[0.9,\"#4d9221\"],[1,\"#276419\"]]},\"xaxis\":{\"gridcolor\":\"white\",\"linecolor\":\"white\",\"ticks\":\"\",\"title\":{\"standoff\":15},\"zerolinecolor\":\"white\",\"automargin\":true,\"zerolinewidth\":2},\"yaxis\":{\"gridcolor\":\"white\",\"linecolor\":\"white\",\"ticks\":\"\",\"title\":{\"standoff\":15},\"zerolinecolor\":\"white\",\"automargin\":true,\"zerolinewidth\":2},\"scene\":{\"xaxis\":{\"backgroundcolor\":\"#E5ECF6\",\"gridcolor\":\"white\",\"linecolor\":\"white\",\"showbackground\":true,\"ticks\":\"\",\"zerolinecolor\":\"white\",\"gridwidth\":2},\"yaxis\":{\"backgroundcolor\":\"#E5ECF6\",\"gridcolor\":\"white\",\"linecolor\":\"white\",\"showbackground\":true,\"ticks\":\"\",\"zerolinecolor\":\"white\",\"gridwidth\":2},\"zaxis\":{\"backgroundcolor\":\"#E5ECF6\",\"gridcolor\":\"white\",\"linecolor\":\"white\",\"showbackground\":true,\"ticks\":\"\",\"zerolinecolor\":\"white\",\"gridwidth\":2}},\"shapedefaults\":{\"line\":{\"color\":\"#2a3f5f\"}},\"annotationdefaults\":{\"arrowcolor\":\"#2a3f5f\",\"arrowhead\":0,\"arrowwidth\":1},\"geo\":{\"bgcolor\":\"white\",\"landcolor\":\"#E5ECF6\",\"subunitcolor\":\"white\",\"showland\":true,\"showlakes\":true,\"lakecolor\":\"white\"},\"title\":{\"x\":0.05},\"mapbox\":{\"style\":\"light\"}}},\"xaxis\":{\"anchor\":\"y\",\"domain\":[0.0,0.94],\"title\":{\"text\":\"$x$\"}},\"yaxis\":{\"anchor\":\"x\",\"domain\":[0.0,1.0],\"title\":{\"text\":\"probability\"}},\"yaxis2\":{\"anchor\":\"x\",\"overlaying\":\"y\",\"side\":\"right\",\"title\":{\"text\":\"probability\"}},\"title\":{\"text\":\"Best 50 bit strings w.r.t. to cost function (sorted by cost, increasing from left to right)\"}},                        {\"responsive\": true}                    ).then(function(){\n",
       "                            \n",
       "var gd = document.getElementById('66312227-f11f-49cb-ae2b-5219f879e9a5');\n",
       "var x = new MutationObserver(function (mutations, observer) {{\n",
       "        var display = window.getComputedStyle(gd).display;\n",
       "        if (!display || display === 'none') {{\n",
       "            console.log([gd, 'removed!']);\n",
       "            Plotly.purge(gd);\n",
       "            observer.disconnect();\n",
       "        }}\n",
       "}});\n",
       "\n",
       "// Listen for the removal of the full notebook cells\n",
       "var notebookContainer = gd.closest('#notebook-container');\n",
       "if (notebookContainer) {{\n",
       "    x.observe(notebookContainer, {childList: true});\n",
       "}}\n",
       "\n",
       "// Listen for the clearing of the current output cell\n",
       "var outputEl = gd.closest('.output');\n",
       "if (outputEl) {{\n",
       "    x.observe(outputEl, {childList: true});\n",
       "}}\n",
       "\n",
       "                        })                };                });            </script>        </div>"
      ]
     },
     "metadata": {},
     "output_type": "display_data"
    }
   ],
   "source": [
    "fig.add_trace(go.Bar(\n",
    "    x=df_plot[\"bit_string\"],\n",
    "    y=df_plot[\"probability\"],\n",
    "    name=\"standard\",\n",
    "    marker_color=RED\n",
    "    \n",
    "))\n",
    "#fig.add_trace(go.Bar(\n",
    "#    x=df_plot[\"bit_string\"],\n",
    " #   y=df_plot[\"probability_cvar\"],\n",
    "#    name=\"cvar\"\n",
    "#))\n",
    "fig.add_trace(go.Scatter(\n",
    "    x=df_plot[\"bit_string\"][df_plot[\"is_optimal\"]==True],\n",
    "    y=[-0.001]*(len(df_plot[\"is_optimal\"]==True)),\n",
    "    mode=\"markers\",\n",
    "    marker_symbol=\"arrow-up\",\n",
    "    marker_size=15,\n",
    "    name=\"optimal bitstring\",\n",
    "    opacity=0.9\n",
    "))\n",
    "fig.add_trace(go.Scatter(\n",
    "    x=df_plot[\"bit_string\"][df_plot[\"is_feasible\"]==True],\n",
    "    y=[-0.001]*(len(df_plot[\"is_feasible\"]==True)),\n",
    "    mode=\"markers\",\n",
    "    marker_symbol=\"arrow-up\",\n",
    "    marker_size=10,\n",
    "    name=\"feasible bitstring\",\n",
    "    opacity=0.7\n",
    "))\n",
    "fig.update_xaxes(\n",
    "    title=r'$x$')\n",
    "fig.update_yaxes(\n",
    "    title=\"probability\")\n",
    "fig.update_layout(\n",
    "    title=\"Best 50 bit strings w.r.t. to cost function (sorted by cost, increasing from left to right)\",\n",
    "    title_font_size=13\n",
    ")\n",
    "\n",
    "fig.show()\n",
    "fig.write_image(\"qaoa_cvar.pdf\")"
   ]
  },
  {
   "cell_type": "code",
   "execution_count": 42,
   "id": "e3708f36",
   "metadata": {},
   "outputs": [
    {
     "data": {
      "application/vnd.plotly.v1+json": {
       "config": {
        "plotlyServerURL": "https://plot.ly"
       },
       "data": [
        {
         "name": "standard",
         "type": "bar",
         "x": [
          "00011001",
          "00010110",
          "00100101",
          "00010101",
          "01010110",
          "01100101",
          "01011001",
          "01010101",
          "00001010",
          "00101000",
          "00100010",
          "00011000",
          "00100001",
          "00100100",
          "00001001",
          "00010010",
          "00000110",
          "01101000",
          "01001010",
          "01100010",
          "01100100",
          "01001001",
          "01100001",
          "01010010",
          "01000110",
          "01011000",
          "00110001",
          "00011100",
          "00000111",
          "00001101"
         ],
         "y": [
          0.0156,
          0.0132,
          0.0136,
          0.0259,
          0.0083,
          0.0084,
          0.0077,
          0.0173,
          0.0002,
          0.0007,
          0.0002,
          0.0107,
          0.0114,
          0.0086,
          0.011,
          0.0093,
          0.0119,
          0.0003,
          0,
          0.0002,
          0.0083,
          0.0075,
          0.0066,
          0.0071,
          0.007,
          0.0057,
          0.0019,
          0.0011,
          0.0013,
          0.0024
         ]
        },
        {
         "name": "cvar",
         "type": "bar",
         "x": [
          "00011001",
          "00010110",
          "00100101",
          "00010101",
          "01010110",
          "01100101",
          "01011001",
          "01010101",
          "00001010",
          "00101000",
          "00100010",
          "00011000",
          "00100001",
          "00100100",
          "00001001",
          "00010010",
          "00000110",
          "01101000",
          "01001010",
          "01100010",
          "01100100",
          "01001001",
          "01100001",
          "01010010",
          "01000110",
          "01011000",
          "00110001",
          "00011100",
          "00000111",
          "00001101"
         ],
         "y": [
          0.0321,
          0.0344,
          0.0343,
          0.0189,
          0.0066,
          0.0066,
          0.0049,
          0.0038,
          0.0083,
          0.0086,
          0.0105,
          0.001,
          0.0017,
          0.0016,
          0.0014,
          0.0022,
          0.0013,
          0.0019,
          0.0012,
          0.0022,
          0.0001,
          0.0003,
          0.0001,
          0.0002,
          0.0002,
          0.0002,
          0.0057,
          0.0067,
          0.0062,
          0.007
         ]
        },
        {
         "line": {
          "color": "black",
          "width": 2
         },
         "mode": "lines+markers",
         "name": "cost",
         "type": "scatter",
         "x": [
          "00011001",
          "00010110",
          "00100101",
          "00010101",
          "01010110",
          "01100101",
          "01011001",
          "01010101",
          "00001010",
          "00101000",
          "00100010",
          "00011000",
          "00100001",
          "00100100",
          "00001001",
          "00010010",
          "00000110",
          "01101000",
          "01001010",
          "01100010",
          "01100100",
          "01001001",
          "01100001",
          "01010010",
          "01000110",
          "01011000",
          "00110001",
          "00011100",
          "00000111",
          "00001101"
         ],
         "xaxis": "x",
         "y": [
          6,
          6,
          6,
          6.599999999999994,
          6.999999999999993,
          6.999999999999993,
          6.999999999999993,
          7.599999999999994,
          7.999999999999993,
          7.999999999999993,
          7.999999999999993,
          8.599999999999994,
          8.599999999999994,
          8.599999999999994,
          8.599999999999994,
          8.599999999999994,
          8.599999999999994,
          8.999999999999993,
          8.999999999999993,
          8.999999999999993,
          9.599999999999994,
          9.599999999999994,
          9.599999999999994,
          9.599999999999994,
          9.599999999999994,
          9.599999999999994,
          9.999999999999993,
          9.999999999999993,
          9.999999999999993,
          9.999999999999993
         ],
         "yaxis": "y2"
        }
       ],
       "layout": {
        "template": {
         "data": {
          "bar": [
           {
            "error_x": {
             "color": "#2a3f5f"
            },
            "error_y": {
             "color": "#2a3f5f"
            },
            "marker": {
             "line": {
              "color": "#E5ECF6",
              "width": 0.5
             },
             "pattern": {
              "fillmode": "overlay",
              "size": 10,
              "solidity": 0.2
             }
            },
            "type": "bar"
           }
          ],
          "barpolar": [
           {
            "marker": {
             "line": {
              "color": "#E5ECF6",
              "width": 0.5
             },
             "pattern": {
              "fillmode": "overlay",
              "size": 10,
              "solidity": 0.2
             }
            },
            "type": "barpolar"
           }
          ],
          "carpet": [
           {
            "aaxis": {
             "endlinecolor": "#2a3f5f",
             "gridcolor": "white",
             "linecolor": "white",
             "minorgridcolor": "white",
             "startlinecolor": "#2a3f5f"
            },
            "baxis": {
             "endlinecolor": "#2a3f5f",
             "gridcolor": "white",
             "linecolor": "white",
             "minorgridcolor": "white",
             "startlinecolor": "#2a3f5f"
            },
            "type": "carpet"
           }
          ],
          "choropleth": [
           {
            "colorbar": {
             "outlinewidth": 0,
             "ticks": ""
            },
            "type": "choropleth"
           }
          ],
          "contour": [
           {
            "colorbar": {
             "outlinewidth": 0,
             "ticks": ""
            },
            "colorscale": [
             [
              0,
              "#0d0887"
             ],
             [
              0.1111111111111111,
              "#46039f"
             ],
             [
              0.2222222222222222,
              "#7201a8"
             ],
             [
              0.3333333333333333,
              "#9c179e"
             ],
             [
              0.4444444444444444,
              "#bd3786"
             ],
             [
              0.5555555555555556,
              "#d8576b"
             ],
             [
              0.6666666666666666,
              "#ed7953"
             ],
             [
              0.7777777777777778,
              "#fb9f3a"
             ],
             [
              0.8888888888888888,
              "#fdca26"
             ],
             [
              1,
              "#f0f921"
             ]
            ],
            "type": "contour"
           }
          ],
          "contourcarpet": [
           {
            "colorbar": {
             "outlinewidth": 0,
             "ticks": ""
            },
            "type": "contourcarpet"
           }
          ],
          "heatmap": [
           {
            "colorbar": {
             "outlinewidth": 0,
             "ticks": ""
            },
            "colorscale": [
             [
              0,
              "#0d0887"
             ],
             [
              0.1111111111111111,
              "#46039f"
             ],
             [
              0.2222222222222222,
              "#7201a8"
             ],
             [
              0.3333333333333333,
              "#9c179e"
             ],
             [
              0.4444444444444444,
              "#bd3786"
             ],
             [
              0.5555555555555556,
              "#d8576b"
             ],
             [
              0.6666666666666666,
              "#ed7953"
             ],
             [
              0.7777777777777778,
              "#fb9f3a"
             ],
             [
              0.8888888888888888,
              "#fdca26"
             ],
             [
              1,
              "#f0f921"
             ]
            ],
            "type": "heatmap"
           }
          ],
          "heatmapgl": [
           {
            "colorbar": {
             "outlinewidth": 0,
             "ticks": ""
            },
            "colorscale": [
             [
              0,
              "#0d0887"
             ],
             [
              0.1111111111111111,
              "#46039f"
             ],
             [
              0.2222222222222222,
              "#7201a8"
             ],
             [
              0.3333333333333333,
              "#9c179e"
             ],
             [
              0.4444444444444444,
              "#bd3786"
             ],
             [
              0.5555555555555556,
              "#d8576b"
             ],
             [
              0.6666666666666666,
              "#ed7953"
             ],
             [
              0.7777777777777778,
              "#fb9f3a"
             ],
             [
              0.8888888888888888,
              "#fdca26"
             ],
             [
              1,
              "#f0f921"
             ]
            ],
            "type": "heatmapgl"
           }
          ],
          "histogram": [
           {
            "marker": {
             "pattern": {
              "fillmode": "overlay",
              "size": 10,
              "solidity": 0.2
             }
            },
            "type": "histogram"
           }
          ],
          "histogram2d": [
           {
            "colorbar": {
             "outlinewidth": 0,
             "ticks": ""
            },
            "colorscale": [
             [
              0,
              "#0d0887"
             ],
             [
              0.1111111111111111,
              "#46039f"
             ],
             [
              0.2222222222222222,
              "#7201a8"
             ],
             [
              0.3333333333333333,
              "#9c179e"
             ],
             [
              0.4444444444444444,
              "#bd3786"
             ],
             [
              0.5555555555555556,
              "#d8576b"
             ],
             [
              0.6666666666666666,
              "#ed7953"
             ],
             [
              0.7777777777777778,
              "#fb9f3a"
             ],
             [
              0.8888888888888888,
              "#fdca26"
             ],
             [
              1,
              "#f0f921"
             ]
            ],
            "type": "histogram2d"
           }
          ],
          "histogram2dcontour": [
           {
            "colorbar": {
             "outlinewidth": 0,
             "ticks": ""
            },
            "colorscale": [
             [
              0,
              "#0d0887"
             ],
             [
              0.1111111111111111,
              "#46039f"
             ],
             [
              0.2222222222222222,
              "#7201a8"
             ],
             [
              0.3333333333333333,
              "#9c179e"
             ],
             [
              0.4444444444444444,
              "#bd3786"
             ],
             [
              0.5555555555555556,
              "#d8576b"
             ],
             [
              0.6666666666666666,
              "#ed7953"
             ],
             [
              0.7777777777777778,
              "#fb9f3a"
             ],
             [
              0.8888888888888888,
              "#fdca26"
             ],
             [
              1,
              "#f0f921"
             ]
            ],
            "type": "histogram2dcontour"
           }
          ],
          "mesh3d": [
           {
            "colorbar": {
             "outlinewidth": 0,
             "ticks": ""
            },
            "type": "mesh3d"
           }
          ],
          "parcoords": [
           {
            "line": {
             "colorbar": {
              "outlinewidth": 0,
              "ticks": ""
             }
            },
            "type": "parcoords"
           }
          ],
          "pie": [
           {
            "automargin": true,
            "type": "pie"
           }
          ],
          "scatter": [
           {
            "fillpattern": {
             "fillmode": "overlay",
             "size": 10,
             "solidity": 0.2
            },
            "type": "scatter"
           }
          ],
          "scatter3d": [
           {
            "line": {
             "colorbar": {
              "outlinewidth": 0,
              "ticks": ""
             }
            },
            "marker": {
             "colorbar": {
              "outlinewidth": 0,
              "ticks": ""
             }
            },
            "type": "scatter3d"
           }
          ],
          "scattercarpet": [
           {
            "marker": {
             "colorbar": {
              "outlinewidth": 0,
              "ticks": ""
             }
            },
            "type": "scattercarpet"
           }
          ],
          "scattergeo": [
           {
            "marker": {
             "colorbar": {
              "outlinewidth": 0,
              "ticks": ""
             }
            },
            "type": "scattergeo"
           }
          ],
          "scattergl": [
           {
            "marker": {
             "colorbar": {
              "outlinewidth": 0,
              "ticks": ""
             }
            },
            "type": "scattergl"
           }
          ],
          "scattermapbox": [
           {
            "marker": {
             "colorbar": {
              "outlinewidth": 0,
              "ticks": ""
             }
            },
            "type": "scattermapbox"
           }
          ],
          "scatterpolar": [
           {
            "marker": {
             "colorbar": {
              "outlinewidth": 0,
              "ticks": ""
             }
            },
            "type": "scatterpolar"
           }
          ],
          "scatterpolargl": [
           {
            "marker": {
             "colorbar": {
              "outlinewidth": 0,
              "ticks": ""
             }
            },
            "type": "scatterpolargl"
           }
          ],
          "scatterternary": [
           {
            "marker": {
             "colorbar": {
              "outlinewidth": 0,
              "ticks": ""
             }
            },
            "type": "scatterternary"
           }
          ],
          "surface": [
           {
            "colorbar": {
             "outlinewidth": 0,
             "ticks": ""
            },
            "colorscale": [
             [
              0,
              "#0d0887"
             ],
             [
              0.1111111111111111,
              "#46039f"
             ],
             [
              0.2222222222222222,
              "#7201a8"
             ],
             [
              0.3333333333333333,
              "#9c179e"
             ],
             [
              0.4444444444444444,
              "#bd3786"
             ],
             [
              0.5555555555555556,
              "#d8576b"
             ],
             [
              0.6666666666666666,
              "#ed7953"
             ],
             [
              0.7777777777777778,
              "#fb9f3a"
             ],
             [
              0.8888888888888888,
              "#fdca26"
             ],
             [
              1,
              "#f0f921"
             ]
            ],
            "type": "surface"
           }
          ],
          "table": [
           {
            "cells": {
             "fill": {
              "color": "#EBF0F8"
             },
             "line": {
              "color": "white"
             }
            },
            "header": {
             "fill": {
              "color": "#C8D4E3"
             },
             "line": {
              "color": "white"
             }
            },
            "type": "table"
           }
          ]
         },
         "layout": {
          "annotationdefaults": {
           "arrowcolor": "#2a3f5f",
           "arrowhead": 0,
           "arrowwidth": 1
          },
          "autotypenumbers": "strict",
          "coloraxis": {
           "colorbar": {
            "outlinewidth": 0,
            "ticks": ""
           }
          },
          "colorscale": {
           "diverging": [
            [
             0,
             "#8e0152"
            ],
            [
             0.1,
             "#c51b7d"
            ],
            [
             0.2,
             "#de77ae"
            ],
            [
             0.3,
             "#f1b6da"
            ],
            [
             0.4,
             "#fde0ef"
            ],
            [
             0.5,
             "#f7f7f7"
            ],
            [
             0.6,
             "#e6f5d0"
            ],
            [
             0.7,
             "#b8e186"
            ],
            [
             0.8,
             "#7fbc41"
            ],
            [
             0.9,
             "#4d9221"
            ],
            [
             1,
             "#276419"
            ]
           ],
           "sequential": [
            [
             0,
             "#0d0887"
            ],
            [
             0.1111111111111111,
             "#46039f"
            ],
            [
             0.2222222222222222,
             "#7201a8"
            ],
            [
             0.3333333333333333,
             "#9c179e"
            ],
            [
             0.4444444444444444,
             "#bd3786"
            ],
            [
             0.5555555555555556,
             "#d8576b"
            ],
            [
             0.6666666666666666,
             "#ed7953"
            ],
            [
             0.7777777777777778,
             "#fb9f3a"
            ],
            [
             0.8888888888888888,
             "#fdca26"
            ],
            [
             1,
             "#f0f921"
            ]
           ],
           "sequentialminus": [
            [
             0,
             "#0d0887"
            ],
            [
             0.1111111111111111,
             "#46039f"
            ],
            [
             0.2222222222222222,
             "#7201a8"
            ],
            [
             0.3333333333333333,
             "#9c179e"
            ],
            [
             0.4444444444444444,
             "#bd3786"
            ],
            [
             0.5555555555555556,
             "#d8576b"
            ],
            [
             0.6666666666666666,
             "#ed7953"
            ],
            [
             0.7777777777777778,
             "#fb9f3a"
            ],
            [
             0.8888888888888888,
             "#fdca26"
            ],
            [
             1,
             "#f0f921"
            ]
           ]
          },
          "colorway": [
           "#636efa",
           "#EF553B",
           "#00cc96",
           "#ab63fa",
           "#FFA15A",
           "#19d3f3",
           "#FF6692",
           "#B6E880",
           "#FF97FF",
           "#FECB52"
          ],
          "font": {
           "color": "#2a3f5f"
          },
          "geo": {
           "bgcolor": "white",
           "lakecolor": "white",
           "landcolor": "#E5ECF6",
           "showlakes": true,
           "showland": true,
           "subunitcolor": "white"
          },
          "hoverlabel": {
           "align": "left"
          },
          "hovermode": "closest",
          "mapbox": {
           "style": "light"
          },
          "paper_bgcolor": "white",
          "plot_bgcolor": "#E5ECF6",
          "polar": {
           "angularaxis": {
            "gridcolor": "white",
            "linecolor": "white",
            "ticks": ""
           },
           "bgcolor": "#E5ECF6",
           "radialaxis": {
            "gridcolor": "white",
            "linecolor": "white",
            "ticks": ""
           }
          },
          "scene": {
           "xaxis": {
            "backgroundcolor": "#E5ECF6",
            "gridcolor": "white",
            "gridwidth": 2,
            "linecolor": "white",
            "showbackground": true,
            "ticks": "",
            "zerolinecolor": "white"
           },
           "yaxis": {
            "backgroundcolor": "#E5ECF6",
            "gridcolor": "white",
            "gridwidth": 2,
            "linecolor": "white",
            "showbackground": true,
            "ticks": "",
            "zerolinecolor": "white"
           },
           "zaxis": {
            "backgroundcolor": "#E5ECF6",
            "gridcolor": "white",
            "gridwidth": 2,
            "linecolor": "white",
            "showbackground": true,
            "ticks": "",
            "zerolinecolor": "white"
           }
          },
          "shapedefaults": {
           "line": {
            "color": "#2a3f5f"
           }
          },
          "ternary": {
           "aaxis": {
            "gridcolor": "white",
            "linecolor": "white",
            "ticks": ""
           },
           "baxis": {
            "gridcolor": "white",
            "linecolor": "white",
            "ticks": ""
           },
           "bgcolor": "#E5ECF6",
           "caxis": {
            "gridcolor": "white",
            "linecolor": "white",
            "ticks": ""
           }
          },
          "title": {
           "x": 0.05
          },
          "xaxis": {
           "automargin": true,
           "gridcolor": "white",
           "linecolor": "white",
           "ticks": "",
           "title": {
            "standoff": 15
           },
           "zerolinecolor": "white",
           "zerolinewidth": 2
          },
          "yaxis": {
           "automargin": true,
           "gridcolor": "white",
           "linecolor": "white",
           "ticks": "",
           "title": {
            "standoff": 15
           },
           "zerolinecolor": "white",
           "zerolinewidth": 2
          }
         }
        },
        "title": {
         "font": {
          "size": 13
         },
         "text": "Best 50 bit strings w.r.t. to cost function"
        },
        "xaxis": {
         "anchor": "y",
         "domain": [
          0,
          0.94
         ],
         "title": {
          "text": "bit string"
         }
        },
        "yaxis": {
         "anchor": "x",
         "domain": [
          0,
          1
         ],
         "title": {
          "text": "probability"
         }
        },
        "yaxis2": {
         "anchor": "x",
         "overlaying": "y",
         "side": "right",
         "title": {
          "text": "cost"
         }
        }
       }
      },
      "text/html": [
       "<div>                            <div id=\"8f3054ee-0a9e-411e-bf35-6e49985c675b\" class=\"plotly-graph-div\" style=\"height:525px; width:100%;\"></div>            <script type=\"text/javascript\">                require([\"plotly\"], function(Plotly) {                    window.PLOTLYENV=window.PLOTLYENV || {};                                    if (document.getElementById(\"8f3054ee-0a9e-411e-bf35-6e49985c675b\")) {                    Plotly.newPlot(                        \"8f3054ee-0a9e-411e-bf35-6e49985c675b\",                        [{\"name\":\"standard\",\"x\":[\"00011001\",\"00010110\",\"00100101\",\"00010101\",\"01010110\",\"01100101\",\"01011001\",\"01010101\",\"00001010\",\"00101000\",\"00100010\",\"00011000\",\"00100001\",\"00100100\",\"00001001\",\"00010010\",\"00000110\",\"01101000\",\"01001010\",\"01100010\",\"01100100\",\"01001001\",\"01100001\",\"01010010\",\"01000110\",\"01011000\",\"00110001\",\"00011100\",\"00000111\",\"00001101\"],\"y\":[0.0156,0.0132,0.0136,0.0259,0.0083,0.0084,0.0077,0.0173,0.0002,0.0007,0.0002,0.0107,0.0114,0.0086,0.011,0.0093,0.0119,0.0003,0.0,0.0002,0.0083,0.0075,0.0066,0.0071,0.007,0.0057,0.0019,0.0011,0.0013,0.0024],\"type\":\"bar\"},{\"name\":\"cvar\",\"x\":[\"00011001\",\"00010110\",\"00100101\",\"00010101\",\"01010110\",\"01100101\",\"01011001\",\"01010101\",\"00001010\",\"00101000\",\"00100010\",\"00011000\",\"00100001\",\"00100100\",\"00001001\",\"00010010\",\"00000110\",\"01101000\",\"01001010\",\"01100010\",\"01100100\",\"01001001\",\"01100001\",\"01010010\",\"01000110\",\"01011000\",\"00110001\",\"00011100\",\"00000111\",\"00001101\"],\"y\":[0.0321,0.0344,0.0343,0.0189,0.0066,0.0066,0.0049,0.0038,0.0083,0.0086,0.0105,0.001,0.0017,0.0016,0.0014,0.0022,0.0013,0.0019,0.0012,0.0022,0.0001,0.0003,0.0001,0.0002,0.0002,0.0002,0.0057,0.0067,0.0062,0.007],\"type\":\"bar\"},{\"line\":{\"color\":\"black\",\"width\":2},\"mode\":\"lines+markers\",\"name\":\"cost\",\"x\":[\"00011001\",\"00010110\",\"00100101\",\"00010101\",\"01010110\",\"01100101\",\"01011001\",\"01010101\",\"00001010\",\"00101000\",\"00100010\",\"00011000\",\"00100001\",\"00100100\",\"00001001\",\"00010010\",\"00000110\",\"01101000\",\"01001010\",\"01100010\",\"01100100\",\"01001001\",\"01100001\",\"01010010\",\"01000110\",\"01011000\",\"00110001\",\"00011100\",\"00000111\",\"00001101\"],\"y\":[6.0,6.0,6.0,6.599999999999994,6.999999999999993,6.999999999999993,6.999999999999993,7.599999999999994,7.999999999999993,7.999999999999993,7.999999999999993,8.599999999999994,8.599999999999994,8.599999999999994,8.599999999999994,8.599999999999994,8.599999999999994,8.999999999999993,8.999999999999993,8.999999999999993,9.599999999999994,9.599999999999994,9.599999999999994,9.599999999999994,9.599999999999994,9.599999999999994,9.999999999999993,9.999999999999993,9.999999999999993,9.999999999999993],\"type\":\"scatter\",\"xaxis\":\"x\",\"yaxis\":\"y2\"}],                        {\"template\":{\"data\":{\"histogram2dcontour\":[{\"type\":\"histogram2dcontour\",\"colorbar\":{\"outlinewidth\":0,\"ticks\":\"\"},\"colorscale\":[[0.0,\"#0d0887\"],[0.1111111111111111,\"#46039f\"],[0.2222222222222222,\"#7201a8\"],[0.3333333333333333,\"#9c179e\"],[0.4444444444444444,\"#bd3786\"],[0.5555555555555556,\"#d8576b\"],[0.6666666666666666,\"#ed7953\"],[0.7777777777777778,\"#fb9f3a\"],[0.8888888888888888,\"#fdca26\"],[1.0,\"#f0f921\"]]}],\"choropleth\":[{\"type\":\"choropleth\",\"colorbar\":{\"outlinewidth\":0,\"ticks\":\"\"}}],\"histogram2d\":[{\"type\":\"histogram2d\",\"colorbar\":{\"outlinewidth\":0,\"ticks\":\"\"},\"colorscale\":[[0.0,\"#0d0887\"],[0.1111111111111111,\"#46039f\"],[0.2222222222222222,\"#7201a8\"],[0.3333333333333333,\"#9c179e\"],[0.4444444444444444,\"#bd3786\"],[0.5555555555555556,\"#d8576b\"],[0.6666666666666666,\"#ed7953\"],[0.7777777777777778,\"#fb9f3a\"],[0.8888888888888888,\"#fdca26\"],[1.0,\"#f0f921\"]]}],\"heatmap\":[{\"type\":\"heatmap\",\"colorbar\":{\"outlinewidth\":0,\"ticks\":\"\"},\"colorscale\":[[0.0,\"#0d0887\"],[0.1111111111111111,\"#46039f\"],[0.2222222222222222,\"#7201a8\"],[0.3333333333333333,\"#9c179e\"],[0.4444444444444444,\"#bd3786\"],[0.5555555555555556,\"#d8576b\"],[0.6666666666666666,\"#ed7953\"],[0.7777777777777778,\"#fb9f3a\"],[0.8888888888888888,\"#fdca26\"],[1.0,\"#f0f921\"]]}],\"heatmapgl\":[{\"type\":\"heatmapgl\",\"colorbar\":{\"outlinewidth\":0,\"ticks\":\"\"},\"colorscale\":[[0.0,\"#0d0887\"],[0.1111111111111111,\"#46039f\"],[0.2222222222222222,\"#7201a8\"],[0.3333333333333333,\"#9c179e\"],[0.4444444444444444,\"#bd3786\"],[0.5555555555555556,\"#d8576b\"],[0.6666666666666666,\"#ed7953\"],[0.7777777777777778,\"#fb9f3a\"],[0.8888888888888888,\"#fdca26\"],[1.0,\"#f0f921\"]]}],\"contourcarpet\":[{\"type\":\"contourcarpet\",\"colorbar\":{\"outlinewidth\":0,\"ticks\":\"\"}}],\"contour\":[{\"type\":\"contour\",\"colorbar\":{\"outlinewidth\":0,\"ticks\":\"\"},\"colorscale\":[[0.0,\"#0d0887\"],[0.1111111111111111,\"#46039f\"],[0.2222222222222222,\"#7201a8\"],[0.3333333333333333,\"#9c179e\"],[0.4444444444444444,\"#bd3786\"],[0.5555555555555556,\"#d8576b\"],[0.6666666666666666,\"#ed7953\"],[0.7777777777777778,\"#fb9f3a\"],[0.8888888888888888,\"#fdca26\"],[1.0,\"#f0f921\"]]}],\"surface\":[{\"type\":\"surface\",\"colorbar\":{\"outlinewidth\":0,\"ticks\":\"\"},\"colorscale\":[[0.0,\"#0d0887\"],[0.1111111111111111,\"#46039f\"],[0.2222222222222222,\"#7201a8\"],[0.3333333333333333,\"#9c179e\"],[0.4444444444444444,\"#bd3786\"],[0.5555555555555556,\"#d8576b\"],[0.6666666666666666,\"#ed7953\"],[0.7777777777777778,\"#fb9f3a\"],[0.8888888888888888,\"#fdca26\"],[1.0,\"#f0f921\"]]}],\"mesh3d\":[{\"type\":\"mesh3d\",\"colorbar\":{\"outlinewidth\":0,\"ticks\":\"\"}}],\"scatter\":[{\"fillpattern\":{\"fillmode\":\"overlay\",\"size\":10,\"solidity\":0.2},\"type\":\"scatter\"}],\"parcoords\":[{\"type\":\"parcoords\",\"line\":{\"colorbar\":{\"outlinewidth\":0,\"ticks\":\"\"}}}],\"scatterpolargl\":[{\"type\":\"scatterpolargl\",\"marker\":{\"colorbar\":{\"outlinewidth\":0,\"ticks\":\"\"}}}],\"bar\":[{\"error_x\":{\"color\":\"#2a3f5f\"},\"error_y\":{\"color\":\"#2a3f5f\"},\"marker\":{\"line\":{\"color\":\"#E5ECF6\",\"width\":0.5},\"pattern\":{\"fillmode\":\"overlay\",\"size\":10,\"solidity\":0.2}},\"type\":\"bar\"}],\"scattergeo\":[{\"type\":\"scattergeo\",\"marker\":{\"colorbar\":{\"outlinewidth\":0,\"ticks\":\"\"}}}],\"scatterpolar\":[{\"type\":\"scatterpolar\",\"marker\":{\"colorbar\":{\"outlinewidth\":0,\"ticks\":\"\"}}}],\"histogram\":[{\"marker\":{\"pattern\":{\"fillmode\":\"overlay\",\"size\":10,\"solidity\":0.2}},\"type\":\"histogram\"}],\"scattergl\":[{\"type\":\"scattergl\",\"marker\":{\"colorbar\":{\"outlinewidth\":0,\"ticks\":\"\"}}}],\"scatter3d\":[{\"type\":\"scatter3d\",\"line\":{\"colorbar\":{\"outlinewidth\":0,\"ticks\":\"\"}},\"marker\":{\"colorbar\":{\"outlinewidth\":0,\"ticks\":\"\"}}}],\"scattermapbox\":[{\"type\":\"scattermapbox\",\"marker\":{\"colorbar\":{\"outlinewidth\":0,\"ticks\":\"\"}}}],\"scatterternary\":[{\"type\":\"scatterternary\",\"marker\":{\"colorbar\":{\"outlinewidth\":0,\"ticks\":\"\"}}}],\"scattercarpet\":[{\"type\":\"scattercarpet\",\"marker\":{\"colorbar\":{\"outlinewidth\":0,\"ticks\":\"\"}}}],\"carpet\":[{\"aaxis\":{\"endlinecolor\":\"#2a3f5f\",\"gridcolor\":\"white\",\"linecolor\":\"white\",\"minorgridcolor\":\"white\",\"startlinecolor\":\"#2a3f5f\"},\"baxis\":{\"endlinecolor\":\"#2a3f5f\",\"gridcolor\":\"white\",\"linecolor\":\"white\",\"minorgridcolor\":\"white\",\"startlinecolor\":\"#2a3f5f\"},\"type\":\"carpet\"}],\"table\":[{\"cells\":{\"fill\":{\"color\":\"#EBF0F8\"},\"line\":{\"color\":\"white\"}},\"header\":{\"fill\":{\"color\":\"#C8D4E3\"},\"line\":{\"color\":\"white\"}},\"type\":\"table\"}],\"barpolar\":[{\"marker\":{\"line\":{\"color\":\"#E5ECF6\",\"width\":0.5},\"pattern\":{\"fillmode\":\"overlay\",\"size\":10,\"solidity\":0.2}},\"type\":\"barpolar\"}],\"pie\":[{\"automargin\":true,\"type\":\"pie\"}]},\"layout\":{\"autotypenumbers\":\"strict\",\"colorway\":[\"#636efa\",\"#EF553B\",\"#00cc96\",\"#ab63fa\",\"#FFA15A\",\"#19d3f3\",\"#FF6692\",\"#B6E880\",\"#FF97FF\",\"#FECB52\"],\"font\":{\"color\":\"#2a3f5f\"},\"hovermode\":\"closest\",\"hoverlabel\":{\"align\":\"left\"},\"paper_bgcolor\":\"white\",\"plot_bgcolor\":\"#E5ECF6\",\"polar\":{\"bgcolor\":\"#E5ECF6\",\"angularaxis\":{\"gridcolor\":\"white\",\"linecolor\":\"white\",\"ticks\":\"\"},\"radialaxis\":{\"gridcolor\":\"white\",\"linecolor\":\"white\",\"ticks\":\"\"}},\"ternary\":{\"bgcolor\":\"#E5ECF6\",\"aaxis\":{\"gridcolor\":\"white\",\"linecolor\":\"white\",\"ticks\":\"\"},\"baxis\":{\"gridcolor\":\"white\",\"linecolor\":\"white\",\"ticks\":\"\"},\"caxis\":{\"gridcolor\":\"white\",\"linecolor\":\"white\",\"ticks\":\"\"}},\"coloraxis\":{\"colorbar\":{\"outlinewidth\":0,\"ticks\":\"\"}},\"colorscale\":{\"sequential\":[[0.0,\"#0d0887\"],[0.1111111111111111,\"#46039f\"],[0.2222222222222222,\"#7201a8\"],[0.3333333333333333,\"#9c179e\"],[0.4444444444444444,\"#bd3786\"],[0.5555555555555556,\"#d8576b\"],[0.6666666666666666,\"#ed7953\"],[0.7777777777777778,\"#fb9f3a\"],[0.8888888888888888,\"#fdca26\"],[1.0,\"#f0f921\"]],\"sequentialminus\":[[0.0,\"#0d0887\"],[0.1111111111111111,\"#46039f\"],[0.2222222222222222,\"#7201a8\"],[0.3333333333333333,\"#9c179e\"],[0.4444444444444444,\"#bd3786\"],[0.5555555555555556,\"#d8576b\"],[0.6666666666666666,\"#ed7953\"],[0.7777777777777778,\"#fb9f3a\"],[0.8888888888888888,\"#fdca26\"],[1.0,\"#f0f921\"]],\"diverging\":[[0,\"#8e0152\"],[0.1,\"#c51b7d\"],[0.2,\"#de77ae\"],[0.3,\"#f1b6da\"],[0.4,\"#fde0ef\"],[0.5,\"#f7f7f7\"],[0.6,\"#e6f5d0\"],[0.7,\"#b8e186\"],[0.8,\"#7fbc41\"],[0.9,\"#4d9221\"],[1,\"#276419\"]]},\"xaxis\":{\"gridcolor\":\"white\",\"linecolor\":\"white\",\"ticks\":\"\",\"title\":{\"standoff\":15},\"zerolinecolor\":\"white\",\"automargin\":true,\"zerolinewidth\":2},\"yaxis\":{\"gridcolor\":\"white\",\"linecolor\":\"white\",\"ticks\":\"\",\"title\":{\"standoff\":15},\"zerolinecolor\":\"white\",\"automargin\":true,\"zerolinewidth\":2},\"scene\":{\"xaxis\":{\"backgroundcolor\":\"#E5ECF6\",\"gridcolor\":\"white\",\"linecolor\":\"white\",\"showbackground\":true,\"ticks\":\"\",\"zerolinecolor\":\"white\",\"gridwidth\":2},\"yaxis\":{\"backgroundcolor\":\"#E5ECF6\",\"gridcolor\":\"white\",\"linecolor\":\"white\",\"showbackground\":true,\"ticks\":\"\",\"zerolinecolor\":\"white\",\"gridwidth\":2},\"zaxis\":{\"backgroundcolor\":\"#E5ECF6\",\"gridcolor\":\"white\",\"linecolor\":\"white\",\"showbackground\":true,\"ticks\":\"\",\"zerolinecolor\":\"white\",\"gridwidth\":2}},\"shapedefaults\":{\"line\":{\"color\":\"#2a3f5f\"}},\"annotationdefaults\":{\"arrowcolor\":\"#2a3f5f\",\"arrowhead\":0,\"arrowwidth\":1},\"geo\":{\"bgcolor\":\"white\",\"landcolor\":\"#E5ECF6\",\"subunitcolor\":\"white\",\"showland\":true,\"showlakes\":true,\"lakecolor\":\"white\"},\"title\":{\"x\":0.05},\"mapbox\":{\"style\":\"light\"}}},\"xaxis\":{\"anchor\":\"y\",\"domain\":[0.0,0.94],\"title\":{\"text\":\"bit string\"}},\"yaxis\":{\"anchor\":\"x\",\"domain\":[0.0,1.0],\"title\":{\"text\":\"probability\"}},\"yaxis2\":{\"anchor\":\"x\",\"overlaying\":\"y\",\"side\":\"right\",\"title\":{\"text\":\"cost\"}},\"title\":{\"text\":\"Best 50 bit strings w.r.t. to cost function\",\"font\":{\"size\":13}}},                        {\"responsive\": true}                    ).then(function(){\n",
       "                            \n",
       "var gd = document.getElementById('8f3054ee-0a9e-411e-bf35-6e49985c675b');\n",
       "var x = new MutationObserver(function (mutations, observer) {{\n",
       "        var display = window.getComputedStyle(gd).display;\n",
       "        if (!display || display === 'none') {{\n",
       "            console.log([gd, 'removed!']);\n",
       "            Plotly.purge(gd);\n",
       "            observer.disconnect();\n",
       "        }}\n",
       "}});\n",
       "\n",
       "// Listen for the removal of the full notebook cells\n",
       "var notebookContainer = gd.closest('#notebook-container');\n",
       "if (notebookContainer) {{\n",
       "    x.observe(notebookContainer, {childList: true});\n",
       "}}\n",
       "\n",
       "// Listen for the clearing of the current output cell\n",
       "var outputEl = gd.closest('.output');\n",
       "if (outputEl) {{\n",
       "    x.observe(outputEl, {childList: true});\n",
       "}}\n",
       "\n",
       "                        })                };                });            </script>        </div>"
      ]
     },
     "metadata": {},
     "output_type": "display_data"
    }
   ],
   "source": [
    "from plotly.subplots import make_subplots\n",
    "\n",
    "fig = make_subplots(specs=[[{\"secondary_y\": True}]])\n",
    "\n",
    "fig.add_trace(go.Bar(\n",
    "    x=df_plot[\"bit_string\"],\n",
    "    y=df_plot[\"probability\"],\n",
    "    name=\"standard\"\n",
    "))\n",
    "fig.add_trace(go.Bar(\n",
    "    x=df_plot[\"bit_string\"],\n",
    "    y=df_plot[\"probability_cvar\"],\n",
    "    name=\"cvar\"\n",
    "))\n",
    "\n",
    "fig.add_trace(go.Scatter(\n",
    "    x=df_plot[\"bit_string\"],\n",
    "    y=df_plot[\"cost\"],\n",
    "    mode=\"lines+markers\",\n",
    "    line_color=\"black\",\n",
    "    line_width=2,\n",
    "    name=\"cost\"),\n",
    "secondary_y=True\n",
    ")\n",
    "\n",
    "fig.update_xaxes(\n",
    "    title=\"bit string\")\n",
    "fig.update_yaxes(\n",
    "    title=\"probability\")\n",
    "fig.update_yaxes(\n",
    "    title=\"cost\",\n",
    "    secondary_y=True)\n",
    "fig.update_layout(\n",
    "    title=\"Best 50 bit strings w.r.t. to cost function\",\n",
    "    title_font_size=13\n",
    ")"
   ]
  },
  {
   "cell_type": "markdown",
   "id": "6d4cc068",
   "metadata": {},
   "source": [
    "# Further Examples"
   ]
  },
  {
   "cell_type": "markdown",
   "id": "28562f5b",
   "metadata": {},
   "source": [
    "## Convergence Classical Optimizer"
   ]
  },
  {
   "cell_type": "code",
   "execution_count": 21,
   "id": "9942cb23",
   "metadata": {},
   "outputs": [],
   "source": [
    "var_parameters_list = []\n",
    "def callback(*args):\n",
    "    var_parameters_list.append(args)\n",
    "    \n",
    "var_parameters_cvar_list = []\n",
    "def callback_cvar(*args):\n",
    "    var_parameters_cvar_list.append(args)\n",
    "\n",
    "cobyla_optimizer = COBYLA(callback=callback)\n",
    "res = cobyla_optimizer.minimize(fun=energy_evaluation, x0=parameter_values_initial_guess)\n",
    "\n",
    "cobyla_optimizer = COBYLA(callback=callback_cvar)\n",
    "res_cvar = cobyla_optimizer.minimize(fun=energy_evaluation_cvar, x0=parameter_values_initial_guess)"
   ]
  },
  {
   "cell_type": "code",
   "execution_count": 22,
   "id": "4ca1dcb1",
   "metadata": {},
   "outputs": [],
   "source": [
    "expectation_values = [energy_evaluation(var_parameters[0]) for var_parameters in var_parameters_list]\n",
    "expectation_values_cvar = [energy_evaluation_cvar(var_parameters[0]) for var_parameters in var_parameters_cvar_list] "
   ]
  },
  {
   "cell_type": "code",
   "execution_count": 23,
   "id": "69bb6c94",
   "metadata": {
    "scrolled": false
   },
   "outputs": [
    {
     "data": {
      "application/vnd.plotly.v1+json": {
       "config": {
        "plotlyServerURL": "https://plot.ly"
       },
       "data": [
        {
         "name": "expectation value",
         "type": "scatter",
         "y": [
          47.79022000000002,
          23.54374000000001,
          47.58998000000001,
          20.688700000000015,
          34.27312000000001,
          35.04498000000001,
          26.955200000000012,
          28.404700000000012,
          31.453080000000014,
          24.367520000000013,
          34.627240000000015,
          27.22886000000001,
          22.286880000000007,
          23.132520000000014,
          25.308260000000015,
          23.866400000000013,
          21.547260000000012,
          19.375520000000016,
          20.127320000000015,
          19.666140000000013,
          19.811900000000023,
          18.84796000000001,
          19.416480000000018,
          19.771820000000016,
          18.896300000000014,
          18.84460000000002,
          18.870660000000015,
          19.034920000000007,
          19.160040000000013,
          18.86412000000002,
          18.770820000000015,
          19.037440000000014,
          18.895740000000014,
          19.068360000000013,
          18.901060000000008,
          18.865040000000015,
          18.96578000000001,
          18.72096000000002,
          18.72164000000001,
          18.617880000000014,
          18.65998000000001,
          18.606520000000025,
          18.767060000000008,
          18.76856000000001,
          18.71528000000001,
          18.876060000000017
         ]
        },
        {
         "name": "cvar expectation value",
         "type": "scatter",
         "y": [
          11.11650000000001,
          8.291750000000011,
          8.982000000000017,
          6.476750000000013,
          9.09800000000001,
          7.58475000000001,
          6.5730000000000075,
          7.792750000000009,
          6.129000000000008,
          6.3385000000000105,
          7.051500000000008,
          6.269250000000007,
          7.6575000000000095,
          6.015000000000011,
          6.000000000000011,
          6.000000000000011,
          6.27450000000001,
          6.000000000000011,
          6.2775000000000105,
          6.000000000000011,
          6.26700000000001,
          6.000000000000011,
          6.000000000000011,
          6.000000000000011,
          6.000000000000011,
          6.000000000000011,
          6.000000000000011,
          6.000000000000011,
          6.000000000000011,
          6.000000000000011,
          6.000000000000011,
          6.000000000000011,
          6.000000000000011,
          6.000000000000011,
          6.000000000000011
         ]
        }
       ],
       "layout": {
        "template": {
         "data": {
          "bar": [
           {
            "error_x": {
             "color": "#2a3f5f"
            },
            "error_y": {
             "color": "#2a3f5f"
            },
            "marker": {
             "line": {
              "color": "#E5ECF6",
              "width": 0.5
             },
             "pattern": {
              "fillmode": "overlay",
              "size": 10,
              "solidity": 0.2
             }
            },
            "type": "bar"
           }
          ],
          "barpolar": [
           {
            "marker": {
             "line": {
              "color": "#E5ECF6",
              "width": 0.5
             },
             "pattern": {
              "fillmode": "overlay",
              "size": 10,
              "solidity": 0.2
             }
            },
            "type": "barpolar"
           }
          ],
          "carpet": [
           {
            "aaxis": {
             "endlinecolor": "#2a3f5f",
             "gridcolor": "white",
             "linecolor": "white",
             "minorgridcolor": "white",
             "startlinecolor": "#2a3f5f"
            },
            "baxis": {
             "endlinecolor": "#2a3f5f",
             "gridcolor": "white",
             "linecolor": "white",
             "minorgridcolor": "white",
             "startlinecolor": "#2a3f5f"
            },
            "type": "carpet"
           }
          ],
          "choropleth": [
           {
            "colorbar": {
             "outlinewidth": 0,
             "ticks": ""
            },
            "type": "choropleth"
           }
          ],
          "contour": [
           {
            "colorbar": {
             "outlinewidth": 0,
             "ticks": ""
            },
            "colorscale": [
             [
              0,
              "#0d0887"
             ],
             [
              0.1111111111111111,
              "#46039f"
             ],
             [
              0.2222222222222222,
              "#7201a8"
             ],
             [
              0.3333333333333333,
              "#9c179e"
             ],
             [
              0.4444444444444444,
              "#bd3786"
             ],
             [
              0.5555555555555556,
              "#d8576b"
             ],
             [
              0.6666666666666666,
              "#ed7953"
             ],
             [
              0.7777777777777778,
              "#fb9f3a"
             ],
             [
              0.8888888888888888,
              "#fdca26"
             ],
             [
              1,
              "#f0f921"
             ]
            ],
            "type": "contour"
           }
          ],
          "contourcarpet": [
           {
            "colorbar": {
             "outlinewidth": 0,
             "ticks": ""
            },
            "type": "contourcarpet"
           }
          ],
          "heatmap": [
           {
            "colorbar": {
             "outlinewidth": 0,
             "ticks": ""
            },
            "colorscale": [
             [
              0,
              "#0d0887"
             ],
             [
              0.1111111111111111,
              "#46039f"
             ],
             [
              0.2222222222222222,
              "#7201a8"
             ],
             [
              0.3333333333333333,
              "#9c179e"
             ],
             [
              0.4444444444444444,
              "#bd3786"
             ],
             [
              0.5555555555555556,
              "#d8576b"
             ],
             [
              0.6666666666666666,
              "#ed7953"
             ],
             [
              0.7777777777777778,
              "#fb9f3a"
             ],
             [
              0.8888888888888888,
              "#fdca26"
             ],
             [
              1,
              "#f0f921"
             ]
            ],
            "type": "heatmap"
           }
          ],
          "heatmapgl": [
           {
            "colorbar": {
             "outlinewidth": 0,
             "ticks": ""
            },
            "colorscale": [
             [
              0,
              "#0d0887"
             ],
             [
              0.1111111111111111,
              "#46039f"
             ],
             [
              0.2222222222222222,
              "#7201a8"
             ],
             [
              0.3333333333333333,
              "#9c179e"
             ],
             [
              0.4444444444444444,
              "#bd3786"
             ],
             [
              0.5555555555555556,
              "#d8576b"
             ],
             [
              0.6666666666666666,
              "#ed7953"
             ],
             [
              0.7777777777777778,
              "#fb9f3a"
             ],
             [
              0.8888888888888888,
              "#fdca26"
             ],
             [
              1,
              "#f0f921"
             ]
            ],
            "type": "heatmapgl"
           }
          ],
          "histogram": [
           {
            "marker": {
             "pattern": {
              "fillmode": "overlay",
              "size": 10,
              "solidity": 0.2
             }
            },
            "type": "histogram"
           }
          ],
          "histogram2d": [
           {
            "colorbar": {
             "outlinewidth": 0,
             "ticks": ""
            },
            "colorscale": [
             [
              0,
              "#0d0887"
             ],
             [
              0.1111111111111111,
              "#46039f"
             ],
             [
              0.2222222222222222,
              "#7201a8"
             ],
             [
              0.3333333333333333,
              "#9c179e"
             ],
             [
              0.4444444444444444,
              "#bd3786"
             ],
             [
              0.5555555555555556,
              "#d8576b"
             ],
             [
              0.6666666666666666,
              "#ed7953"
             ],
             [
              0.7777777777777778,
              "#fb9f3a"
             ],
             [
              0.8888888888888888,
              "#fdca26"
             ],
             [
              1,
              "#f0f921"
             ]
            ],
            "type": "histogram2d"
           }
          ],
          "histogram2dcontour": [
           {
            "colorbar": {
             "outlinewidth": 0,
             "ticks": ""
            },
            "colorscale": [
             [
              0,
              "#0d0887"
             ],
             [
              0.1111111111111111,
              "#46039f"
             ],
             [
              0.2222222222222222,
              "#7201a8"
             ],
             [
              0.3333333333333333,
              "#9c179e"
             ],
             [
              0.4444444444444444,
              "#bd3786"
             ],
             [
              0.5555555555555556,
              "#d8576b"
             ],
             [
              0.6666666666666666,
              "#ed7953"
             ],
             [
              0.7777777777777778,
              "#fb9f3a"
             ],
             [
              0.8888888888888888,
              "#fdca26"
             ],
             [
              1,
              "#f0f921"
             ]
            ],
            "type": "histogram2dcontour"
           }
          ],
          "mesh3d": [
           {
            "colorbar": {
             "outlinewidth": 0,
             "ticks": ""
            },
            "type": "mesh3d"
           }
          ],
          "parcoords": [
           {
            "line": {
             "colorbar": {
              "outlinewidth": 0,
              "ticks": ""
             }
            },
            "type": "parcoords"
           }
          ],
          "pie": [
           {
            "automargin": true,
            "type": "pie"
           }
          ],
          "scatter": [
           {
            "fillpattern": {
             "fillmode": "overlay",
             "size": 10,
             "solidity": 0.2
            },
            "type": "scatter"
           }
          ],
          "scatter3d": [
           {
            "line": {
             "colorbar": {
              "outlinewidth": 0,
              "ticks": ""
             }
            },
            "marker": {
             "colorbar": {
              "outlinewidth": 0,
              "ticks": ""
             }
            },
            "type": "scatter3d"
           }
          ],
          "scattercarpet": [
           {
            "marker": {
             "colorbar": {
              "outlinewidth": 0,
              "ticks": ""
             }
            },
            "type": "scattercarpet"
           }
          ],
          "scattergeo": [
           {
            "marker": {
             "colorbar": {
              "outlinewidth": 0,
              "ticks": ""
             }
            },
            "type": "scattergeo"
           }
          ],
          "scattergl": [
           {
            "marker": {
             "colorbar": {
              "outlinewidth": 0,
              "ticks": ""
             }
            },
            "type": "scattergl"
           }
          ],
          "scattermapbox": [
           {
            "marker": {
             "colorbar": {
              "outlinewidth": 0,
              "ticks": ""
             }
            },
            "type": "scattermapbox"
           }
          ],
          "scatterpolar": [
           {
            "marker": {
             "colorbar": {
              "outlinewidth": 0,
              "ticks": ""
             }
            },
            "type": "scatterpolar"
           }
          ],
          "scatterpolargl": [
           {
            "marker": {
             "colorbar": {
              "outlinewidth": 0,
              "ticks": ""
             }
            },
            "type": "scatterpolargl"
           }
          ],
          "scatterternary": [
           {
            "marker": {
             "colorbar": {
              "outlinewidth": 0,
              "ticks": ""
             }
            },
            "type": "scatterternary"
           }
          ],
          "surface": [
           {
            "colorbar": {
             "outlinewidth": 0,
             "ticks": ""
            },
            "colorscale": [
             [
              0,
              "#0d0887"
             ],
             [
              0.1111111111111111,
              "#46039f"
             ],
             [
              0.2222222222222222,
              "#7201a8"
             ],
             [
              0.3333333333333333,
              "#9c179e"
             ],
             [
              0.4444444444444444,
              "#bd3786"
             ],
             [
              0.5555555555555556,
              "#d8576b"
             ],
             [
              0.6666666666666666,
              "#ed7953"
             ],
             [
              0.7777777777777778,
              "#fb9f3a"
             ],
             [
              0.8888888888888888,
              "#fdca26"
             ],
             [
              1,
              "#f0f921"
             ]
            ],
            "type": "surface"
           }
          ],
          "table": [
           {
            "cells": {
             "fill": {
              "color": "#EBF0F8"
             },
             "line": {
              "color": "white"
             }
            },
            "header": {
             "fill": {
              "color": "#C8D4E3"
             },
             "line": {
              "color": "white"
             }
            },
            "type": "table"
           }
          ]
         },
         "layout": {
          "annotationdefaults": {
           "arrowcolor": "#2a3f5f",
           "arrowhead": 0,
           "arrowwidth": 1
          },
          "autotypenumbers": "strict",
          "coloraxis": {
           "colorbar": {
            "outlinewidth": 0,
            "ticks": ""
           }
          },
          "colorscale": {
           "diverging": [
            [
             0,
             "#8e0152"
            ],
            [
             0.1,
             "#c51b7d"
            ],
            [
             0.2,
             "#de77ae"
            ],
            [
             0.3,
             "#f1b6da"
            ],
            [
             0.4,
             "#fde0ef"
            ],
            [
             0.5,
             "#f7f7f7"
            ],
            [
             0.6,
             "#e6f5d0"
            ],
            [
             0.7,
             "#b8e186"
            ],
            [
             0.8,
             "#7fbc41"
            ],
            [
             0.9,
             "#4d9221"
            ],
            [
             1,
             "#276419"
            ]
           ],
           "sequential": [
            [
             0,
             "#0d0887"
            ],
            [
             0.1111111111111111,
             "#46039f"
            ],
            [
             0.2222222222222222,
             "#7201a8"
            ],
            [
             0.3333333333333333,
             "#9c179e"
            ],
            [
             0.4444444444444444,
             "#bd3786"
            ],
            [
             0.5555555555555556,
             "#d8576b"
            ],
            [
             0.6666666666666666,
             "#ed7953"
            ],
            [
             0.7777777777777778,
             "#fb9f3a"
            ],
            [
             0.8888888888888888,
             "#fdca26"
            ],
            [
             1,
             "#f0f921"
            ]
           ],
           "sequentialminus": [
            [
             0,
             "#0d0887"
            ],
            [
             0.1111111111111111,
             "#46039f"
            ],
            [
             0.2222222222222222,
             "#7201a8"
            ],
            [
             0.3333333333333333,
             "#9c179e"
            ],
            [
             0.4444444444444444,
             "#bd3786"
            ],
            [
             0.5555555555555556,
             "#d8576b"
            ],
            [
             0.6666666666666666,
             "#ed7953"
            ],
            [
             0.7777777777777778,
             "#fb9f3a"
            ],
            [
             0.8888888888888888,
             "#fdca26"
            ],
            [
             1,
             "#f0f921"
            ]
           ]
          },
          "colorway": [
           "#636efa",
           "#EF553B",
           "#00cc96",
           "#ab63fa",
           "#FFA15A",
           "#19d3f3",
           "#FF6692",
           "#B6E880",
           "#FF97FF",
           "#FECB52"
          ],
          "font": {
           "color": "#2a3f5f"
          },
          "geo": {
           "bgcolor": "white",
           "lakecolor": "white",
           "landcolor": "#E5ECF6",
           "showlakes": true,
           "showland": true,
           "subunitcolor": "white"
          },
          "hoverlabel": {
           "align": "left"
          },
          "hovermode": "closest",
          "mapbox": {
           "style": "light"
          },
          "paper_bgcolor": "white",
          "plot_bgcolor": "#E5ECF6",
          "polar": {
           "angularaxis": {
            "gridcolor": "white",
            "linecolor": "white",
            "ticks": ""
           },
           "bgcolor": "#E5ECF6",
           "radialaxis": {
            "gridcolor": "white",
            "linecolor": "white",
            "ticks": ""
           }
          },
          "scene": {
           "xaxis": {
            "backgroundcolor": "#E5ECF6",
            "gridcolor": "white",
            "gridwidth": 2,
            "linecolor": "white",
            "showbackground": true,
            "ticks": "",
            "zerolinecolor": "white"
           },
           "yaxis": {
            "backgroundcolor": "#E5ECF6",
            "gridcolor": "white",
            "gridwidth": 2,
            "linecolor": "white",
            "showbackground": true,
            "ticks": "",
            "zerolinecolor": "white"
           },
           "zaxis": {
            "backgroundcolor": "#E5ECF6",
            "gridcolor": "white",
            "gridwidth": 2,
            "linecolor": "white",
            "showbackground": true,
            "ticks": "",
            "zerolinecolor": "white"
           }
          },
          "shapedefaults": {
           "line": {
            "color": "#2a3f5f"
           }
          },
          "ternary": {
           "aaxis": {
            "gridcolor": "white",
            "linecolor": "white",
            "ticks": ""
           },
           "baxis": {
            "gridcolor": "white",
            "linecolor": "white",
            "ticks": ""
           },
           "bgcolor": "#E5ECF6",
           "caxis": {
            "gridcolor": "white",
            "linecolor": "white",
            "ticks": ""
           }
          },
          "title": {
           "x": 0.05
          },
          "xaxis": {
           "automargin": true,
           "gridcolor": "white",
           "linecolor": "white",
           "ticks": "",
           "title": {
            "standoff": 15
           },
           "zerolinecolor": "white",
           "zerolinewidth": 2
          },
          "yaxis": {
           "automargin": true,
           "gridcolor": "white",
           "linecolor": "white",
           "ticks": "",
           "title": {
            "standoff": 15
           },
           "zerolinecolor": "white",
           "zerolinewidth": 2
          }
         }
        },
        "title": {
         "font": {
          "size": 12
         },
         "text": "Convergence classical optimizer"
        },
        "xaxis": {
         "title": {
          "text": "iteration"
         }
        }
       }
      },
      "text/html": [
       "<div>                            <div id=\"e8771a46-1de4-4635-8f24-fc74ad24d1ff\" class=\"plotly-graph-div\" style=\"height:525px; width:100%;\"></div>            <script type=\"text/javascript\">                require([\"plotly\"], function(Plotly) {                    window.PLOTLYENV=window.PLOTLYENV || {};                                    if (document.getElementById(\"e8771a46-1de4-4635-8f24-fc74ad24d1ff\")) {                    Plotly.newPlot(                        \"e8771a46-1de4-4635-8f24-fc74ad24d1ff\",                        [{\"name\":\"expectation value\",\"y\":[47.79022000000002,23.54374000000001,47.58998000000001,20.688700000000015,34.27312000000001,35.04498000000001,26.955200000000012,28.404700000000012,31.453080000000014,24.367520000000013,34.627240000000015,27.22886000000001,22.286880000000007,23.132520000000014,25.308260000000015,23.866400000000013,21.547260000000012,19.375520000000016,20.127320000000015,19.666140000000013,19.811900000000023,18.84796000000001,19.416480000000018,19.771820000000016,18.896300000000014,18.84460000000002,18.870660000000015,19.034920000000007,19.160040000000013,18.86412000000002,18.770820000000015,19.037440000000014,18.895740000000014,19.068360000000013,18.901060000000008,18.865040000000015,18.96578000000001,18.72096000000002,18.72164000000001,18.617880000000014,18.65998000000001,18.606520000000025,18.767060000000008,18.76856000000001,18.71528000000001,18.876060000000017],\"type\":\"scatter\"},{\"name\":\"cvar expectation value\",\"y\":[11.11650000000001,8.291750000000011,8.982000000000017,6.476750000000013,9.09800000000001,7.58475000000001,6.5730000000000075,7.792750000000009,6.129000000000008,6.3385000000000105,7.051500000000008,6.269250000000007,7.6575000000000095,6.015000000000011,6.000000000000011,6.000000000000011,6.27450000000001,6.000000000000011,6.2775000000000105,6.000000000000011,6.26700000000001,6.000000000000011,6.000000000000011,6.000000000000011,6.000000000000011,6.000000000000011,6.000000000000011,6.000000000000011,6.000000000000011,6.000000000000011,6.000000000000011,6.000000000000011,6.000000000000011,6.000000000000011,6.000000000000011],\"type\":\"scatter\"}],                        {\"template\":{\"data\":{\"histogram2dcontour\":[{\"type\":\"histogram2dcontour\",\"colorbar\":{\"outlinewidth\":0,\"ticks\":\"\"},\"colorscale\":[[0.0,\"#0d0887\"],[0.1111111111111111,\"#46039f\"],[0.2222222222222222,\"#7201a8\"],[0.3333333333333333,\"#9c179e\"],[0.4444444444444444,\"#bd3786\"],[0.5555555555555556,\"#d8576b\"],[0.6666666666666666,\"#ed7953\"],[0.7777777777777778,\"#fb9f3a\"],[0.8888888888888888,\"#fdca26\"],[1.0,\"#f0f921\"]]}],\"choropleth\":[{\"type\":\"choropleth\",\"colorbar\":{\"outlinewidth\":0,\"ticks\":\"\"}}],\"histogram2d\":[{\"type\":\"histogram2d\",\"colorbar\":{\"outlinewidth\":0,\"ticks\":\"\"},\"colorscale\":[[0.0,\"#0d0887\"],[0.1111111111111111,\"#46039f\"],[0.2222222222222222,\"#7201a8\"],[0.3333333333333333,\"#9c179e\"],[0.4444444444444444,\"#bd3786\"],[0.5555555555555556,\"#d8576b\"],[0.6666666666666666,\"#ed7953\"],[0.7777777777777778,\"#fb9f3a\"],[0.8888888888888888,\"#fdca26\"],[1.0,\"#f0f921\"]]}],\"heatmap\":[{\"type\":\"heatmap\",\"colorbar\":{\"outlinewidth\":0,\"ticks\":\"\"},\"colorscale\":[[0.0,\"#0d0887\"],[0.1111111111111111,\"#46039f\"],[0.2222222222222222,\"#7201a8\"],[0.3333333333333333,\"#9c179e\"],[0.4444444444444444,\"#bd3786\"],[0.5555555555555556,\"#d8576b\"],[0.6666666666666666,\"#ed7953\"],[0.7777777777777778,\"#fb9f3a\"],[0.8888888888888888,\"#fdca26\"],[1.0,\"#f0f921\"]]}],\"heatmapgl\":[{\"type\":\"heatmapgl\",\"colorbar\":{\"outlinewidth\":0,\"ticks\":\"\"},\"colorscale\":[[0.0,\"#0d0887\"],[0.1111111111111111,\"#46039f\"],[0.2222222222222222,\"#7201a8\"],[0.3333333333333333,\"#9c179e\"],[0.4444444444444444,\"#bd3786\"],[0.5555555555555556,\"#d8576b\"],[0.6666666666666666,\"#ed7953\"],[0.7777777777777778,\"#fb9f3a\"],[0.8888888888888888,\"#fdca26\"],[1.0,\"#f0f921\"]]}],\"contourcarpet\":[{\"type\":\"contourcarpet\",\"colorbar\":{\"outlinewidth\":0,\"ticks\":\"\"}}],\"contour\":[{\"type\":\"contour\",\"colorbar\":{\"outlinewidth\":0,\"ticks\":\"\"},\"colorscale\":[[0.0,\"#0d0887\"],[0.1111111111111111,\"#46039f\"],[0.2222222222222222,\"#7201a8\"],[0.3333333333333333,\"#9c179e\"],[0.4444444444444444,\"#bd3786\"],[0.5555555555555556,\"#d8576b\"],[0.6666666666666666,\"#ed7953\"],[0.7777777777777778,\"#fb9f3a\"],[0.8888888888888888,\"#fdca26\"],[1.0,\"#f0f921\"]]}],\"surface\":[{\"type\":\"surface\",\"colorbar\":{\"outlinewidth\":0,\"ticks\":\"\"},\"colorscale\":[[0.0,\"#0d0887\"],[0.1111111111111111,\"#46039f\"],[0.2222222222222222,\"#7201a8\"],[0.3333333333333333,\"#9c179e\"],[0.4444444444444444,\"#bd3786\"],[0.5555555555555556,\"#d8576b\"],[0.6666666666666666,\"#ed7953\"],[0.7777777777777778,\"#fb9f3a\"],[0.8888888888888888,\"#fdca26\"],[1.0,\"#f0f921\"]]}],\"mesh3d\":[{\"type\":\"mesh3d\",\"colorbar\":{\"outlinewidth\":0,\"ticks\":\"\"}}],\"scatter\":[{\"fillpattern\":{\"fillmode\":\"overlay\",\"size\":10,\"solidity\":0.2},\"type\":\"scatter\"}],\"parcoords\":[{\"type\":\"parcoords\",\"line\":{\"colorbar\":{\"outlinewidth\":0,\"ticks\":\"\"}}}],\"scatterpolargl\":[{\"type\":\"scatterpolargl\",\"marker\":{\"colorbar\":{\"outlinewidth\":0,\"ticks\":\"\"}}}],\"bar\":[{\"error_x\":{\"color\":\"#2a3f5f\"},\"error_y\":{\"color\":\"#2a3f5f\"},\"marker\":{\"line\":{\"color\":\"#E5ECF6\",\"width\":0.5},\"pattern\":{\"fillmode\":\"overlay\",\"size\":10,\"solidity\":0.2}},\"type\":\"bar\"}],\"scattergeo\":[{\"type\":\"scattergeo\",\"marker\":{\"colorbar\":{\"outlinewidth\":0,\"ticks\":\"\"}}}],\"scatterpolar\":[{\"type\":\"scatterpolar\",\"marker\":{\"colorbar\":{\"outlinewidth\":0,\"ticks\":\"\"}}}],\"histogram\":[{\"marker\":{\"pattern\":{\"fillmode\":\"overlay\",\"size\":10,\"solidity\":0.2}},\"type\":\"histogram\"}],\"scattergl\":[{\"type\":\"scattergl\",\"marker\":{\"colorbar\":{\"outlinewidth\":0,\"ticks\":\"\"}}}],\"scatter3d\":[{\"type\":\"scatter3d\",\"line\":{\"colorbar\":{\"outlinewidth\":0,\"ticks\":\"\"}},\"marker\":{\"colorbar\":{\"outlinewidth\":0,\"ticks\":\"\"}}}],\"scattermapbox\":[{\"type\":\"scattermapbox\",\"marker\":{\"colorbar\":{\"outlinewidth\":0,\"ticks\":\"\"}}}],\"scatterternary\":[{\"type\":\"scatterternary\",\"marker\":{\"colorbar\":{\"outlinewidth\":0,\"ticks\":\"\"}}}],\"scattercarpet\":[{\"type\":\"scattercarpet\",\"marker\":{\"colorbar\":{\"outlinewidth\":0,\"ticks\":\"\"}}}],\"carpet\":[{\"aaxis\":{\"endlinecolor\":\"#2a3f5f\",\"gridcolor\":\"white\",\"linecolor\":\"white\",\"minorgridcolor\":\"white\",\"startlinecolor\":\"#2a3f5f\"},\"baxis\":{\"endlinecolor\":\"#2a3f5f\",\"gridcolor\":\"white\",\"linecolor\":\"white\",\"minorgridcolor\":\"white\",\"startlinecolor\":\"#2a3f5f\"},\"type\":\"carpet\"}],\"table\":[{\"cells\":{\"fill\":{\"color\":\"#EBF0F8\"},\"line\":{\"color\":\"white\"}},\"header\":{\"fill\":{\"color\":\"#C8D4E3\"},\"line\":{\"color\":\"white\"}},\"type\":\"table\"}],\"barpolar\":[{\"marker\":{\"line\":{\"color\":\"#E5ECF6\",\"width\":0.5},\"pattern\":{\"fillmode\":\"overlay\",\"size\":10,\"solidity\":0.2}},\"type\":\"barpolar\"}],\"pie\":[{\"automargin\":true,\"type\":\"pie\"}]},\"layout\":{\"autotypenumbers\":\"strict\",\"colorway\":[\"#636efa\",\"#EF553B\",\"#00cc96\",\"#ab63fa\",\"#FFA15A\",\"#19d3f3\",\"#FF6692\",\"#B6E880\",\"#FF97FF\",\"#FECB52\"],\"font\":{\"color\":\"#2a3f5f\"},\"hovermode\":\"closest\",\"hoverlabel\":{\"align\":\"left\"},\"paper_bgcolor\":\"white\",\"plot_bgcolor\":\"#E5ECF6\",\"polar\":{\"bgcolor\":\"#E5ECF6\",\"angularaxis\":{\"gridcolor\":\"white\",\"linecolor\":\"white\",\"ticks\":\"\"},\"radialaxis\":{\"gridcolor\":\"white\",\"linecolor\":\"white\",\"ticks\":\"\"}},\"ternary\":{\"bgcolor\":\"#E5ECF6\",\"aaxis\":{\"gridcolor\":\"white\",\"linecolor\":\"white\",\"ticks\":\"\"},\"baxis\":{\"gridcolor\":\"white\",\"linecolor\":\"white\",\"ticks\":\"\"},\"caxis\":{\"gridcolor\":\"white\",\"linecolor\":\"white\",\"ticks\":\"\"}},\"coloraxis\":{\"colorbar\":{\"outlinewidth\":0,\"ticks\":\"\"}},\"colorscale\":{\"sequential\":[[0.0,\"#0d0887\"],[0.1111111111111111,\"#46039f\"],[0.2222222222222222,\"#7201a8\"],[0.3333333333333333,\"#9c179e\"],[0.4444444444444444,\"#bd3786\"],[0.5555555555555556,\"#d8576b\"],[0.6666666666666666,\"#ed7953\"],[0.7777777777777778,\"#fb9f3a\"],[0.8888888888888888,\"#fdca26\"],[1.0,\"#f0f921\"]],\"sequentialminus\":[[0.0,\"#0d0887\"],[0.1111111111111111,\"#46039f\"],[0.2222222222222222,\"#7201a8\"],[0.3333333333333333,\"#9c179e\"],[0.4444444444444444,\"#bd3786\"],[0.5555555555555556,\"#d8576b\"],[0.6666666666666666,\"#ed7953\"],[0.7777777777777778,\"#fb9f3a\"],[0.8888888888888888,\"#fdca26\"],[1.0,\"#f0f921\"]],\"diverging\":[[0,\"#8e0152\"],[0.1,\"#c51b7d\"],[0.2,\"#de77ae\"],[0.3,\"#f1b6da\"],[0.4,\"#fde0ef\"],[0.5,\"#f7f7f7\"],[0.6,\"#e6f5d0\"],[0.7,\"#b8e186\"],[0.8,\"#7fbc41\"],[0.9,\"#4d9221\"],[1,\"#276419\"]]},\"xaxis\":{\"gridcolor\":\"white\",\"linecolor\":\"white\",\"ticks\":\"\",\"title\":{\"standoff\":15},\"zerolinecolor\":\"white\",\"automargin\":true,\"zerolinewidth\":2},\"yaxis\":{\"gridcolor\":\"white\",\"linecolor\":\"white\",\"ticks\":\"\",\"title\":{\"standoff\":15},\"zerolinecolor\":\"white\",\"automargin\":true,\"zerolinewidth\":2},\"scene\":{\"xaxis\":{\"backgroundcolor\":\"#E5ECF6\",\"gridcolor\":\"white\",\"linecolor\":\"white\",\"showbackground\":true,\"ticks\":\"\",\"zerolinecolor\":\"white\",\"gridwidth\":2},\"yaxis\":{\"backgroundcolor\":\"#E5ECF6\",\"gridcolor\":\"white\",\"linecolor\":\"white\",\"showbackground\":true,\"ticks\":\"\",\"zerolinecolor\":\"white\",\"gridwidth\":2},\"zaxis\":{\"backgroundcolor\":\"#E5ECF6\",\"gridcolor\":\"white\",\"linecolor\":\"white\",\"showbackground\":true,\"ticks\":\"\",\"zerolinecolor\":\"white\",\"gridwidth\":2}},\"shapedefaults\":{\"line\":{\"color\":\"#2a3f5f\"}},\"annotationdefaults\":{\"arrowcolor\":\"#2a3f5f\",\"arrowhead\":0,\"arrowwidth\":1},\"geo\":{\"bgcolor\":\"white\",\"landcolor\":\"#E5ECF6\",\"subunitcolor\":\"white\",\"showland\":true,\"showlakes\":true,\"lakecolor\":\"white\"},\"title\":{\"x\":0.05},\"mapbox\":{\"style\":\"light\"}}},\"xaxis\":{\"title\":{\"text\":\"iteration\"}},\"title\":{\"text\":\"Convergence classical optimizer\",\"font\":{\"size\":12}}},                        {\"responsive\": true}                    ).then(function(){\n",
       "                            \n",
       "var gd = document.getElementById('e8771a46-1de4-4635-8f24-fc74ad24d1ff');\n",
       "var x = new MutationObserver(function (mutations, observer) {{\n",
       "        var display = window.getComputedStyle(gd).display;\n",
       "        if (!display || display === 'none') {{\n",
       "            console.log([gd, 'removed!']);\n",
       "            Plotly.purge(gd);\n",
       "            observer.disconnect();\n",
       "        }}\n",
       "}});\n",
       "\n",
       "// Listen for the removal of the full notebook cells\n",
       "var notebookContainer = gd.closest('#notebook-container');\n",
       "if (notebookContainer) {{\n",
       "    x.observe(notebookContainer, {childList: true});\n",
       "}}\n",
       "\n",
       "// Listen for the clearing of the current output cell\n",
       "var outputEl = gd.closest('.output');\n",
       "if (outputEl) {{\n",
       "    x.observe(outputEl, {childList: true});\n",
       "}}\n",
       "\n",
       "                        })                };                });            </script>        </div>"
      ]
     },
     "metadata": {},
     "output_type": "display_data"
    }
   ],
   "source": [
    "fig = go.Figure()\n",
    "fig.add_trace(go.Scatter(\n",
    "    y=expectation_values,\n",
    "    name=\"expectation value\"))\n",
    "fig.add_trace(go.Scatter(\n",
    "    y=expectation_values_cvar,\n",
    "    name=\"cvar expectation value\"))\n",
    "fig.update_xaxes(\n",
    "    title=\"iteration\")\n",
    "fig.update_layout(\n",
    "    title=\"Convergence classical optimizer\",\n",
    "    title_font_size=12)"
   ]
  },
  {
   "cell_type": "markdown",
   "id": "e9661def",
   "metadata": {},
   "source": [
    "## Further Examples"
   ]
  },
  {
   "cell_type": "markdown",
   "id": "b2e6d4aa",
   "metadata": {},
   "source": [
    "The following section examines the behavior for different $\\alpha$."
   ]
  },
  {
   "cell_type": "markdown",
   "id": "72cb8a05",
   "metadata": {},
   "source": [
    "For $\\alpha = 0$:\n",
    "\n",
    "<img src=\"images/cvar/alpha_0.svg\" width=\"1500\" />"
   ]
  },
  {
   "cell_type": "markdown",
   "id": "d97cfef7",
   "metadata": {},
   "source": [
    "For $\\alpha = 0.2$:\n",
    "\n",
    "<img src=\"images/cvar/alpha_0p2.svg\" width=\"1500\" />"
   ]
  },
  {
   "cell_type": "markdown",
   "id": "c3e409aa",
   "metadata": {},
   "source": [
    "For $\\alpha = 0.4$:\n",
    "\n",
    "<img src=\"images/cvar/alpha_0p4.svg\" width=\"1500\" />"
   ]
  },
  {
   "cell_type": "markdown",
   "id": "3d2ed762",
   "metadata": {},
   "source": [
    "For $\\alpha = 0.6$:\n",
    "\n",
    "<img src=\"images/cvar/alpha_0p6.svg\" width=\"1500\" />"
   ]
  },
  {
   "cell_type": "markdown",
   "id": "c630fdda",
   "metadata": {},
   "source": [
    "For $\\alpha = 0.8$:\n",
    "\n",
    "<img src=\"images/cvar/alpha_0p8.svg\" width=\"1500\" />"
   ]
  },
  {
   "cell_type": "markdown",
   "id": "40477e5b",
   "metadata": {},
   "source": [
    "For $\\alpha = 1$:\n",
    "\n",
    "<img src=\"images/cvar/alpha_1.svg\" width=\"1500\" />"
   ]
  },
  {
   "cell_type": "markdown",
   "id": "19e8cd3a",
   "metadata": {},
   "source": [
    "# Literature <a class=\"tocSkip\"/>"
   ]
  },
  {
   "cell_type": "markdown",
   "id": "d26da6c9",
   "metadata": {},
   "source": [
    "[1] *Barkoutsos, P. K., Nannicini, G., Robert, A., Tavernelli, I., and Woerner, S. 2020. Improving\n",
    "Variational Quantum Optimization using CVaR. Quantum 4, 256*, see [link](https://arxiv.org/abs/1907.04769)."
   ]
  },
  {
   "cell_type": "markdown",
   "id": "a21ddee5",
   "metadata": {},
   "source": [
    "---\n",
    "Authors: <br>\n",
    "Andreas Sturm, andreas.sturm@iao.fraunhofer.de <br>\n",
    "Niclas Schillo, niclas.schillo@iao.fraunhofer.de\n",
    "\n",
    "(c) Fraunhofer IAO\n",
    "\n",
    "---"
   ]
  }
 ],
 "metadata": {
  "kernelspec": {
   "display_name": "Python 3.8.10 64-bit",
   "language": "python",
   "name": "python3"
  },
  "language_info": {
   "codemirror_mode": {
    "name": "ipython",
    "version": 3
   },
   "file_extension": ".py",
   "mimetype": "text/x-python",
   "name": "python",
   "nbconvert_exporter": "python",
   "pygments_lexer": "ipython3",
   "version": "3.8.10"
  },
  "toc": {
   "base_numbering": 1,
   "nav_menu": {},
   "number_sections": true,
   "sideBar": true,
   "skip_h1_title": false,
   "title_cell": "Table of Contents",
   "title_sidebar": "Contents",
   "toc_cell": false,
   "toc_position": {},
   "toc_section_display": true,
   "toc_window_display": false
  },
  "vscode": {
   "interpreter": {
    "hash": "916dbcbb3f70747c44a77c7bcd40155683ae19c65e1c03b4aa3499c5328201f1"
   }
  }
 },
 "nbformat": 4,
 "nbformat_minor": 5
}
